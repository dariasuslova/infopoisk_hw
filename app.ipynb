{
 "cells": [
  {
   "cell_type": "code",
   "execution_count": null,
   "metadata": {
    "scrolled": true
   },
   "outputs": [
    {
     "name": "stderr",
     "output_type": "stream",
     "text": [
      " * Running on http://127.0.0.1:5000/ (Press CTRL+C to quit)\n",
      "127.0.0.1 - - [11/Oct/2017 20:36:44] \"GET / HTTP/1.1\" 200 -\n"
     ]
    }
   ],
   "source": [
    "from math import log\n",
    "from pymystem3 import Mystem\n",
    "m = Mystem()\n",
    "import re\n",
    "import os\n",
    "import collections\n",
    "from collections import defaultdict, Counter\n",
    "from flask import Flask, request, render_template\n",
    "app = Flask(__name__)\n",
    "\n",
    "\n",
    "k1 = 2.0\n",
    "b = 0.75\n",
    "\n",
    "def score_BM25(n, qf, N, dl, avdl):\n",
    "    K = compute_K(dl, avdl)\n",
    "    IDF = log((N - n + 0.5) / (n + 0.5))\n",
    "    frac = ((k1 + 1) * qf) / (K + qf)\n",
    "    return IDF * frac\n",
    "\n",
    "\n",
    "def compute_K(dl, avdl):\n",
    "    return k1 * ((1-b) + b * (float(dl)/float(avdl)))\n",
    "\n",
    "def search_words(query):\n",
    "    stop_words = ['а', 'будем', 'будет', 'будете', 'будешь', 'буду', 'будут', 'будучи', 'будь', 'будьте', 'бы', 'был', 'была', 'были', 'было', 'быть', 'в', 'вам', 'вами', 'вас', 'весь', 'во', 'вот', 'все', 'всё', 'всего', 'всей', 'всем', 'всём', 'всеми', 'всему', 'всех', 'всею', 'всея', 'всю', 'вся', 'вы', 'да', 'для', 'до', 'его', 'едим', 'едят', 'ее', 'её', 'ей', 'ел', 'ела', 'ем', 'ему', 'емъ', 'если', 'ест', 'есть', 'ешь', 'еще', 'ещё', 'ею', 'же', 'за', 'и', 'из', 'или', 'им', 'ими', 'имъ', 'их', 'к', 'как', 'кем', 'ко', 'когда', 'кого', 'ком', 'кому', 'комья', 'которая', 'которого', 'которое', 'которой', 'котором', 'которому', 'которою', 'которую', 'которые', 'который', 'которым', 'которыми', 'которых', 'кто', 'меня', 'мне', 'мной', 'мною', 'мог', 'моги', 'могите', 'могла', 'могли', 'могло', 'могу', 'могут', 'мое', 'моё', 'моего', 'моей', 'моем', 'моём', 'моему', 'моею', 'можем', 'может', 'можете', 'можешь', 'мои', 'мой', 'моим', 'моими', 'моих', 'мочь', 'мою', 'моя', 'мы', 'на', 'нам', 'нами', 'нас', 'наса', 'наш', 'наша', 'наше', 'нашего', 'нашей', 'нашем', 'нашему', 'нашею', 'наши', 'нашим', 'нашими', 'наших', 'нашу', 'не', 'него', 'нее', 'неё', 'ней', 'нем', 'нём', 'нему', 'нет', 'нею', 'ним', 'ними', 'них', 'но', 'о', 'об', 'один', 'одна', 'одни', 'одним', 'одними', 'одних', 'одно', 'одного', 'одной', 'одном', 'одному', 'одною', 'одну', 'он', 'она', 'оне', 'они', 'оно', 'от', 'по', 'при', 'с', 'сам', 'сама', 'сами', 'самим', 'самими', 'самих', 'само', 'самого', 'самом', 'самому', 'саму', 'свое', 'своё', 'своего', 'своей', 'своем', 'своём', 'своему', 'своею', 'свои', 'свой', 'своим', 'своими', 'своих', 'свою', 'своя', 'себе', 'себя', 'собой', 'собою', 'та', 'так', 'такая', 'такие', 'таким', 'такими', 'таких', 'такого', 'такое', 'такой', 'таком', 'такому', 'такою', 'такую', 'те', 'тебе', 'тебя', 'тем', 'теми', 'тех', 'то', 'тобой', 'тобою', 'того', 'той', 'только', 'том', 'томах', 'тому', 'тот', 'тою', 'ту', 'ты', 'у', 'уже', 'чего', 'чем', 'чём', 'чему', 'что', 'чтобы', 'эта', 'эти', 'этим', 'этими', 'этих', 'это', 'этого', 'этой', 'этом', 'этому', 'этот', 'этою', 'эту', 'я']\n",
    "    query_cleaned = ' '.join([word for word in query.split() if word not in stop_words])\n",
    "    lemmas = m.lemmatize(query_cleaned)\n",
    "    lemmas1 = ''.join(lemmas)\n",
    "    query_words = lemmas1.split()\n",
    "    d = defaultdict(list)\n",
    "    j = 1\n",
    "    dl_sum = 0\n",
    "    texts_dl = []\n",
    "    for root, dirs, files in os.walk('texts'):\n",
    "        for fname in files:\n",
    "            if fname.endswith('.txt'):\n",
    "                f = open (root + '/' + fname, 'r', encoding = 'utf-8')\n",
    "                text = f.read()\n",
    "                lemmast = m.lemmatize(text)\n",
    "                lemmast1 = ''.join(lemmas)\n",
    "                words = lemmast1.split()\n",
    "                for i in range(len(words)):\n",
    "                    words[i] = words[i].strip('(),./?!|\\;:%=+ — \"<>[]')\n",
    "                texts_dl.append(len(words))\n",
    "                k = Counter(words)\n",
    "                for word in words:\n",
    "                    if (j, k[word]) not in d[word]:\n",
    "                        d[word].append((j, k[word]))\n",
    "                dl_sum += len(words)\n",
    "                j+=1\n",
    "    \n",
    "    avdl = int(dl_sum/1000)\n",
    "    itog = defaultdict(float)\n",
    "    for qw in query_words:\n",
    "        if qw in d:\n",
    "            r = d[qw]\n",
    "            for it in r:\n",
    "                tx = int(it[0])\n",
    "                n = int(it[1])\n",
    "                res = score_BM25(n, len(r), 1000, int(texts_dl[tx-1]), avdl)\n",
    "                itog[tx]+=res\n",
    "\n",
    "    b = list(itog.items())\n",
    "    b.sort(key=lambda item: item[1], reverse=True)\n",
    "    rang_texts = b[:10]\n",
    "    links = []\n",
    "    for txt in rang_texts:\n",
    "        nazv = str(txt[0])\n",
    "        f1 = open ('C:/Users/Qwert/Documents/инфопоиск/texts'+ '/' + nazv + '.txt', 'r', encoding = 'utf-8')\n",
    "        text1 = f1.read()  \n",
    "        ur = re.findall(r'@url (http://.*?html)', text1)[0]\n",
    "        if ur:\n",
    "            links.append((ur, txt[1]))\n",
    "    return links\n",
    "\n",
    "@app.route('/', methods=['get','post'])\n",
    "def index():\n",
    "    if request.form:\n",
    "        query = request.form['query']\n",
    "        links = search_words(query)\n",
    "        return render_template('index.html',**locals())\n",
    "    return render_template('index.html')\n",
    "\n",
    "if __name__ == '__main__':\n",
    "    app.run()"
   ]
  },
  {
   "cell_type": "code",
   "execution_count": null,
   "metadata": {
    "collapsed": true
   },
   "outputs": [],
   "source": []
  }
 ],
 "metadata": {
  "kernelspec": {
   "display_name": "Python 3",
   "language": "python",
   "name": "python3"
  },
  "language_info": {
   "codemirror_mode": {
    "name": "ipython",
    "version": 3
   },
   "file_extension": ".py",
   "mimetype": "text/x-python",
   "name": "python",
   "nbconvert_exporter": "python",
   "pygments_lexer": "ipython3",
   "version": "3.6.2"
  }
 },
 "nbformat": 4,
 "nbformat_minor": 2
}
