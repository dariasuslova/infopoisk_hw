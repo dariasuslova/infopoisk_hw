{
 "cells": [
  {
   "cell_type": "code",
   "execution_count": 1,
   "metadata": {
    "collapsed": true
   },
   "outputs": [],
   "source": [
    "import requests\n",
    "from bs4 import BeautifulSoup\n",
    "from IPython.display import HTML, display"
   ]
  },
  {
   "cell_type": "code",
   "execution_count": null,
   "metadata": {
    "collapsed": true
   },
   "outputs": [],
   "source": [
    "requests??"
   ]
  },
  {
   "cell_type": "code",
   "execution_count": 2,
   "metadata": {
    "collapsed": true
   },
   "outputs": [],
   "source": [
    "req = requests.get('http://hse.ru')"
   ]
  },
  {
   "cell_type": "code",
   "execution_count": 3,
   "metadata": {},
   "outputs": [
    {
     "data": {
      "text/plain": [
       "'https://www.hse.ru/'"
      ]
     },
     "execution_count": 3,
     "metadata": {},
     "output_type": "execute_result"
    }
   ],
   "source": [
    "req.url"
   ]
  },
  {
   "cell_type": "code",
   "execution_count": 4,
   "metadata": {
    "collapsed": true
   },
   "outputs": [
    {
     "data": {
      "text/plain": [
       "'<!DOCTYPE html>\\n<html>\\n\\n\\n\\n\\n\\n\\n\\n\\n\\n\\n<head>\\n\\t<title>Национальный исследовательский университет Высшая школа экономики</title>\\n\\t<meta charset=\"utf-8\" />\\n\\t<meta name=\"viewport\" content=\"width=device-width, initial-scale=1\">\\n\\t<meta http-equiv=\"X-UA-Compatible\" content=\"IE=Edge\" />\\n\\t<meta name=\"yandex-verification\" content=\"25e3420f8bfc397e\" />\\n\\t<meta name=\"theme-color\" content=\"#1658DA\"/>\\n\\t<link rel=\"manifest\" href=\"https://www.hse.ru/f/src/manifest/manifest_ru.json\">\\n\\t<link rel=\"stylesheet\" href=\"/f/src/global/css/main_fonts.css\" />\\n\\t<link rel=\"stylesheet\" href=\"/f/src/global/css/main_icons.css\" />\\n\\t<link rel=\"stylesheet\" href=\"/f/src/global/css/main_forms.css\" />\\n\\t<link rel=\"stylesheet\" href=\"/f/src/global/css/fotorama.css\" />\\n\\t<link rel=\"stylesheet\" href=\"/f/src/global/css/sitemap.css\" />\\n\\t<link rel=\"stylesheet\" href=\"/f/src/global/css/main_hse.css\" />\\n\\t<link rel=\"stylesheet\" href=\"/f/src/home/main_en.css\" />\\n\\t<link rel=\"stylesheet\" href=\"/f/src/home/owl.carousel.css\" />\\n\\t<link rel=\"styles'"
      ]
     },
     "execution_count": 4,
     "metadata": {},
     "output_type": "execute_result"
    }
   ],
   "source": [
    "req.text[:1000]"
   ]
  },
  {
   "cell_type": "code",
   "execution_count": 21,
   "metadata": {
    "collapsed": true
   },
   "outputs": [],
   "source": [
    "def google(query):\n",
    "    url = 'http://google.ru/search?q={}'.format(query)\n",
    "    req = requests.get(url)\n",
    "    \n",
    "    soup = BeautifulSoup(req.text, 'lxml')\n",
    "    \n",
    "    for i, h in enumerate(soup.findAll('h3', attrs = {'class':'r'})):\n",
    "        link = h.find('a')\n",
    "        if link:\n",
    "            link['href'] = 'http://google.ru/' + link['href'] \n",
    "            link = '<i>{}.</i>  {}'.format(i, link)\n",
    "            #display(HTML(str(link)))"
   ]
  },
  {
   "cell_type": "code",
   "execution_count": 22,
   "metadata": {
    "collapsed": true
   },
   "outputs": [
    {
     "name": "stdout",
     "output_type": "stream",
     "text": [
      "<!DOCTYPE html>\n",
      "<html itemscope=\"\" itemtype=\"http://schema.org/SearchResultsPage\" lang=\"ru\"><head><meta content=\"text/html; charset=utf-8\" http-equiv=\"Content-Type\"/><meta content=\"/images/branding/googleg/1x/googleg_standard_color_128dp.png\" itemprop=\"image\"/><link href=\"/images/branding/product/ico/googleg_lodp.ico\" rel=\"shortcut icon\"/><title>hse - Поиск в Google</title><style>#gbar,#guser{font-size:13px;padding-top:1px !important;}#gbar{height:22px}#guser{padding-bottom:7px !important;text-align:right}.gbh,.gbd{border-top:1px solid #c9d7f1;font-size:1px}.gbh{height:0;position:absolute;top:24px;width:100%}@media all{.gb1{height:22px;margin-right:.5em;vertical-align:top}#gbar{float:left}}a.gb1,a.gb4{text-decoration:underline !important}a.gb1,a.gb4{color:#00c !important}.gbi .gb4{color:#dd8e27 !important}.gbf .gb4{color:#900 !important} </style><style>.star{float:left;margin-top:1px;overflow:hidden}._yhd{font-size:11px}.j{width:34em}body,td,div,.p,a{font-family:arial,sans-serif;tap-highlight-color:rgba(255,255,255,0)}body{margin:0}a img{border:0}#gbar{float:left;height:22px;padding-left:2px;font-size:13px}.gsfi,.gsfs{font-size:17px}.w,.q:active,.q:visited,.tbotu{color:#11c}a.gl{text-decoration:none}#foot{padding:0 8px}#foot a{white-space:nowrap}h3{font-size:16px;font-weight:normal;margin:0;padding:0}#res h3{display:inline}.hd{height:1px;position:absolute;top:-1000em}.g,body,html,table,.std{font-size:13px}.g{margin-bottom:23px;margin-top:0;zoom:1}ol li,ul li{list-style:none}h1,ol,ul,li{margin:0;padding:0}.e{margin:2px 0 0.75em}#leftnav a{text-decoration:none}#leftnav h2{color:#767676;font-weight:normal;margin:0}#nav{border-collapse:collapse;margin-top:17px;text-align:left}#nav td{text-align:center}.nobr{white-space:nowrap}.ts{border-collapse:collapse}.s br{display:none}.csb{display:block;height:40px}.images_table td{line-height:17px;padding-bottom:16px}.images_table img{border:1px solid #ccc;padding:1px}#tbd,#abd{display:block;min-height:1px}#abd{padding-top:3px}#tbd li{display:inline}._ITd,._JTd{margin-bottom:8px}#tbd .tbt li{display:block;font-size:13px;line-height:1.2;padding-bottom:3px;padding-left:8px;text-indent:-8px}.tbos,.b{font-weight:bold}em{font-weight:bold;font-style:normal}.mime{color:#1a0dab;font-weight:bold;font-size:x-small}.soc a{text-decoration:none}.soc{color:#808080}._kgd{color:#e7711b}#_vBb{border:1px solid #e0e0e0;margin-left:-8px;margin-right:-8px;padding:15px 20px 5px}._m3b{font-size:32px}._eGc{color:#777;font-size:16px;margin-top:5px}._H0d{color:#777;font-size:14px;margin-top:5px}._HLh{border:1px solid #e0e0e0;padding-left:20px}._Tki{border:1px solid #e0e0e0;padding:5px 20px}#vob{border:1px solid #e0e0e0;padding:15px 15px}#_Nyc{font-size:22px;line-height:22px;padding-bottom:5px}#vob_st{line-height:1.24}._Tsb{border-width:1px;border-style:solid;border-color:#eee;background-color:#fff;position:relative;margin-bottom:26px}._Peb,._Qeb,._Usb{font-family:Arial;font-weight:lighter}._Peb{margin-bottom:5px}._Peb{font-size:xx-large}._Qeb{font-size:medium}._Usb{font-size:small}._Tsb{margin-left:-8px;margin-right:-15px;padding:20px 20px 24px}._rOc{border-spacing:0px 2px}._sOc{max-width:380px;text-overflow:ellipsis;white-space:nowrap;overflow:hidden;padding-left:0px}._v9b{padding-left:15px;white-space:nowrap;color:#666}._pOc{padding-left:0px}._rkc{color:#212121}._HOb{color:#878787}._lMf{color:#093}._jMf{color:#c00}._kMf{padding:1px}._CKg{color:#dd4b39}.gssb_a{padding:0 10px !important}.gssb_c{left:132px !important;right:295px !important;top:78px !important;width:572px !important}.gssb_c table{font-size:16px !important}.gssb_e{border:1px solid #ccc !important;border-top-color:#d9d9d9 !important}.gssb_i{background:#eee !important}#res{padding:0 8px}#rhs_block{padding-top:43px}#_FQd{padding:0 8px}#subform_ctrl{font-size:11px;height:17px;margin:5px 3px 0 17px}.taf{padding-bottom:3px}._chd{padding:20px 0 3px}._bhd{padding:20px 0 3px}#topstuff .e{padding-bottom:6px}.slk .sld{width:250px}.slk{margin-bottom:-3px}.slk ._z3b{padding-bottom:5px;width:250px}.ac,.st{line-height:1.24}.mfr,#ofr{font-size:16px;margin:1em 0;padding:0 8px}._tLi{padding-bottom:25px}.s{color:#545454}.ac{color:#545454}a.fl,._cD a,.osl a{color:#1a0dab;text-decoration:none}a:link{color:#1a0dab;cursor:pointer}#tads a:link{color:#1a0dab}#tads .soc a:link{color:#808080}a:visited{color:#61C}.blg a{text-decoration:none}cite,cite a:link{color:#006621;font-style:normal}#tads cite{color:#006621}.kv{font-size:15px}.kvs{margin-top:1px}.kv,.kvs,.slp{display:block;margin-bottom:1px}.kt{border-spacing:2px 0;margin-top:1px}.f{color:#808080}._pJb{color:#093}h4.r{display:inline;font-size:small;font-weight:normal}.g{line-height:1.2}._sPb{display:inline-block;vertical-align:top;overflow:hidden;position:relative}._Gnc{margin:0 0 2em 1.3em}._Gnc li{list-style-type:disc}.osl{color:#777;margin-top:4px}.r{font-size:16px;margin:0}.spell{font-size:16px}.spell_orig{font-size:13px}.spell_orig a{text-decoration:none}.spell_orig b i{font-style:normal;font-weight:normal}.th{border:1px solid #ebebeb}.ts td{padding:0}.videobox{padding-bottom:3px}.slk a{text-decoration:none}#leftnav a:hover,#leftnav .tbou a:hover,.slk h3 a,a:hover{text-decoration:underline}#mn{table-layout:fixed;width:100%}#leftnav a{color:#222;font-size:13px}#leftnav{padding:43px 4px 4px 0}.tbos{color:#dd4b39}.tbt{margin-bottom:28px}#tbd{padding:0 0 0 16px}.tbou a{color:#222}#center_col{border:0;padding:0 8px 0 0}#topstuff .e{padding-top:3px}#topstuff .sp_cnt{padding-top:6px}#ab_name{color:#dd4b39;font:20px \"Arial\";margin-left:15px}#resultStats{color:#999;font-size:13px;overflow:hidden;white-space:nowrap}.mslg>td{padding-right:1px;padding-top:2px}.slk .sld{margin-top:2px;padding:5px 0 5px 5px}.fmp{padding-top:3px}.close_btn{overflow:hidden}#fll a,#bfl a{color:#1a0dab !important;margin:0 12px;text-decoration:none !important}.ng{color:#dd4b39}#mss{margin:.33em 0 0;padding:0;display:table}._mY{display:inline-block;float:left;white-space:nowrap;padding-right:16px}#mss p{margin:0;padding-top:5px}.tn{border-bottom:1px solid #ebebeb;display:block;float:left;height:59px;line-height:54px;min-width:980px;padding:0;position:relative;white-space:nowrap}._UXb,a._UXb{color:#777;cursor:pointer;display:inline-block;font-family:arial,sans-serif;font-size:small;height:54px;line-height:54px;margin:0 8px;padding:0 8px;text-decoration:none;white-space:nowrap}._Ihd{border-bottom:3px solid #dd4b39;color:#dd4b39;font-weight:bold;margin:2px 8px 0}a._Jhd:hover{color:black;text-decoration:none;white-space:nowrap}body{margin:0;padding:0}._sxc{display:inline-block;float:left;margin-top:2px}._Hhd,a._Hhd{margin-left:1px}.sd{line-height:43px;padding:0 8px 0 9px}a:active,.osl a:active,.tbou a:active,#leftnav a:active{color:#dd4b39}#bfl a:active{color:#dd4b39 !important}.csb{background:url(/images/nav_logo229.png) no-repeat;overflow:hidden}.close_btn{background:url(/images/nav_logo229.png) no-repeat -138px -84px;height:14px;width:14px;display:block}.star{background:url(/images/nav_logo229.png) no-repeat -94px -245px;height:13px;width:65px;display:block}.star div,.star span{background:url(/images/nav_logo229.png) no-repeat 0 -245px;height:13px;width:65px;display:block}._nBb{display:inline;margin:0 3px;outline-color:transparent;overflow:hidden;position:relative}._nBb>div{outline-color:transparent}._O0{border-color:transparent;border-style:solid dashed dashed;border-top-color:green;border-width:4px 4px 0 4px;cursor:pointer;display:inline-block;font-size:0;height:0;left:4px;line-height:0;outline-color:transparent;position:relative;top:-3px;width:0}._O0{margin-top:-4px}.am-dropdown-menu{display:block;background:#fff;border:1px solid #dcdcdc;font-size:13px;left:0;padding:0;position:absolute;right:auto;white-space:nowrap;z-index:3}._Ykb{list-style:none;white-space:nowrap}._Ykb:hover{background-color:#eee}a._Zkb{color:#333;cursor:pointer;display:block;padding:7px 18px;text-decoration:none}#tads a._Zkb{color:#333}.sfbgg{background:#f1f1f1;border-bottom:1px solid #e5e5e5;height:71px}#logocont{z-index:1;padding-left:4px;padding-top:4px}#logo{display:block;height:49px;margin-top:12px;margin-left:12px;overflow:hidden;position:relative;width:137px}#logo img{left:0;position:absolute;top:-41px}.lst-a{background:white;border:1px solid #d9d9d9;border-top-color:silver;width:570px}.lst-a:hover{border:1px solid #b9b9b9;border-top:1px solid #a0a0a0;box-shadow:inset 0 1px 2px rgba(0,0,0,0.1);-webkit-box-shadow:inset 0 1px 2px rgba(0,0,0,0.1);-moz-box-shadow:inset 0 1px 2px rgba(0,0,0,0.1)}.lst-td{border:none;padding:0}.tia input{border-right:none;padding-right:0}.tia{padding-right:0}.lst{background:none;border:none;color:#000;font:16px arial,sans-serif;float:left;height:22px;margin:0;padding:3px 6px 2px 9px;vertical-align:top;width:100%;word-break:break-all}.lst:focus{outline:none}.lst-b{background:none;border:none;height:26px;padding:0 6px 0 12px}.ds{border-right:1px solid #e7e7e7;position:relative;height:29px;margin-left:17px;z-index:100}.lsbb{background-image:-moz-linear-gradient(top,#4d90fe,#4787ed);background-image:-ms-linear-gradient(top,#4d90fe,#4787ed);background-image:-o-linear-gradient(top,#4d90fe,#4787ed);background-image:-webkit-gradient(linear,left top,left bottom,from(#4d90fe),to(#4787ed));background-image:-webkit-linear-gradient(top,#4d90fe,#4787ed);background-image:linear-gradient(top,#4d90fe,#4787ed);border:1px solid #3079ed;border-radius:2px;background-color:#4d90fe;height:27px;width:68px}.lsbb:hover{background-image:-moz-linear-gradient(top,#4d90fe,#357ae8);background-image:-ms-linear-gradient(top,#4d90fe,#357ae8);background-image:-o-linear-gradient(top,#4d90fe,#357ae8);background-image:-webkit-gradient(linear,left top,left bottom,from(#4d90fe),to(#357ae8));background-image:-webkit-linear-gradient(top,#4d90fe,#357ae8);background-color:#357ae8;background-image:linear-gradient(top,#4d90fe,#357ae8);border:1px solid #2f5bb7}.lsb{background:transparent;background-position:0 -343px;background-repeat:repeat-x;border:none;color:#000;cursor:default;font:15px arial,sans-serif;height:29px;margin:0;vertical-align:top;width:100%}.lsb:active{-moz-box-shadow:inset 0 1px 2px rgba(0,0,0,0.3);-webkit-box-shadow:inset 0 1px 2px rgba(0,0,0,0.3);box-shadow:inset 0 1px 2px rgba(0,0,0,0.3);background:transparent;color:transparent;overflow:hidden;position:relative;width:100%}.sbico{color:transparent;display:inline-block;height:15px;margin:0 auto;margin-top:2px;width:15px;overflow:hidden}</style><script>(function(){window.google={kEI:'HujMWYSfFuGX6ATy2IrIBw',kEXPI:'755547,1353382,1354277,1354401,1354748,1354875,1355210,1355217,1355324,1355794,3700307,3700476,4029815,4031109,4043492,4045841,4048347,4063220,4072776,4076999,4081039,4081165,4095910,4097153,4097470,4097922,4097929,4098733,4098740,4098752,4102111,4102237,4103254,4103475,4103861,4104258,4104414,4108512,4109316,4109490,4110656,4111016,4113217,4115219,4115404,4116350,4116724,4116731,4116926,4116935,4117328,4117980,4118103,4118227,4118798,4119121,4119272,4119740,4120415,4120660,4121035,4122023,4124174,4124222,4124411,4124850,4125001,4125478,4125837,4125962,4126169,4126200,4126272,4126276,4127232,4127473,4127532,4127744,4127775,4127890,4127899,4128381,4128586,4129520,4129555,4130572,4130574,4130782,4130819,4131252,4131834,4131941,4132037,4132256,4132270,4132310,4132408,4132619,4132702,4132715,4132782,4132954,4133274,4133400,10200083',authuser:0,kscs:'c9c918f0_41',u:'c9c918f0'};google.kHL='ru';})();(function(){google.lc=[];google.li=0;google.getEI=function(a){for(var b;a&&(!a.getAttribute||!(b=a.getAttribute(\"eid\")));)a=a.parentNode;return b||google.kEI};google.getLEI=function(a){for(var b=null;a&&(!a.getAttribute||!(b=a.getAttribute(\"leid\")));)a=a.parentNode;return b};google.https=function(){return\"https:\"==window.location.protocol};google.ml=function(){return null};google.wl=function(a,b){try{google.ml(Error(a),!1,b)}catch(c){}};google.time=function(){return(new Date).getTime()};google.log=function(a,b,c,d,g){if(a=google.logUrl(a,b,c,d,g)){b=new Image;var e=google.lc,f=google.li;e[f]=b;b.onerror=b.onload=b.onabort=function(){delete e[f]};google.vel&&google.vel.lu&&google.vel.lu(a);b.src=a;google.li=f+1}};google.logUrl=function(a,b,c,d,g){var e=\"\",f=google.ls||\"\";c||-1!=b.search(\"&ei=\")||(e=\"&ei=\"+google.getEI(d),-1==b.search(\"&lei=\")&&(d=google.getLEI(d))&&(e+=\"&lei=\"+d));d=\"\";!c&&google.cshid&&-1==b.search(\"&cshid=\")&&(d=\"&cshid=\"+google.cshid);a=c||\"/\"+(g||\"gen_204\")+\"?atyp=i&ct=\"+a+\"&cad=\"+b+e+f+\"&zx=\"+google.time()+d;/^http:/i.test(a)&&google.https()&&(google.ml(Error(\"a\"),!1,{src:a,glmm:1}),a=\"\");return a};google.y={};google.x=function(a,b){if(a)var c=a.id;else{do c=Math.random();while(google.y[c])}google.y[c]=[a,b];return!1};google.lq=[];google.load=function(a,b,c){google.lq.push([[a],b,c])};google.loadAll=function(a,b){google.lq.push([a,b])};}).call(this);google.f={};(function(){var b={gen204:\"dcl\",clearcut:4};var c=[function(){google.c&&google.tick(\"load\",b)}];google.dcl=!1;google.dclc=function(a){google.dcl?a():c.push(a)};function d(){if(!google.dcl){google.dcl=!0;for(var a;a=c.shift();)a()}}window.addEventListener?(document.addEventListener(\"DOMContentLoaded\",d,!1),window.addEventListener(\"load\",d,!1)):window.attachEvent&&window.attachEvent(\"onload\",d);}).call(this);</script><script type=\"text/javascript\"></script><script>(function(){var a=function(f){for(var g=f.parentElement,d=null,e=0;e<g.childNodes.length;e++){var h=g.childNodes[e];-1<(\" \"+h.className+\" \").indexOf(\" am-dropdown-menu \")&&(d=h)}\"none\"==d.style.display?(d.style.display=\"\",google.log(\"hpam\",\"&ved=\"+f.getAttribute(\"data-ved\"))):d.style.display=\"none\"},b=[\"google\",\"sham\"],c=this;b[0]in c||!c.execScript||c.execScript(\"var \"+b[0]);for(var k;b.length&&(k=b.shift());)b.length||void 0===a?c[k]&&c[k]!==Object.prototype[k]?c=c[k]:c=c[k]={}:c[k]=a;}).call(this);</script></head><body bgcolor=\"#ffffff\" class=\"hsrp\" marginheight=\"0\" marginwidth=\"0\" topmargin=\"0\"><div id=\"gbar\"><nobr><b class=\"gb1\">Поиск</b> <a class=\"gb1\" href=\"http://www.google.ru/search?hl=ru&amp;tbm=isch&amp;source=og&amp;tab=wi\">Картинки</a> <a class=\"gb1\" href=\"http://maps.google.ru/maps?hl=ru&amp;tab=wl\">Карты</a> <a class=\"gb1\" href=\"https://play.google.com/?hl=ru&amp;tab=w8\">Play</a> <a class=\"gb1\" href=\"http://www.youtube.com/results?gl=RU&amp;tab=w1\">YouTube</a> <a class=\"gb1\" href=\"http://news.google.ru/nwshp?hl=ru&amp;tab=wn\">Новости</a> <a class=\"gb1\" href=\"https://mail.google.com/mail/?tab=wm\">Почта</a> <a class=\"gb1\" href=\"https://drive.google.com/?tab=wo\">Диск</a> <a class=\"gb1\" href=\"https://www.google.ru/intl/ru/options/\" style=\"text-decoration:none\"><u>Ещё</u> »</a></nobr></div><div id=\"guser\" width=\"100%\"><nobr><span class=\"gbi\" id=\"gbn\"></span><span class=\"gbf\" id=\"gbf\"></span><span id=\"gbe\"></span><a class=\"gb4\" href=\"http://www.google.ru/history/optout?hl=ru\">История веб-поиска</a> | <a class=\"gb4\" href=\"/preferences?hl=ru\">Настройки</a> | <a class=\"gb4\" href=\"https://accounts.google.com/ServiceLogin?hl=ru&amp;passive=true&amp;continue=http://www.google.ru/search%3Fq%3Dhse\" id=\"gb_70\" target=\"_top\">Войти</a></nobr></div><div class=\"gbh\" style=\"left:0\"></div><div class=\"gbh\" style=\"right:0\"></div><table border=\"0\" cellpadding=\"0\" cellspacing=\"0\" id=\"mn\" style=\"position:relative\"><tr><th width=\"132\"></th><th width=\"573\"></th><th width=\"278\"></th><th></th></tr><tr><td class=\"sfbgg\" valign=\"top\"><div id=\"logocont\"><h1><a href=\"/webhp?hl=ru\" id=\"logo\" style=\"background:url(/images/nav_logo229.png) no-repeat 0 -41px;height:37px;width:95px;display:block\" title=\"Go to Google Home\"></a></h1></div></td><td class=\"sfbgg\" colspan=\"2\" style=\"padding-left:0px\" valign=\"top\"><form action=\"/search\" id=\"tsf\" method=\"GET\" name=\"gs\" style=\"display:block;margin:0;background:none\"><table border=\"0\" cellpadding=\"0\" cellspacing=\"0\" style=\"margin-top:20px;position:relative\"><tr><td><div class=\"lst-a\"><table cellpadding=\"0\" cellspacing=\"0\"><tr><td class=\"lst-td tia\" valign=\"bottom\" width=\"526\"><div style=\"position:relative;zoom:1\"><input autocomplete=\"off\" class=\"lst\" id=\"sbhost\" maxlength=\"2048\" name=\"q\" title=\"Поиск\" type=\"text\" value=\"hse\"/></div></td><td class=\"lst-td\"><div class=\"lst-b\"><img alt=\"\" height=\"23\" onclick=\"(function(){var text_input_assistant_js='/textinputassistant/11/ru_tia.js';var s = document.createElement('script');s.src = text_input_assistant_js;(document.getElementById('xjsc')|| document.body).appendChild(s);})();\" src=\"/textinputassistant/tia.png\" style=\"padding-top:2px\" width=\"27\"/></div></td></tr></table></div></td><td><div class=\"ds\" style=\"margin-left:16px\"><div class=\"lsbb\"><button class=\"lsb\" name=\"btnG\" type=\"submit\" value=\"Поиск\"><span class=\"sbico\" style=\"background:url(/images/nav_logo229.png) no-repeat -36px -111px;height:14px;width:13px;display:block\"></span></button></div></div></td></tr></table><input name=\"newwindow\" type=\"hidden\" value=\"1\"/></form></td><td class=\"sfbgg\"> </td></tr><tr style=\"position:relative\"><td><div style=\"border-bottom:1px solid #ebebeb;height:59px\"></div></td><td colspan=\"2\"><div class=\"tn\"><div class=\"_UXb _Ihd _sxc _Hhd\">Все</div><div class=\"_sxc\"><a class=\"_UXb _Jhd\" href=\"/search?q=hse&amp;newwindow=1&amp;ie=UTF-8&amp;prmd=ivnsz&amp;source=lnms&amp;tbm=isch&amp;sa=X&amp;ved=0ahUKEwiEpuWG7sfWAhXhC5oKHXKsAnkQ_AUIBQ\">Картинки</a></div><div class=\"_sxc\"><a class=\"_UXb _Jhd\" href=\"/search?q=hse&amp;newwindow=1&amp;ie=UTF-8&amp;prmd=ivnsz&amp;source=lnms&amp;tbm=vid&amp;sa=X&amp;ved=0ahUKEwiEpuWG7sfWAhXhC5oKHXKsAnkQ_AUIBg\">Видео</a></div><div class=\"_sxc\"><a class=\"_UXb _Jhd\" href=\"/search?q=hse&amp;newwindow=1&amp;ie=UTF-8&amp;prmd=ivnsz&amp;source=lnms&amp;tbm=nws&amp;sa=X&amp;ved=0ahUKEwiEpuWG7sfWAhXhC5oKHXKsAnkQ_AUIBw\">Новости</a></div><div class=\"_sxc\"><a class=\"_UXb _Jhd\" href=\"/search?q=hse&amp;newwindow=1&amp;ie=UTF-8&amp;prmd=ivnsz&amp;source=lnms&amp;tbm=shop&amp;sa=X&amp;ved=0ahUKEwiEpuWG7sfWAhXhC5oKHXKsAnkQ_AUICA\">Покупки</a></div><div class=\"_sxc\"><a class=\"_UXb _Jhd\" href=\"http://maps.google.ru/maps?q=hse&amp;um=1&amp;ie=UTF-8&amp;sa=X&amp;ved=0ahUKEwiEpuWG7sfWAhXhC5oKHXKsAnkQ_AUICQ\">Карты</a></div><div class=\"_sxc\"><a class=\"_UXb _Jhd\" href=\"/search?q=hse&amp;newwindow=1&amp;ie=UTF-8&amp;prmd=ivnsz&amp;source=lnms&amp;tbm=bks&amp;sa=X&amp;ved=0ahUKEwiEpuWG7sfWAhXhC5oKHXKsAnkQ_AUICg\">Книги</a></div></div><div style=\"border-bottom:1px solid #ebebeb;height:59px\"></div></td><td><div style=\"border-bottom:1px solid #ebebeb;height:59px\"></div></td></tr><tbody data-jibp=\"h\" data-jiis=\"uc\" id=\"desktop-search\"><style>._Bu,._Bu a:link,._Bu a:visited,a._Bu:link,a._Bu:visited{color:#808080}._kBb{color:#61C}.ellip{overflow:hidden;text-overflow:ellipsis;white-space:nowrap}._uXc{border:1px solid #e0e0e0;font-size:13px;margin-right:-2px;}._o0d{margin:4px 10px}._Z8d{background:white;border-bottom:0;border-left:0;border-right:0;border-top:1px solid #e0e0e0;cursor:pointer;height:40px;outline:0;width:100%}._Azf{color:#777;font-size:11px}._Azf a{color:#777;text-decoration:none}.xpdclpsbtn{}.xpdxpndbtn{}.xpdclpsbtn ._FGf{background:url(/images/nav_logo229.png) no-repeat -50px -79px;height:22px;width:64px}.xpdxpndbtn ._FGf{background:url(/images/nav_logo229.png) no-repeat -50px -102px;height:22px;width:64px}._tXc{color:#222;font-size:15px;line-height:normal;margin:12px 0}._rvh{margin:4px 0}._x8d{margin:10px;overflow:hidden;position:relative;white-space:nowrap;}._tNf{display:-moz-inline-stack;display:inline-block;position:relative;width:100%;z-index:0;}._B5d{border-top:1px solid #e0e0e0;color:#000;font-size:22px;margin-top:-5px;padding-top:10px}._C5d{color:#000;font-size:14px}._WQf{display:inline-block;float:none;vertical-align:-1px;}._POh{color:#777}._pIf{border-top:1px solid #e0e0e0;border-bottom:1px solid #e0e0e0;margin-top:16px,0}._IGf{padding:8px 0;white-space:nowrap;width:100%}._IGf a{display:inline-block;text-align:center}._DHf{border-right:1px solid #e0e0e0}._qIf ._IGf a{width:100%}._sIf ._IGf a{width:50%}._rIf ._IGf a{width:33%}._gS{color:#212121}._gF{margin:2px 0 4px;line-height:17px}._tA{color:#777}._gS{font-weight:bold}._Pce{margin:4px 10px}#_Oce{border:1px solid #e0e0e0;font-size:13px;margin-right:-2px;}._Vbe{color:#000}._R4d{border-spacing:0;line-height:20px;table-layout:fixed;width:100%}._R4d a:hover,._R4d a:active{text-decoration:none}._fce{color:#1a0dab}a:hover ._fce,a:active ._fce{text-decoration:underline}._S4d{border-top:1px solid #e0e0e0;margin:0 -10px;padding:0 10px}._T4d{display:block;margin:auto}._P4d{padding-top:8px;padding-bottom:8px}._Qbe{max-width:198px;overflow:hidden;text-overflow:ellipsis;white-space:nowrap}</style><tr><td id=\"leftnav\" valign=\"top\"><div><h2 class=\"hd\">Search Options</h2><ul class=\"med\" id=\"tbd\"><li><ul class=\"tbt\"><li class=\"tbos\" id=\"lr_\">На всех языках</li><li class=\"tbou\" id=\"lr_lang_1ru\"><a class=\"q\" href=\"/search?q=hse&amp;newwindow=1&amp;ie=UTF-8&amp;prmd=ivnsz&amp;source=lnt&amp;tbs=lr:lang_1ru&amp;lr=lang_ru&amp;sa=X&amp;ved=0ahUKEwiEpuWG7sfWAhXhC5oKHXKsAnkQpwUIDw\">Только на русский</a></li></ul></li><li><ul class=\"tbt\"><li class=\"tbos\" id=\"qdr_\">За всё время</li><li class=\"tbou\" id=\"qdr_h\"><a class=\"q\" href=\"/search?q=hse&amp;newwindow=1&amp;ie=UTF-8&amp;prmd=ivnsz&amp;source=lnt&amp;tbs=qdr:h&amp;sa=X&amp;ved=0ahUKEwiEpuWG7sfWAhXhC5oKHXKsAnkQpwUIDw\"> За час</a></li><li class=\"tbou\" id=\"qdr_d\"><a class=\"q\" href=\"/search?q=hse&amp;newwindow=1&amp;ie=UTF-8&amp;prmd=ivnsz&amp;source=lnt&amp;tbs=qdr:d&amp;sa=X&amp;ved=0ahUKEwiEpuWG7sfWAhXhC5oKHXKsAnkQpwUIDw\"> За 24 часа</a></li><li class=\"tbou\" id=\"qdr_w\"><a class=\"q\" href=\"/search?q=hse&amp;newwindow=1&amp;ie=UTF-8&amp;prmd=ivnsz&amp;source=lnt&amp;tbs=qdr:w&amp;sa=X&amp;ved=0ahUKEwiEpuWG7sfWAhXhC5oKHXKsAnkQpwUIDw\"> За неделю</a></li><li class=\"tbou\" id=\"qdr_m\"><a class=\"q\" href=\"/search?q=hse&amp;newwindow=1&amp;ie=UTF-8&amp;prmd=ivnsz&amp;source=lnt&amp;tbs=qdr:m&amp;sa=X&amp;ved=0ahUKEwiEpuWG7sfWAhXhC5oKHXKsAnkQpwUIDw\"> За месяц</a></li><li class=\"tbou\" id=\"qdr_y\"><a class=\"q\" href=\"/search?q=hse&amp;newwindow=1&amp;ie=UTF-8&amp;prmd=ivnsz&amp;source=lnt&amp;tbs=qdr:y&amp;sa=X&amp;ved=0ahUKEwiEpuWG7sfWAhXhC5oKHXKsAnkQpwUIDw\"> За год</a></li></ul></li><li><ul class=\"tbt\"><li class=\"tbos\" id=\"li_\">Все результаты</li><li class=\"tbou\" id=\"li_1\"><a class=\"q\" href=\"/search?q=hse&amp;newwindow=1&amp;ie=UTF-8&amp;prmd=ivnsz&amp;source=lnt&amp;tbs=li:1&amp;sa=X&amp;ved=0ahUKEwiEpuWG7sfWAhXhC5oKHXKsAnkQpwUIDw\">Точное соответствие</a></li></ul></li></ul></div></td><td valign=\"top\"><div id=\"center_col\"><div class=\"sd\" id=\"resultStats\">Результатов: примерно 47 300 000</div><div id=\"res\"><div id=\"topstuff\"></div><div id=\"search\"><div id=\"ires\"><ol><div class=\"g\"><h3 class=\"r\"><a href=\"/url?q=https://www.hse.ru/&amp;sa=U&amp;ved=0ahUKEwiEpuWG7sfWAhXhC5oKHXKsAnkQFggVMAA&amp;usg=AFQjCNE1v9Tvdrc2uMiuUYD92cdGTiqvzA\" target=\"_blank\">Высшая школа экономики</a></h3><div class=\"s\"><div class=\"kv\" style=\"margin-bottom:2px\"><cite>https://www.<b>hse</b>.ru/</cite><div class=\"_nBb\"><div aria-expanded=\"false\" aria-haspopup=\"true\" data-ved=\"0ahUKEwiEpuWG7sfWAhXhC5oKHXKsAnkQ7B0IFjAA\" onclick=\"google.sham(this);\" style=\"display:inline\" tabindex=\"0\"><span class=\"_O0\"></span></div><div class=\"am-dropdown-menu\" role=\"menu\" style=\"display:none\" tabindex=\"-1\"><ul><li class=\"_Ykb\"><a class=\"_Zkb\" href=\"/url?q=http://webcache.googleusercontent.com/search%3Fq%3Dcache:n9BNGNJbjnwJ:https://www.hse.ru/%252Bhse%26newwindow%3D1%26hl%3Dru%26ct%3Dclnk&amp;sa=U&amp;ved=0ahUKEwiEpuWG7sfWAhXhC5oKHXKsAnkQIAgYMAA&amp;usg=AFQjCNFsdjIET_kxLHgFAyV-t_tJ2aYqJg\" target=\"_blank\">Сохраненная копия</a></li></ul></div></div></div><span class=\"st\">Бесплатные курсы лучших преподавателей <b>ВШЭ</b> в открытом доступе на ... и <br/>\n",
      "ЕГЭ с ведущими преподавателями <b>ВШЭ</b> для всех старшеклассников.</span><br/></div><table cellpadding=\"0\" cellspacing=\"0\" class=\"slk\" style=\"border-collapse:collapse;margin-top:1px\"><tr class=\"mslg\"><td style=\"padding-left:23px;vertical-align:top\"><div class=\"sld\"><h3 class=\"r\"><a class=\"sla\" href=\"/url?q=https://ba.hse.ru/&amp;sa=U&amp;ved=0ahUKEwiEpuWG7sfWAhXhC5oKHXKsAnkQjBAIGzAB&amp;usg=AFQjCNFhhpF0KFSHs89hZXCclRhD6_3wVw\" target=\"_blank\">Абитуриентам бакалавриата</a></h3><div class=\"s st\" style=\"width:220px;overflow:hidden\">Экономика - Дизайн - Бакалавр+ - История - <b>...</b></div></div></td><td style=\"padding-left:7px;vertical-align:top\"><div class=\"sld\"><h3 class=\"r\"><a class=\"sla\" href=\"/url?q=https://ma.hse.ru/&amp;sa=U&amp;ved=0ahUKEwiEpuWG7sfWAhXhC5oKHXKsAnkQjBAIHTAE&amp;usg=AFQjCNFMq9bGl2am3yT0BRPacsJIDIB6QQ\" target=\"_blank\">Абитуриентам магистратуры</a></h3><div class=\"s st\" style=\"width:220px;overflow:hidden\">Абитуриентам магистратуры ... на несколько программ ...</div></div></td></tr><tr class=\"mslg\"><td style=\"padding-left:23px;vertical-align:top\"><div class=\"sld\"><h3 class=\"r\"><a class=\"sla\" href=\"/url?q=https://www.hse.ru/education/faculty/&amp;sa=U&amp;ved=0ahUKEwiEpuWG7sfWAhXhC5oKHXKsAnkQjBAIHzAC&amp;usg=AFQjCNGhsGvw6zia4NpdBjb1wJs7HEfdaQ\" target=\"_blank\">Факультеты и институты</a></h3><div class=\"s st\" style=\"width:220px;overflow:hidden\">Факультеты, институты и центры в НИУ ВШЭ в Москве. Вся ...</div></div></td><td style=\"padding-left:7px;vertical-align:top\"><div class=\"sld\"><h3 class=\"r\"><a class=\"sla\" href=\"/url?q=https://www.hse.ru/abiturient/&amp;sa=U&amp;ved=0ahUKEwiEpuWG7sfWAhXhC5oKHXKsAnkQjBAIITAF&amp;usg=AFQjCNFpVxuiGsemDxs0LzXi7PZPA0z6Ww\" target=\"_blank\">Поступающим в НИУ ВШЭ</a></h3><div class=\"s st\" style=\"width:220px;overflow:hidden\">Все, что нужно знать поступающим в НИУ ВШЭ ...</div></div></td></tr><tr class=\"mslg\"><td style=\"padding-left:23px;vertical-align:top\"><div class=\"sld\"><h3 class=\"r\"><a class=\"sla\" href=\"/url?q=https://school.hse.ru/&amp;sa=U&amp;ved=0ahUKEwiEpuWG7sfWAhXhC5oKHXKsAnkQjBAIIzAD&amp;usg=AFQjCNHkAilsRSU7Ct1Ca3TzLCfC9qkdqw\" target=\"_blank\">Лицей НИУ ВШЭ</a></h3><div class=\"s st\" style=\"width:220px;overflow:hidden\">Расписание - Новости - Контакты - <b>...</b></div></div></td><td style=\"padding-left:7px;vertical-align:top\"><div class=\"sld\"><h3 class=\"r\"><a class=\"sla\" href=\"/url?q=https://www.hse.ru/our/&amp;sa=U&amp;ved=0ahUKEwiEpuWG7sfWAhXhC5oKHXKsAnkQjBAIJTAG&amp;usg=AFQjCNEPkBNR_SoRNNncR865ObQa_THauA\" target=\"_blank\">Вышка для своих</a></h3><div class=\"s st\" style=\"width:220px;overflow:hidden\">Вышка для своих ... Служба «одного окна» ПНИР для ...</div></div></td></tr><tr><td colspan=\"2\" style=\"padding-left:28px;vertical-align:top\"><div style=\"padding-top:5px\"><a class=\"fl\" href=\"/search?newwindow=1&amp;ie=UTF-8&amp;q=+site:hse.ru+hse&amp;sa=X&amp;ved=0ahUKEwiEpuWG7sfWAhXhC5oKHXKsAnkQrAMIJg\">Другие результаты с сайта hse.ru »</a></div></td></tr></table></div><div class=\"g\"><h3 class=\"r\"><a href=\"/url?q=https://vk.com/hse_university&amp;sa=U&amp;ved=0ahUKEwiEpuWG7sfWAhXhC5oKHXKsAnkQFggoMAc&amp;usg=AFQjCNFl082coU05AYLlzI-lLGvf00Lsfg\" target=\"_blank\">Высшая школа экономики | ВКонтакте - Москва</a></h3><div class=\"s\"><div class=\"kv\" style=\"margin-bottom:2px\"><cite>https://vk.com/<b>hse</b>_university</cite><div class=\"_nBb\"><div aria-expanded=\"false\" aria-haspopup=\"true\" data-ved=\"0ahUKEwiEpuWG7sfWAhXhC5oKHXKsAnkQ7B0IKTAH\" onclick=\"google.sham(this);\" style=\"display:inline\" tabindex=\"0\"><span class=\"_O0\"></span></div><div class=\"am-dropdown-menu\" role=\"menu\" style=\"display:none\" tabindex=\"-1\"><ul><li class=\"_Ykb\"><a class=\"_Zkb\" href=\"/url?q=http://webcache.googleusercontent.com/search%3Fq%3Dcache:duA9GyrV9boJ:https://vk.com/hse_university%252Bhse%26newwindow%3D1%26hl%3Dru%26ct%3Dclnk&amp;sa=U&amp;ved=0ahUKEwiEpuWG7sfWAhXhC5oKHXKsAnkQIAgrMAc&amp;usg=AFQjCNE0FLX29yoFHwFSb2_-FgkZOk6ygw\" target=\"_blank\">Сохраненная копия</a></li></ul></div></div></div><span class=\"st\">3 дн. назад <b>...</b> Cтраница о жизни Национального исследовательского университета <br/>\n",
      "Высшая школа экономики (НИУ <b>ВШЭ</b>)</span><br/></div></div><div class=\"g\"><h3 class=\"r\"><a href=\"/url?q=https://vk.com/hse_overheard&amp;sa=U&amp;ved=0ahUKEwiEpuWG7sfWAhXhC5oKHXKsAnkQFgguMAg&amp;usg=AFQjCNEXDOBsjv9Pxx0cTPMD-V_c5KOSpQ\" target=\"_blank\">Подслушано <b>ВШЭ</b> | ВКонтакте</a></h3><div class=\"s\"><div class=\"kv\" style=\"margin-bottom:2px\"><cite>https://vk.com/<b>hse</b>_overheard</cite><div class=\"_nBb\"><div aria-expanded=\"false\" aria-haspopup=\"true\" data-ved=\"0ahUKEwiEpuWG7sfWAhXhC5oKHXKsAnkQ7B0ILzAI\" onclick=\"google.sham(this);\" style=\"display:inline\" tabindex=\"0\"><span class=\"_O0\"></span></div><div class=\"am-dropdown-menu\" role=\"menu\" style=\"display:none\" tabindex=\"-1\"><ul><li class=\"_Ykb\"><a class=\"_Zkb\" href=\"/url?q=http://webcache.googleusercontent.com/search%3Fq%3Dcache:PNLyyqoNb4YJ:https://vk.com/hse_overheard%252Bhse%26newwindow%3D1%26hl%3Dru%26ct%3Dclnk&amp;sa=U&amp;ved=0ahUKEwiEpuWG7sfWAhXhC5oKHXKsAnkQIAgxMAg&amp;usg=AFQjCNEILj7IiQshh116MSvuiNDspoKDDw\" target=\"_blank\">Сохраненная копия</a></li></ul></div></div></div><span class=\"st\">Здесь вы можете поделиться любыми секретами, мемами и вопросами, <br/>\n",
      "имеющими то или иное отношение к НИУ <b>ВШЭ</b>.</span><br/></div></div><div class=\"g\"><h3 class=\"r\"><a href=\"/url?q=https://ru.wikipedia.org/wiki/%25D0%2592%25D1%258B%25D1%2581%25D1%2588%25D0%25B0%25D1%258F_%25D1%2588%25D0%25BA%25D0%25BE%25D0%25BB%25D0%25B0_%25D1%258D%25D0%25BA%25D0%25BE%25D0%25BD%25D0%25BE%25D0%25BC%25D0%25B8%25D0%25BA%25D0%25B8&amp;sa=U&amp;ved=0ahUKEwiEpuWG7sfWAhXhC5oKHXKsAnkQFggzMAk&amp;usg=AFQjCNEgQ4IM5dfs0CzI_F1vxEpjcocYXg\" target=\"_blank\">Высшая школа экономики — Википедия</a></h3><div class=\"s\"><div class=\"kv\" style=\"margin-bottom:2px\"><cite>https://ru.wikipedia.org/.../Высшая_школа_экономики</cite><div class=\"_nBb\"><div aria-expanded=\"false\" aria-haspopup=\"true\" data-ved=\"0ahUKEwiEpuWG7sfWAhXhC5oKHXKsAnkQ7B0INDAJ\" onclick=\"google.sham(this);\" style=\"display:inline\" tabindex=\"0\"><span class=\"_O0\"></span></div><div class=\"am-dropdown-menu\" role=\"menu\" style=\"display:none\" tabindex=\"-1\"><ul><li class=\"_Ykb\"><a class=\"_Zkb\" href=\"/url?q=http://webcache.googleusercontent.com/search%3Fq%3Dcache:5LjBLJuBEm4J:https://ru.wikipedia.org/wiki/%2525D0%252592%2525D1%25258B%2525D1%252581%2525D1%252588%2525D0%2525B0%2525D1%25258F_%2525D1%252588%2525D0%2525BA%2525D0%2525BE%2525D0%2525BB%2525D0%2525B0_%2525D1%25258D%2525D0%2525BA%2525D0%2525BE%2525D0%2525BD%2525D0%2525BE%2525D0%2525BC%2525D0%2525B8%2525D0%2525BA%2525D0%2525B8%252Bhse%26newwindow%3D1%26hl%3Dru%26ct%3Dclnk&amp;sa=U&amp;ved=0ahUKEwiEpuWG7sfWAhXhC5oKHXKsAnkQIAg2MAk&amp;usg=AFQjCNFPQSrMp1iI1I3DMBx-cwEmCmpBZA\" target=\"_blank\">Сохраненная копия</a></li><li class=\"_Ykb\"><a class=\"_Zkb\" href=\"/search?newwindow=1&amp;ie=UTF-8&amp;q=related:https://ru.wikipedia.org/wiki/%25D0%2592%25D1%258B%25D1%2581%25D1%2588%25D0%25B0%25D1%258F_%25D1%2588%25D0%25BA%25D0%25BE%25D0%25BB%25D0%25B0_%25D1%258D%25D0%25BA%25D0%25BE%25D0%25BD%25D0%25BE%25D0%25BC%25D0%25B8%25D0%25BA%25D0%25B8+hse&amp;tbo=1&amp;sa=X&amp;ved=0ahUKEwiEpuWG7sfWAhXhC5oKHXKsAnkQHwg3MAk\">Похожие</a></li></ul></div></div></div><span class=\"st\">Национальный исследовательский университет «Высшая школа экономики» <br/>\n",
      "(НИУ <b>ВШЭ</b>) — один из ведущих и крупнейших университетов России.</span><br/></div></div><div class=\"g\"><h3 class=\"r\"><a href=\"/url?q=https://www.youtube.com/user/hse&amp;sa=U&amp;ved=0ahUKEwiEpuWG7sfWAhXhC5oKHXKsAnkQFgg5MAo&amp;usg=AFQjCNFaq4CEJxK1TJ8QIk7X2fN4UR1ygA\" target=\"_blank\">Высшая школа экономики - YouTube</a></h3><div class=\"s\"><div class=\"kv\" style=\"margin-bottom:2px\"><cite>https://www.youtube.com/user/<b>hse</b></cite><div class=\"_nBb\"><div aria-expanded=\"false\" aria-haspopup=\"true\" data-ved=\"0ahUKEwiEpuWG7sfWAhXhC5oKHXKsAnkQ7B0IOjAK\" onclick=\"google.sham(this);\" style=\"display:inline\" tabindex=\"0\"><span class=\"_O0\"></span></div><div class=\"am-dropdown-menu\" role=\"menu\" style=\"display:none\" tabindex=\"-1\"><ul><li class=\"_Ykb\"><a class=\"_Zkb\" href=\"/url?q=http://webcache.googleusercontent.com/search%3Fq%3Dcache:Ud4VbT10KpMJ:https://www.youtube.com/user/hse%252Bhse%26newwindow%3D1%26hl%3Dru%26ct%3Dclnk&amp;sa=U&amp;ved=0ahUKEwiEpuWG7sfWAhXhC5oKHXKsAnkQIAg8MAo&amp;usg=AFQjCNE6mxDDEzagpWPvu3Lj0P-pRLPPiQ\" target=\"_blank\">Сохраненная копия</a></li><li class=\"_Ykb\"><a class=\"_Zkb\" href=\"/search?newwindow=1&amp;ie=UTF-8&amp;q=related:https://www.youtube.com/user/hse+hse&amp;tbo=1&amp;sa=X&amp;ved=0ahUKEwiEpuWG7sfWAhXhC5oKHXKsAnkQHwg9MAo\">Похожие</a></li></ul></div></div></div><span class=\"st\">Здесь мы рассказываем о жизни Вышки во всех ее ипостасях. Слушайте <br/>\n",
      "лекции, узнавайте новости и не теряйтесь!</span><br/></div></div><div class=\"g\"><h3 class=\"r\"><a href=\"/url?q=https://www.facebook.com/hse.ru/%3Frf%3D178782312215227&amp;sa=U&amp;ved=0ahUKEwiEpuWG7sfWAhXhC5oKHXKsAnkQFgg_MAs&amp;usg=AFQjCNEiHahSz1zrI72PdIPktd1MeLIDTg\" target=\"_blank\">НИУ <b>ВШЭ</b> - Facebook</a></h3><div class=\"s\"><div class=\"kv\" style=\"margin-bottom:2px\"><cite>https://www.facebook.com/<b>hse</b>.ru/?rf...</cite><div class=\"_nBb\"><div aria-expanded=\"false\" aria-haspopup=\"true\" data-ved=\"0ahUKEwiEpuWG7sfWAhXhC5oKHXKsAnkQ7B0IQDAL\" onclick=\"google.sham(this);\" style=\"display:inline\" tabindex=\"0\"><span class=\"_O0\"></span></div><div class=\"am-dropdown-menu\" role=\"menu\" style=\"display:none\" tabindex=\"-1\"><ul><li class=\"_Ykb\"><a class=\"_Zkb\" href=\"/url?q=http://webcache.googleusercontent.com/search%3Fq%3Dcache:qBT62G5X19IJ:https://www.facebook.com/hse.ru/%3Frf%253D178782312215227%252Bhse%26newwindow%3D1%26hl%3Dru%26ct%3Dclnk&amp;sa=U&amp;ved=0ahUKEwiEpuWG7sfWAhXhC5oKHXKsAnkQIAhCMAs&amp;usg=AFQjCNF6uGwKkZwXLADzFdA2PMR6eFFH_w\" target=\"_blank\">Сохраненная копия</a></li></ul></div></div></div><div class=\"f slp\"><div class=\"star\"><div style=\"width:65px\"> </div></div> Рейтинг: 4,8 - 157 голосов</div><span class=\"st\">Вышка, Москва. 19241 likes · 746 talking about this · 4687 were here. <br/>\n",
      "Официальная страница Национального исследовательского университета \"<br/>\n",
      "Высшая ...</span><br/></div></div><div class=\"g\"><h3 class=\"r\"><a href=\"/url?q=https://5top100.ru/universities/national-research-university/&amp;sa=U&amp;ved=0ahUKEwiEpuWG7sfWAhXhC5oKHXKsAnkQFghFMAw&amp;usg=AFQjCNEUBMXLjD0TLXVbC3DUXqo4HxYqYg\" target=\"_blank\"><b>ВШЭ</b> — Высшая школа Экономики - Проект 5-100</a></h3><div class=\"s\"><div class=\"kv\" style=\"margin-bottom:2px\"><cite>https://5top100.ru/.../national-research-university/</cite><div class=\"_nBb\"><div aria-expanded=\"false\" aria-haspopup=\"true\" data-ved=\"0ahUKEwiEpuWG7sfWAhXhC5oKHXKsAnkQ7B0IRjAM\" onclick=\"google.sham(this);\" style=\"display:inline\" tabindex=\"0\"><span class=\"_O0\"></span></div><div class=\"am-dropdown-menu\" role=\"menu\" style=\"display:none\" tabindex=\"-1\"><ul><li class=\"_Ykb\"><a class=\"_Zkb\" href=\"/url?q=http://webcache.googleusercontent.com/search%3Fq%3Dcache:T3V_tdEP__UJ:https://5top100.ru/universities/national-research-university/%252Bhse%26newwindow%3D1%26hl%3Dru%26ct%3Dclnk&amp;sa=U&amp;ved=0ahUKEwiEpuWG7sfWAhXhC5oKHXKsAnkQIAhIMAw&amp;usg=AFQjCNEks6NJQjVHMepORaehwUnLecjevg\" target=\"_blank\">Сохраненная копия</a></li></ul></div></div></div><span class=\"st\">Институты и лаборатории <b>ВШЭ</b> возглавляют всемирно признанные ученые, <br/>\n",
      "такие как лауреат Нобелевской премии по экономике Эрик Маскин, автор и ...</span><br/></div></div></ol></div></div></div><div style=\"clear:both;margin-bottom:17px;overflow:hidden\"><div style=\"font-size:16px;padding:0 8px 1px\">Запросы, похожие на: \"<b>hse</b>\"</div><table border=\"0\" cellpadding=\"0\" cellspacing=\"0\"><tr><td valign=\"top\"><p class=\"_Bmc\" style=\"margin:3px 8px\"><a href=\"/search?newwindow=1&amp;ie=UTF-8&amp;q=%D0%B2%D1%8B%D1%81%D1%88%D0%B0%D1%8F+%D1%88%D0%BA%D0%BE%D0%BB%D0%B0+%D1%8D%D0%BA%D0%BE%D0%BD%D0%BE%D0%BC%D0%B8%D0%BA%D0%B8+%D0%B2%D1%8B%D0%B4%D0%B0%D1%8E%D1%89%D0%B8%D0%B5%D1%81%D1%8F+%D0%B2%D1%8B%D0%BF%D1%83%D1%81%D0%BA%D0%BD%D0%B8%D0%BA%D0%B8&amp;sa=X&amp;ved=0ahUKEwiEpuWG7sfWAhXhC5oKHXKsAnkQ1QIISygA\"><b>высшая школа экономики выдающиеся выпускники</b></a></p></td><td style=\"padding-left:10px\" valign=\"top\"><p class=\"_Bmc\" style=\"margin:3px 8px\"><a href=\"/search?newwindow=1&amp;ie=UTF-8&amp;q=%D0%B2%D1%88%D1%8D+%D0%BE%D0%BB%D0%B8%D0%BC%D0%BF%D0%B8%D0%B0%D0%B4%D0%B0&amp;sa=X&amp;ved=0ahUKEwiEpuWG7sfWAhXhC5oKHXKsAnkQ1QIITCgB\"><b>вшэ олимпиада</b></a></p></td></tr><tr><td valign=\"top\"><p class=\"_Bmc\" style=\"margin:3px 8px\"><a href=\"/search?newwindow=1&amp;ie=UTF-8&amp;q=%D0%B2%D1%8B%D1%81%D1%88%D0%B0%D1%8F+%D1%88%D0%BA%D0%BE%D0%BB%D0%B0+%D1%8D%D0%BA%D0%BE%D0%BD%D0%BE%D0%BC%D0%B8%D0%BA%D0%B8+%D1%84%D0%B0%D0%BA%D1%83%D0%BB%D1%8C%D1%82%D0%B5%D1%82%D1%8B&amp;sa=X&amp;ved=0ahUKEwiEpuWG7sfWAhXhC5oKHXKsAnkQ1QIITSgC\"><b>высшая школа экономики факультеты</b></a></p></td><td style=\"padding-left:10px\" valign=\"top\"><p class=\"_Bmc\" style=\"margin:3px 8px\"><a href=\"/search?newwindow=1&amp;ie=UTF-8&amp;q=%D0%B2%D1%8B%D1%81%D1%88%D0%B0%D1%8F+%D1%88%D0%BA%D0%BE%D0%BB%D0%B0+%D1%8D%D0%BA%D0%BE%D0%BD%D0%BE%D0%BC%D0%B8%D0%BA%D0%B8+%D0%B0%D0%B4%D1%80%D0%B5%D1%81&amp;sa=X&amp;ved=0ahUKEwiEpuWG7sfWAhXhC5oKHXKsAnkQ1QIITigD\"><b>высшая школа экономики адрес</b></a></p></td></tr><tr><td valign=\"top\"><p class=\"_Bmc\" style=\"margin:3px 8px\"><a href=\"/search?newwindow=1&amp;ie=UTF-8&amp;q=%D0%B2%D1%8B%D1%81%D1%88%D0%B0%D1%8F+%D1%88%D0%BA%D0%BE%D0%BB%D0%B0+%D1%8D%D0%BA%D0%BE%D0%BD%D0%BE%D0%BC%D0%B8%D0%BA%D0%B8+%D1%81%D0%BF%D0%B1&amp;sa=X&amp;ved=0ahUKEwiEpuWG7sfWAhXhC5oKHXKsAnkQ1QIITygE\"><b>высшая школа экономики спб</b></a></p></td><td style=\"padding-left:10px\" valign=\"top\"><p class=\"_Bmc\" style=\"margin:3px 8px\"><a href=\"/search?newwindow=1&amp;ie=UTF-8&amp;q=%D0%B2%D1%8B%D1%81%D1%88%D0%B0%D1%8F+%D1%88%D0%BA%D0%BE%D0%BB%D0%B0+%D1%8D%D0%BA%D0%BE%D0%BD%D0%BE%D0%BC%D0%B8%D0%BA%D0%B8+%D0%BC%D0%B0%D0%B3%D0%B8%D1%81%D1%82%D1%80%D0%B0%D1%82%D1%83%D1%80%D0%B0&amp;sa=X&amp;ved=0ahUKEwiEpuWG7sfWAhXhC5oKHXKsAnkQ1QIIUCgF\"><b>высшая школа экономики магистратура</b></a></p></td></tr><tr><td valign=\"top\"><p class=\"_Bmc\" style=\"margin:3px 8px\"><a href=\"/search?newwindow=1&amp;ie=UTF-8&amp;q=%D0%B2%D1%8B%D1%81%D1%88%D0%B0%D1%8F+%D1%88%D0%BA%D0%BE%D0%BB%D0%B0+%D1%8D%D0%BA%D0%BE%D0%BD%D0%BE%D0%BC%D0%B8%D0%BA%D0%B8+%D0%BF%D1%80%D0%B8%D0%B5%D0%BC%D0%BD%D0%B0%D1%8F+%D0%BA%D0%BE%D0%BC%D0%B8%D1%81%D1%81%D0%B8%D1%8F&amp;sa=X&amp;ved=0ahUKEwiEpuWG7sfWAhXhC5oKHXKsAnkQ1QIIUSgG\"><b>высшая школа экономики приемная комиссия</b></a></p></td><td style=\"padding-left:10px\" valign=\"top\"><p class=\"_Bmc\" style=\"margin:3px 8px\"><a href=\"/search?newwindow=1&amp;ie=UTF-8&amp;q=%D0%B2%D1%88%D1%8D+%D0%BB%D0%B8%D1%86%D0%B5%D0%B9&amp;sa=X&amp;ved=0ahUKEwiEpuWG7sfWAhXhC5oKHXKsAnkQ1QIIUigH\"><b>вшэ лицей</b></a></p></td></tr></table></div></div><div id=\"foot\"><table align=\"center\" border=\"0\" cellpadding=\"0\" cellspacing=\"0\" id=\"nav\"><tr valign=\"top\"><td align=\"left\" class=\"b\"><span class=\"csb\" style=\"background-position:-24px 0;width:28px\"></span><b></b></td><td><span class=\"csb\" style=\"background-position:-53px 0;width:20px\"></span><b>1</b></td><td><a class=\"fl\" href=\"/search?q=hse&amp;newwindow=1&amp;ie=UTF-8&amp;prmd=ivnsz&amp;ei=HujMWYSfFuGX6ATy2IrIBw&amp;start=10&amp;sa=N\"><span class=\"csb\" style=\"background-position:-74px 0;width:20px\"></span>2</a></td><td><a class=\"fl\" href=\"/search?q=hse&amp;newwindow=1&amp;ie=UTF-8&amp;prmd=ivnsz&amp;ei=HujMWYSfFuGX6ATy2IrIBw&amp;start=20&amp;sa=N\"><span class=\"csb\" style=\"background-position:-74px 0;width:20px\"></span>3</a></td><td><a class=\"fl\" href=\"/search?q=hse&amp;newwindow=1&amp;ie=UTF-8&amp;prmd=ivnsz&amp;ei=HujMWYSfFuGX6ATy2IrIBw&amp;start=30&amp;sa=N\"><span class=\"csb\" style=\"background-position:-74px 0;width:20px\"></span>4</a></td><td><a class=\"fl\" href=\"/search?q=hse&amp;newwindow=1&amp;ie=UTF-8&amp;prmd=ivnsz&amp;ei=HujMWYSfFuGX6ATy2IrIBw&amp;start=40&amp;sa=N\"><span class=\"csb\" style=\"background-position:-74px 0;width:20px\"></span>5</a></td><td><a class=\"fl\" href=\"/search?q=hse&amp;newwindow=1&amp;ie=UTF-8&amp;prmd=ivnsz&amp;ei=HujMWYSfFuGX6ATy2IrIBw&amp;start=50&amp;sa=N\"><span class=\"csb\" style=\"background-position:-74px 0;width:20px\"></span>6</a></td><td><a class=\"fl\" href=\"/search?q=hse&amp;newwindow=1&amp;ie=UTF-8&amp;prmd=ivnsz&amp;ei=HujMWYSfFuGX6ATy2IrIBw&amp;start=60&amp;sa=N\"><span class=\"csb\" style=\"background-position:-74px 0;width:20px\"></span>7</a></td><td><a class=\"fl\" href=\"/search?q=hse&amp;newwindow=1&amp;ie=UTF-8&amp;prmd=ivnsz&amp;ei=HujMWYSfFuGX6ATy2IrIBw&amp;start=70&amp;sa=N\"><span class=\"csb\" style=\"background-position:-74px 0;width:20px\"></span>8</a></td><td><a class=\"fl\" href=\"/search?q=hse&amp;newwindow=1&amp;ie=UTF-8&amp;prmd=ivnsz&amp;ei=HujMWYSfFuGX6ATy2IrIBw&amp;start=80&amp;sa=N\"><span class=\"csb\" style=\"background-position:-74px 0;width:20px\"></span>9</a></td><td><a class=\"fl\" href=\"/search?q=hse&amp;newwindow=1&amp;ie=UTF-8&amp;prmd=ivnsz&amp;ei=HujMWYSfFuGX6ATy2IrIBw&amp;start=90&amp;sa=N\"><span class=\"csb\" style=\"background-position:-74px 0;width:20px\"></span>10</a></td><td class=\"b\" style=\"text-align:left\"><a class=\"fl\" href=\"/search?q=hse&amp;newwindow=1&amp;ie=UTF-8&amp;prmd=ivnsz&amp;ei=HujMWYSfFuGX6ATy2IrIBw&amp;start=10&amp;sa=N\" style=\"text-align:left\"><span class=\"csb\" style=\"background-position:-96px 0;width:71px\"></span><span style=\"display:block;margin-left:53px\">Следующая</span></a></td></tr></table><p class=\"_cD\" id=\"bfl\" style=\"margin:19px 0 0;text-align:center\"><a href=\"/advanced_search?q=hse&amp;newwindow=1&amp;ie=UTF-8&amp;prmd=ivnsz\">Расширенный поиск</a><a href=\"/support/websearch/bin/answer.py?answer=134479&amp;hl=ru\">Справка по поиску</a> <a href=\"/tools/feedback/survey/html?productId=196&amp;query=hse&amp;hl=ru\">Отправить отзыв</a></p><div class=\"_cD\" id=\"fll\" style=\"margin:19px auto 19px auto;text-align:center\"><a href=\"/\">Главная страница Google</a> <a href=\"/intl/ru/ads\">Рекламные программы</a> <a href=\"/intl/ru/policies/privacy/\">Конфиденциальность</a> <a href=\"/intl/ru/policies/terms/\">Условия</a> <a href=\"/intl/ru/about.html\">О Google</a></div></div></td><td id=\"rhs_block\" valign=\"top\"><ol><div class=\"g\"><div class=\"_uXc hp-xpdbox\"><div class=\"_x8d\"><a href=\"http://maps.google.ru/maps?um=1&amp;ie=UTF-8&amp;fb=1&amp;gl=ru&amp;sa=X&amp;ll=55.6698557,37.2796992&amp;z=15&amp;ftid=0x0:0xfe2cef17877408e1&amp;q=%D0%9E%D0%B1%D1%89%D0%B5%D0%B6%D0%B8%D1%82%D0%B8%D0%B5+%E2%84%96+8+%D0%9D%D0%98%D0%A3+%D0%92%D0%A8%D0%AD&amp;ved=0ahUKEwiEpuWG7sfWAhXhC5oKHXKsAnkQ_BIIWzAN\" style=\"height:150px\"><img alt=\"Общежитие № 8 НИУ ВШЭ – карта\" height=\"150\" src=\"/maps/vt/data=HuVTF2YBFrvqdK0sFo4xStr01Iwf_JtLiLNoNPgR0rVxVjY1hG1Bauoje504fA_2sqjOhwg25EQGMnSE3zxCSngGcysfYqOFBhPAD30_2C4NBmDn8HklS_5x8adcvh-P0fCNS2HTIvRE5fx0\" title=\"Общежитие № 8 НИУ ВШЭ – карта\" width=\"258\"/></a></div><div class=\"_o0d\"><div><div class=\"_B5d\">Общежитие № 8 НИУ ВШЭ</div></div></div><div class=\"_o0d\"><div><span class=\"_kgd\">4,9</span> <div class=\"_WQf star\"><div style=\"width:65px\"> </div></div><span style=\"color:#777\"> 18 отзывов</span></div></div><div class=\"_o0d\"><div class=\"_POh\"><span>Общежитие в Одинцово, Россия</span></div></div><div class=\"_o0d\"><div class=\"_pIf _sIf\"><div class=\"_IGf\"><a class=\"fl _DHf\" href=\"http://maps.google.ru/maps?um=1&amp;ie=UTF-8&amp;fb=1&amp;gl=ru&amp;sa=X&amp;geocode=KSHG_bhNULVGMeEIdIcX7yz-&amp;daddr=%D1%83%D0%BB.+%D0%9C%D0%B0%D0%BA%D0%BE%D0%B2%D1%81%D0%BA%D0%BE%D0%B3%D0%BE,+2,+%D0%9E%D0%B4%D0%B8%D0%BD%D1%86%D0%BE%D0%B2%D0%BE,+%D0%9C%D0%BE%D1%81%D0%BA%D0%BE%D0%B2%D1%81%D0%BA%D0%B0%D1%8F+%D0%BE%D0%B1%D0%BB.,+143006&amp;ved=0ahUKEwiEpuWG7sfWAhXhC5oKHXKsAnkQiBMIZSgAMBE\">Маршрут</a><a class=\"fl\" href=\"/url?q=https://www.hse.ru/&amp;sa=U&amp;ved=0ahUKEwiEpuWG7sfWAhXhC5oKHXKsAnkQ_BcIZigBMBE&amp;usg=AFQjCNE1v9Tvdrc2uMiuUYD92cdGTiqvzA\" target=\"_blank\">Веб-сайт</a></div></div></div><div class=\"_o0d\" style=\"display:none\"></div><div class=\"_o0d\"><div class=\"_gF\"><span class=\"_gS\">Адрес: </span><span class=\"_tA\">ул. Маковского, 2, Одинцово, Московская обл., 143006</span></div></div><div class=\"_o0d\"><div class=\"_gF\"><span class=\"_gS\">Телефон: </span><span class=\"_tA\">8 (498) 601-69-53</span></div></div></div></div><div class=\"g\"><div id=\"_Oce\"><div class=\"_Pce\"><div><div class=\"_C5d\">Возможно, вы искали</div></div></div><div class=\"_Pce\"><div class=\"_S4d\"><table class=\"_R4d\"><tr><td class=\"_P4d\"><a class=\"fl\" href=\"/search?newwindow=1&amp;ie=UTF-8&amp;q=%D0%92%D1%8B%D1%81%D1%88%D0%B0%D1%8F+%D1%88%D0%BA%D0%BE%D0%BB%D0%B0+%D1%8D%D0%BA%D0%BE%D0%BD%D0%BE%D0%BC%D0%B8%D0%BA%D0%B8&amp;stick=H4sIAAAAAAAAAONgecToyi3w8sc9YSmbSWtOXmM04-IKzsgvd80rySypFNLgYoOy5Lj4pLj0c_UNjApTkgzyNBikeLiQ-DwA1N5Q9EoAAAA&amp;sa=X&amp;ved=0ahUKEwiEpuWG7sfWAhXhC5oKHXKsAnkQ-DIIdDAW\"><div class=\"_fce _Qbe\">Высшая школа экономики (Университет в Москве, Россия)</div><div class=\"_Vbe _Qbe\">Президент: Александр Николаевич Шохин</div><div class=\"_Vbe _Qbe\">Выдающиеся выпускники: Тимати, Андрей Юрьевич Воробьёв, Сергей Пантелеевич Мавроди, Максим Станиславович Орешкин, Герман Сергеевич Клименко, Роза Раифовна Сябитова, Илья Валерьевич Яшин, Алексей Евгеньевич Репик, Борис Александрович Чернышов, Наталья Ивановна Касперская, Александр Николаевич Тихонов</div></a></td><td width=\"40\"><a href=\"/search?newwindow=1&amp;ie=UTF-8&amp;q=%D0%92%D1%8B%D1%81%D1%88%D0%B0%D1%8F+%D1%88%D0%BA%D0%BE%D0%BB%D0%B0+%D1%8D%D0%BA%D0%BE%D0%BD%D0%BE%D0%BC%D0%B8%D0%BA%D0%B8&amp;stick=H4sIAAAAAAAAAONgecToyi3w8sc9YSmbSWtOXmM04-IKzsgvd80rySypFNLgYoOy5Lj4pLj0c_UNjApTkgzyNBikeLiQ-DwA1N5Q9EoAAAA&amp;sa=X&amp;ved=0ahUKEwiEpuWG7sfWAhXhC5oKHXKsAnkQ-DIIdzAW\"><img class=\"_T4d\" height=\"40\" src=\"http://t2.gstatic.com/images?q=tbn:ANd9GcTAa_4JVBMgIpOQWsVW-lp4cegYbQ65Gj5LPqyGfTT51qKStnbGico\" width=\"40\"/></a></td></tr></table></div></div></div></div><div class=\"g\"></div></ol></td></tr></tbody></table><script type=\"text/javascript\">(function(){var eventid='HujMWYSfFuGX6ATy2IrIBw';google.kEI = eventid;})();</script><script src=\"/xjs/_/js/k=xjs.hp.en_US.6NUyegkYNUw.O/m=sb_he,d/rt=j/d=1/t=zcms/rs=ACT90oHVu_R1OEH0PpoJOlGhu6NSyHLb7A\"></script><script type=\"text/javascript\">google.ac&&google.ac.c({\"agen\":false,\"cgen\":false,\"client\":\"heirloom-serp\",\"dh\":true,\"dhqt\":true,\"ds\":\"\",\"exp\":\"dummy_maps_web_fallback\",\"fl\":true,\"host\":\"google.ru\",\"isbh\":28,\"jam\":0,\"jsonp\":true,\"msgs\":{\"cibl\":\"Удалить поисковый запрос\",\"dym\":\"Возможно, вы имели в виду:\",\"lcky\":\"Мне повезёт!\",\"lml\":\"Подробнее...\",\"oskt\":\"Экранная клавиатура\",\"psrc\":\"Этот запрос был удален из вашей \\u003Ca href=\\\"/history\\\"\\u003Eистории веб-поиска\\u003C/a\\u003E\",\"psrl\":\"Удалить\",\"sbit\":\"Поиск по картинке\",\"srch\":\"Поиск в Google\"},\"nds\":true,\"ovr\":{},\"pq\":\"hse\",\"refpd\":true,\"rfs\":[\"высшая школа экономики выдающиеся выпускники\",\"высшая школа экономики факультеты\",\"высшая школа экономики спб\",\"высшая школа экономики приемная комиссия\",\"вшэ олимпиада\",\"высшая школа экономики адрес\",\"высшая школа экономики магистратура\",\"вшэ лицей\"],\"sbpl\":24,\"sbpr\":24,\"scd\":10,\"sce\":5,\"stok\":\"fiQ-Lk8O5HMWBH2sp2A_2lC4BB8\"})</script><script>(function(){window.google.cdo={height:0,width:0};(function(){var a=window.innerWidth,b=window.innerHeight;if(!a||!b){var c=window.document,d=\"CSS1Compat\"==c.compatMode?c.documentElement:c.body;a=d.clientWidth;b=d.clientHeight}a&&b&&(a!=google.cdo.width||b!=google.cdo.height)&&google.log(\"\",\"\",\"/client_204?&atyp=i&biw=\"+a+\"&bih=\"+b+\"&ei=\"+google.kEI);}).call(this);})();</script></body></html>\n"
     ]
    }
   ],
   "source": [
    "google('hse')"
   ]
  },
  {
   "cell_type": "markdown",
   "metadata": {},
   "source": [
    "### Обход блокировки"
   ]
  },
  {
   "cell_type": "code",
   "execution_count": 63,
   "metadata": {
    "collapsed": true
   },
   "outputs": [],
   "source": [
    "import socks\n",
    "import socket\n",
    "import time\n",
    "\n",
    "def create_connection(address, timeout=None, source_address=None):\n",
    "    sock = socks.socksocket()\n",
    "    sock.connect(address)\n",
    "    return sock\n",
    "\n",
    "socks.setdefaultproxy(socks.PROXY_TYPE_SOCKS5, \"127.0.0.1\", 9050)\n",
    "socket.socket = socks.socksocket\n",
    "socket.create_connection = create_connection\n",
    "        \n",
    "time.sleep(0.1)\n",
    "\n",
    "socks.socksocket().close() "
   ]
  },
  {
   "cell_type": "markdown",
   "metadata": {},
   "source": [
    "## Семинар"
   ]
  },
  {
   "cell_type": "markdown",
   "metadata": {},
   "source": [
    "Написать краулер, который собирает ссылки со страниц румынской Википедии."
   ]
  },
  {
   "cell_type": "code",
   "execution_count": 58,
   "metadata": {
    "collapsed": true
   },
   "outputs": [
    {
     "data": {
      "text/html": [
       "<i>0.</i>  <a href=\"#mw-head\">навигацие</a>"
      ],
      "text/plain": [
       "<IPython.core.display.HTML object>"
      ]
     },
     "metadata": {},
     "output_type": "display_data"
    },
    {
     "data": {
      "text/html": [
       "<i>1.</i>  <a href=\"#p-search\">кэутаре</a>"
      ],
      "text/plain": [
       "<IPython.core.display.HTML object>"
      ]
     },
     "metadata": {},
     "output_type": "display_data"
    },
    {
     "data": {
      "text/html": [
       "<i>2.</i>  <a href=\"/w/index.php?title=Special:Toate_paginile&amp;from=%D0%9B%D0%B8%D0%BC%D0%B1%D1%8D+%D0%BE%D1%84%D0%B8%D1%87%D0%B8%D0%B0%D0%BB%D1%8D\" title=\"Special:Toate paginile\">Pagina următoare (Лимбэ офичиалэ)</a>"
      ],
      "text/plain": [
       "<IPython.core.display.HTML object>"
      ]
     },
     "metadata": {},
     "output_type": "display_data"
    },
    {
     "data": {
      "text/html": [
       "<i>3.</i>  <a href=\"/wiki/1917\" title=\"1917\">1917</a>"
      ],
      "text/plain": [
       "<IPython.core.display.HTML object>"
      ]
     },
     "metadata": {},
     "output_type": "display_data"
    },
    {
     "data": {
      "text/html": [
       "<i>4.</i>  <a href=\"/wiki/1918\" title=\"1918\">1918</a>"
      ],
      "text/plain": [
       "<IPython.core.display.HTML object>"
      ]
     },
     "metadata": {},
     "output_type": "display_data"
    },
    {
     "data": {
      "text/html": [
       "<i>5.</i>  <a href=\"/wiki/1919\" title=\"1919\">1919</a>"
      ],
      "text/plain": [
       "<IPython.core.display.HTML object>"
      ]
     },
     "metadata": {},
     "output_type": "display_data"
    },
    {
     "data": {
      "text/html": [
       "<i>6.</i>  <a href=\"/wiki/1940\" title=\"1940\">1940</a>"
      ],
      "text/plain": [
       "<IPython.core.display.HTML object>"
      ]
     },
     "metadata": {},
     "output_type": "display_data"
    },
    {
     "data": {
      "text/html": [
       "<i>7.</i>  <a href=\"/wiki/1941\" title=\"1941\">1941</a>"
      ],
      "text/plain": [
       "<IPython.core.display.HTML object>"
      ]
     },
     "metadata": {},
     "output_type": "display_data"
    },
    {
     "data": {
      "text/html": [
       "<i>8.</i>  <a href=\"/wiki/1942\" title=\"1942\">1942</a>"
      ],
      "text/plain": [
       "<IPython.core.display.HTML object>"
      ]
     },
     "metadata": {},
     "output_type": "display_data"
    },
    {
     "data": {
      "text/html": [
       "<i>9.</i>  <a href=\"/wiki/1989\" title=\"1989\">1989</a>"
      ],
      "text/plain": [
       "<IPython.core.display.HTML object>"
      ]
     },
     "metadata": {},
     "output_type": "display_data"
    },
    {
     "data": {
      "text/html": [
       "<i>10.</i>  <a href=\"/wiki/1990\" title=\"1990\">1990</a>"
      ],
      "text/plain": [
       "<IPython.core.display.HTML object>"
      ]
     },
     "metadata": {},
     "output_type": "display_data"
    },
    {
     "data": {
      "text/html": [
       "<i>11.</i>  <a href=\"/wiki/1991\" title=\"1991\">1991</a>"
      ],
      "text/plain": [
       "<IPython.core.display.HTML object>"
      ]
     },
     "metadata": {},
     "output_type": "display_data"
    },
    {
     "data": {
      "text/html": [
       "<i>12.</i>  <a href=\"/wiki/1997\" title=\"1997\">1997</a>"
      ],
      "text/plain": [
       "<IPython.core.display.HTML object>"
      ]
     },
     "metadata": {},
     "output_type": "display_data"
    },
    {
     "data": {
      "text/html": [
       "<i>13.</i>  <a href=\"/wiki/1998\" title=\"1998\">1998</a>"
      ],
      "text/plain": [
       "<IPython.core.display.HTML object>"
      ]
     },
     "metadata": {},
     "output_type": "display_data"
    },
    {
     "data": {
      "text/html": [
       "<i>14.</i>  <a href=\"/wiki/1999\" title=\"1999\">1999</a>"
      ],
      "text/plain": [
       "<IPython.core.display.HTML object>"
      ]
     },
     "metadata": {},
     "output_type": "display_data"
    },
    {
     "data": {
      "text/html": [
       "<i>15.</i>  <a href=\"/wiki/2000\" title=\"2000\">2000</a>"
      ],
      "text/plain": [
       "<IPython.core.display.HTML object>"
      ]
     },
     "metadata": {},
     "output_type": "display_data"
    },
    {
     "data": {
      "text/html": [
       "<i>16.</i>  <a href=\"/wiki/2001\" title=\"2001\">2001</a>"
      ],
      "text/plain": [
       "<IPython.core.display.HTML object>"
      ]
     },
     "metadata": {},
     "output_type": "display_data"
    },
    {
     "data": {
      "text/html": [
       "<i>17.</i>  <a href=\"/wiki/2002\" title=\"2002\">2002</a>"
      ],
      "text/plain": [
       "<IPython.core.display.HTML object>"
      ]
     },
     "metadata": {},
     "output_type": "display_data"
    },
    {
     "data": {
      "text/html": [
       "<i>18.</i>  <a href=\"/wiki/2003\" title=\"2003\">2003</a>"
      ],
      "text/plain": [
       "<IPython.core.display.HTML object>"
      ]
     },
     "metadata": {},
     "output_type": "display_data"
    },
    {
     "data": {
      "text/html": [
       "<i>19.</i>  <a href=\"/wiki/2004\" title=\"2004\">2004</a>"
      ],
      "text/plain": [
       "<IPython.core.display.HTML object>"
      ]
     },
     "metadata": {},
     "output_type": "display_data"
    },
    {
     "data": {
      "text/html": [
       "<i>20.</i>  <a href=\"/wiki/2005\" title=\"2005\">2005</a>"
      ],
      "text/plain": [
       "<IPython.core.display.HTML object>"
      ]
     },
     "metadata": {},
     "output_type": "display_data"
    },
    {
     "data": {
      "text/html": [
       "<i>21.</i>  <a href=\"/wiki/2006\" title=\"2006\">2006</a>"
      ],
      "text/plain": [
       "<IPython.core.display.HTML object>"
      ]
     },
     "metadata": {},
     "output_type": "display_data"
    },
    {
     "data": {
      "text/html": [
       "<i>22.</i>  <a href=\"/wiki/2007\" title=\"2007\">2007</a>"
      ],
      "text/plain": [
       "<IPython.core.display.HTML object>"
      ]
     },
     "metadata": {},
     "output_type": "display_data"
    },
    {
     "data": {
      "text/html": [
       "<i>23.</i>  <a href=\"/wiki/2008\" title=\"2008\">2008</a>"
      ],
      "text/plain": [
       "<IPython.core.display.HTML object>"
      ]
     },
     "metadata": {},
     "output_type": "display_data"
    },
    {
     "data": {
      "text/html": [
       "<i>24.</i>  <a href=\"/wiki/2009\" title=\"2009\">2009</a>"
      ],
      "text/plain": [
       "<IPython.core.display.HTML object>"
      ]
     },
     "metadata": {},
     "output_type": "display_data"
    },
    {
     "data": {
      "text/html": [
       "<i>25.</i>  <a class=\"mw-redirect\" href=\"/wiki/Anenii_Noi\" title=\"Anenii Noi\">Anenii Noi</a>"
      ],
      "text/plain": [
       "<IPython.core.display.HTML object>"
      ]
     },
     "metadata": {},
     "output_type": "display_data"
    },
    {
     "data": {
      "text/html": [
       "<i>26.</i>  <a href=\"/wiki/A%D0%94H\" title=\"AДH\">AДH</a>"
      ],
      "text/plain": [
       "<IPython.core.display.HTML object>"
      ]
     },
     "metadata": {},
     "output_type": "display_data"
    },
    {
     "data": {
      "text/html": [
       "<i>27.</i>  <a href=\"/wiki/Biserica_Adev%C4%83ratului_Isus\" title=\"Biserica Adevăratului Isus\">Biserica Adevăratului Isus</a>"
      ],
      "text/plain": [
       "<IPython.core.display.HTML object>"
      ]
     },
     "metadata": {},
     "output_type": "display_data"
    },
    {
     "data": {
      "text/html": [
       "<i>28.</i>  <a class=\"mw-redirect\" href=\"/wiki/Bugeac\" title=\"Bugeac\">Bugeac</a>"
      ],
      "text/plain": [
       "<IPython.core.display.HTML object>"
      ]
     },
     "metadata": {},
     "output_type": "display_data"
    },
    {
     "data": {
      "text/html": [
       "<i>29.</i>  <a class=\"mw-redirect\" href=\"/wiki/Buran_(viscol)\" title=\"Buran (viscol)\">Buran (viscol)</a>"
      ],
      "text/plain": [
       "<IPython.core.display.HTML object>"
      ]
     },
     "metadata": {},
     "output_type": "display_data"
    },
    {
     "data": {
      "text/html": [
       "<i>30.</i>  <a class=\"mw-redirect\" href=\"/wiki/Chi%C5%9Fin%C4%83u\" title=\"Chişinău\">Chişinău</a>"
      ],
      "text/plain": [
       "<IPython.core.display.HTML object>"
      ]
     },
     "metadata": {},
     "output_type": "display_data"
    },
    {
     "data": {
      "text/html": [
       "<i>31.</i>  <a href=\"/wiki/Ciocan\" title=\"Ciocan\">Ciocan</a>"
      ],
      "text/plain": [
       "<IPython.core.display.HTML object>"
      ]
     },
     "metadata": {},
     "output_type": "display_data"
    },
    {
     "data": {
      "text/html": [
       "<i>32.</i>  <a class=\"mw-redirect\" href=\"/wiki/Continent\" title=\"Continent\">Continent</a>"
      ],
      "text/plain": [
       "<IPython.core.display.HTML object>"
      ]
     },
     "metadata": {},
     "output_type": "display_data"
    },
    {
     "data": {
      "text/html": [
       "<i>33.</i>  <a class=\"mw-redirect\" href=\"/wiki/Cultur%C4%83\" title=\"Cultură\">Cultură</a>"
      ],
      "text/plain": [
       "<IPython.core.display.HTML object>"
      ]
     },
     "metadata": {},
     "output_type": "display_data"
    },
    {
     "data": {
      "text/html": [
       "<i>34.</i>  <a href=\"/wiki/Dans\" title=\"Dans\">Dans</a>"
      ],
      "text/plain": [
       "<IPython.core.display.HTML object>"
      ]
     },
     "metadata": {},
     "output_type": "display_data"
    },
    {
     "data": {
      "text/html": [
       "<i>35.</i>  <a class=\"mw-redirect\" href=\"/wiki/Dansuri\" title=\"Dansuri\">Dansuri</a>"
      ],
      "text/plain": [
       "<IPython.core.display.HTML object>"
      ]
     },
     "metadata": {},
     "output_type": "display_data"
    },
    {
     "data": {
      "text/html": [
       "<i>36.</i>  <a class=\"mw-redirect\" href=\"/wiki/Densitatea_popula%C5%A3iei\" title=\"Densitatea populaţiei\">Densitatea populaţiei</a>"
      ],
      "text/plain": [
       "<IPython.core.display.HTML object>"
      ]
     },
     "metadata": {},
     "output_type": "display_data"
    },
    {
     "data": {
      "text/html": [
       "<i>37.</i>  <a href=\"/wiki/Discuter:Resim:Archdukecharles1.jpg\" title=\"Discuter:Resim:Archdukecharles1.jpg\">Discuter:Resim:Archdukecharles1.jpg</a>"
      ],
      "text/plain": [
       "<IPython.core.display.HTML object>"
      ]
     },
     "metadata": {},
     "output_type": "display_data"
    },
    {
     "data": {
      "text/html": [
       "<i>38.</i>  <a class=\"mw-redirect\" href=\"/wiki/Dupe\" title=\"Dupe\">Dupe</a>"
      ],
      "text/plain": [
       "<IPython.core.display.HTML object>"
      ]
     },
     "metadata": {},
     "output_type": "display_data"
    },
    {
     "data": {
      "text/html": [
       "<i>39.</i>  <a class=\"mw-redirect\" href=\"/wiki/Europa\" title=\"Europa\">Europa</a>"
      ],
      "text/plain": [
       "<IPython.core.display.HTML object>"
      ]
     },
     "metadata": {},
     "output_type": "display_data"
    },
    {
     "data": {
      "text/html": [
       "<i>40.</i>  <a class=\"mw-redirect\" href=\"/wiki/Film\" title=\"Film\">Film</a>"
      ],
      "text/plain": [
       "<IPython.core.display.HTML object>"
      ]
     },
     "metadata": {},
     "output_type": "display_data"
    },
    {
     "data": {
      "text/html": [
       "<i>41.</i>  <a class=\"mw-redirect\" href=\"/wiki/G%C4%83g%C4%83uzi\" title=\"Găgăuzi\">Găgăuzi</a>"
      ],
      "text/plain": [
       "<IPython.core.display.HTML object>"
      ]
     },
     "metadata": {},
     "output_type": "display_data"
    },
    {
     "data": {
      "text/html": [
       "<i>42.</i>  <a href=\"/wiki/G%C4%83g%C4%83uzia\" title=\"Găgăuzia\">Găgăuzia</a>"
      ],
      "text/plain": [
       "<IPython.core.display.HTML object>"
      ]
     },
     "metadata": {},
     "output_type": "display_data"
    },
    {
     "data": {
      "text/html": [
       "<i>43.</i>  <a class=\"mw-redirect\" href=\"/wiki/HomePage\" title=\"HomePage\">HomePage</a>"
      ],
      "text/plain": [
       "<IPython.core.display.HTML object>"
      ]
     },
     "metadata": {},
     "output_type": "display_data"
    },
    {
     "data": {
      "text/html": [
       "<i>44.</i>  <a href=\"/wiki/Ia%C5%9Fi\" title=\"Iaşi\">Iaşi</a>"
      ],
      "text/plain": [
       "<IPython.core.display.HTML object>"
      ]
     },
     "metadata": {},
     "output_type": "display_data"
    },
    {
     "data": {
      "text/html": [
       "<i>45.</i>  <a href=\"/wiki/InuYasha\" title=\"InuYasha\">InuYasha</a>"
      ],
      "text/plain": [
       "<IPython.core.display.HTML object>"
      ]
     },
     "metadata": {},
     "output_type": "display_data"
    },
    {
     "data": {
      "text/html": [
       "<i>46.</i>  <a class=\"mw-redirect\" href=\"/wiki/Istoria_Moldovei\" title=\"Istoria Moldovei\">Istoria Moldovei</a>"
      ],
      "text/plain": [
       "<IPython.core.display.HTML object>"
      ]
     },
     "metadata": {},
     "output_type": "display_data"
    },
    {
     "data": {
      "text/html": [
       "<i>47.</i>  <a class=\"mw-redirect\" href=\"/wiki/I%D0%BC%D0%BFep%D0%B8%D1%83%D0%BB_Po%D0%BCa%D0%BD\" title=\"Iмпepиул Poмaн\">Iмпepиул Poмaн</a>"
      ],
      "text/plain": [
       "<IPython.core.display.HTML object>"
      ]
     },
     "metadata": {},
     "output_type": "display_data"
    },
    {
     "data": {
      "text/html": [
       "<i>48.</i>  <a class=\"mw-redirect\" href=\"/wiki/I%D0%BD%D1%82ep%D0%BDe%D1%82\" title=\"Iнтepнeт\">Iнтepнeт</a>"
      ],
      "text/plain": [
       "<IPython.core.display.HTML object>"
      ]
     },
     "metadata": {},
     "output_type": "display_data"
    },
    {
     "data": {
      "text/html": [
       "<i>49.</i>  <a class=\"mw-redirect\" href=\"/wiki/Judetul_Edinet\" title=\"Judetul Edinet\">Judetul Edinet</a>"
      ],
      "text/plain": [
       "<IPython.core.display.HTML object>"
      ]
     },
     "metadata": {},
     "output_type": "display_data"
    },
    {
     "data": {
      "text/html": [
       "<i>50.</i>  <a class=\"mw-redirect\" href=\"/wiki/Jude%C5%A3ul_Chi%C5%9Fin%C4%83u\" title=\"Judeţul Chişinău\">Judeţul Chişinău</a>"
      ],
      "text/plain": [
       "<IPython.core.display.HTML object>"
      ]
     },
     "metadata": {},
     "output_type": "display_data"
    },
    {
     "data": {
      "text/html": [
       "<i>51.</i>  <a class=\"mw-redirect\" href=\"/wiki/Limba_Moldoveasc%C4%83\" title=\"Limba Moldovească\">Limba Moldovească</a>"
      ],
      "text/plain": [
       "<IPython.core.display.HTML object>"
      ]
     },
     "metadata": {},
     "output_type": "display_data"
    },
    {
     "data": {
      "text/html": [
       "<i>52.</i>  <a class=\"mw-redirect\" href=\"/wiki/Limba_Moldoveneasc%C4%83\" title=\"Limba Moldovenească\">Limba Moldovenească</a>"
      ],
      "text/plain": [
       "<IPython.core.display.HTML object>"
      ]
     },
     "metadata": {},
     "output_type": "display_data"
    },
    {
     "data": {
      "text/html": [
       "<i>53.</i>  <a class=\"mw-redirect\" href=\"/wiki/Limba_Noastr%C4%83\" title=\"Limba Noastră\">Limba Noastră</a>"
      ],
      "text/plain": [
       "<IPython.core.display.HTML object>"
      ]
     },
     "metadata": {},
     "output_type": "display_data"
    },
    {
     "data": {
      "text/html": [
       "<i>54.</i>  <a href=\"/wiki/Limba_german%C4%83\" title=\"Limba germană\">Limba germană</a>"
      ],
      "text/plain": [
       "<IPython.core.display.HTML object>"
      ]
     },
     "metadata": {},
     "output_type": "display_data"
    },
    {
     "data": {
      "text/html": [
       "<i>55.</i>  <a class=\"mw-redirect\" href=\"/wiki/Limba_moldoveneasc%C4%83\" title=\"Limba moldovenească\">Limba moldovenească</a>"
      ],
      "text/plain": [
       "<IPython.core.display.HTML object>"
      ]
     },
     "metadata": {},
     "output_type": "display_data"
    },
    {
     "data": {
      "text/html": [
       "<i>56.</i>  <a href=\"/wiki/Limba_olandez%C4%83\" title=\"Limba olandeză\">Limba olandeză</a>"
      ],
      "text/plain": [
       "<IPython.core.display.HTML object>"
      ]
     },
     "metadata": {},
     "output_type": "display_data"
    },
    {
     "data": {
      "text/html": [
       "<i>57.</i>  <a class=\"mw-redirect\" href=\"/wiki/Lista_de_orase_din_Argentina\" title=\"Lista de orase din Argentina\">Lista de orase din Argentina</a>"
      ],
      "text/plain": [
       "<IPython.core.display.HTML object>"
      ]
     },
     "metadata": {},
     "output_type": "display_data"
    },
    {
     "data": {
      "text/html": [
       "<i>58.</i>  <a class=\"mw-redirect\" href=\"/wiki/List%C4%83_de_ora%C5%9Fe_din_Argentina\" title=\"Listă de oraşe din Argentina\">Listă de oraşe din Argentina</a>"
      ],
      "text/plain": [
       "<IPython.core.display.HTML object>"
      ]
     },
     "metadata": {},
     "output_type": "display_data"
    },
    {
     "data": {
      "text/html": [
       "<i>59.</i>  <a href=\"/wiki/List%C4%83_de_ora%C5%9Fe_din_Republica_Moldova\" title=\"Listă de oraşe din Republica Moldova\">Listă de oraşe din Republica Moldova</a>"
      ],
      "text/plain": [
       "<IPython.core.display.HTML object>"
      ]
     },
     "metadata": {},
     "output_type": "display_data"
    },
    {
     "data": {
      "text/html": [
       "<i>60.</i>  <a class=\"mw-redirect\" href=\"/wiki/Main_Page\" title=\"Main Page\">Main Page</a>"
      ],
      "text/plain": [
       "<IPython.core.display.HTML object>"
      ]
     },
     "metadata": {},
     "output_type": "display_data"
    },
    {
     "data": {
      "text/html": [
       "<i>61.</i>  <a class=\"mw-redirect\" href=\"/wiki/Marea_Neagr%C4%83\" title=\"Marea Neagră\">Marea Neagră</a>"
      ],
      "text/plain": [
       "<IPython.core.display.HTML object>"
      ]
     },
     "metadata": {},
     "output_type": "display_data"
    },
    {
     "data": {
      "text/html": [
       "<i>62.</i>  <a class=\"mw-redirect\" href=\"/wiki/Mo.%D0%B2%D0%B8%D0%BA%D0%B8\" title=\"Mo.вики\">Mo.вики</a>"
      ],
      "text/plain": [
       "<IPython.core.display.HTML object>"
      ]
     },
     "metadata": {},
     "output_type": "display_data"
    },
    {
     "data": {
      "text/html": [
       "<i>63.</i>  <a class=\"mw-redirect\" href=\"/wiki/Mod%C3%A8le:Encyclop%C3%A9die\" title=\"Modèle:Encyclopédie\">Modèle:Encyclopédie</a>"
      ],
      "text/plain": [
       "<IPython.core.display.HTML object>"
      ]
     },
     "metadata": {},
     "output_type": "display_data"
    },
    {
     "data": {
      "text/html": [
       "<i>64.</i>  <a class=\"mw-redirect\" href=\"/wiki/Mosovce\" title=\"Mosovce\">Mosovce</a>"
      ],
      "text/plain": [
       "<IPython.core.display.HTML object>"
      ]
     },
     "metadata": {},
     "output_type": "display_data"
    },
    {
     "data": {
      "text/html": [
       "<i>65.</i>  <a class=\"mw-redirect\" href=\"/wiki/Mo%C5%A1ovce\" title=\"Mošovce\">Mošovce</a>"
      ],
      "text/plain": [
       "<IPython.core.display.HTML object>"
      ]
     },
     "metadata": {},
     "output_type": "display_data"
    },
    {
     "data": {
      "text/html": [
       "<i>66.</i>  <a class=\"mw-redirect\" href=\"/wiki/Nistru\" title=\"Nistru\">Nistru</a>"
      ],
      "text/plain": [
       "<IPython.core.display.HTML object>"
      ]
     },
     "metadata": {},
     "output_type": "display_data"
    },
    {
     "data": {
      "text/html": [
       "<i>67.</i>  <a href=\"/wiki/O-Zone\" title=\"O-Zone\">O-Zone</a>"
      ],
      "text/plain": [
       "<IPython.core.display.HTML object>"
      ]
     },
     "metadata": {},
     "output_type": "display_data"
    },
    {
     "data": {
      "text/html": [
       "<i>68.</i>  <a class=\"mw-redirect\" href=\"/wiki/Pagina_Principala\" title=\"Pagina Principala\">Pagina Principala</a>"
      ],
      "text/plain": [
       "<IPython.core.display.HTML object>"
      ]
     },
     "metadata": {},
     "output_type": "display_data"
    },
    {
     "data": {
      "text/html": [
       "<i>69.</i>  <a class=\"mw-redirect\" href=\"/wiki/Pagina_Principal%C3%A3\" title=\"Pagina Principalã\">Pagina Principalã</a>"
      ],
      "text/plain": [
       "<IPython.core.display.HTML object>"
      ]
     },
     "metadata": {},
     "output_type": "display_data"
    },
    {
     "data": {
      "text/html": [
       "<i>70.</i>  <a class=\"mw-redirect\" href=\"/wiki/Pagina_principal%C4%83\" title=\"Pagina principală\">Pagina principală</a>"
      ],
      "text/plain": [
       "<IPython.core.display.HTML object>"
      ]
     },
     "metadata": {},
     "output_type": "display_data"
    },
    {
     "data": {
      "text/html": [
       "<i>71.</i>  <a href=\"/wiki/Pagina_principal%C4%83_-_latin\" title=\"Pagina principală - latin\">Pagina principală - latin</a>"
      ],
      "text/plain": [
       "<IPython.core.display.HTML object>"
      ]
     },
     "metadata": {},
     "output_type": "display_data"
    },
    {
     "data": {
      "text/html": [
       "<i>72.</i>  <a class=\"mw-redirect\" href=\"/wiki/Planeta_Moldova\" title=\"Planeta Moldova\">Planeta Moldova</a>"
      ],
      "text/plain": [
       "<IPython.core.display.HTML object>"
      ]
     },
     "metadata": {},
     "output_type": "display_data"
    },
    {
     "data": {
      "text/html": [
       "<i>73.</i>  <a class=\"mw-redirect\" href=\"/wiki/P%D1%8D%D1%86%D1%83%D1%88%D0%BAa_%D1%87%D1%8F_%D1%83p%D1%8B%D1%82%D1%8D\" title=\"Pэцушкa чя уpытэ\">Pэцушкa чя уpытэ</a>"
      ],
      "text/plain": [
       "<IPython.core.display.HTML object>"
      ]
     },
     "metadata": {},
     "output_type": "display_data"
    },
    {
     "data": {
      "text/html": [
       "<i>74.</i>  <a href=\"/wiki/Raion\" title=\"Raion\">Raion</a>"
      ],
      "text/plain": [
       "<IPython.core.display.HTML object>"
      ]
     },
     "metadata": {},
     "output_type": "display_data"
    },
    {
     "data": {
      "text/html": [
       "<i>75.</i>  <a class=\"mw-redirect\" href=\"/wiki/Raionul_Anenii_Noi\" title=\"Raionul Anenii Noi\">Raionul Anenii Noi</a>"
      ],
      "text/plain": [
       "<IPython.core.display.HTML object>"
      ]
     },
     "metadata": {},
     "output_type": "display_data"
    },
    {
     "data": {
      "text/html": [
       "<i>76.</i>  <a class=\"mw-redirect\" href=\"/wiki/Raionul_Edinet\" title=\"Raionul Edinet\">Raionul Edinet</a>"
      ],
      "text/plain": [
       "<IPython.core.display.HTML object>"
      ]
     },
     "metadata": {},
     "output_type": "display_data"
    },
    {
     "data": {
      "text/html": [
       "<i>77.</i>  <a class=\"mw-redirect\" href=\"/wiki/Reni\" title=\"Reni\">Reni</a>"
      ],
      "text/plain": [
       "<IPython.core.display.HTML object>"
      ]
     },
     "metadata": {},
     "output_type": "display_data"
    },
    {
     "data": {
      "text/html": [
       "<i>78.</i>  <a class=\"mw-redirect\" href=\"/wiki/Republica_Moldova\" title=\"Republica Moldova\">Republica Moldova</a>"
      ],
      "text/plain": [
       "<IPython.core.display.HTML object>"
      ]
     },
     "metadata": {},
     "output_type": "display_data"
    },
    {
     "data": {
      "text/html": [
       "<i>79.</i>  <a class=\"mw-redirect\" href=\"/wiki/Riga\" title=\"Riga\">Riga</a>"
      ],
      "text/plain": [
       "<IPython.core.display.HTML object>"
      ]
     },
     "metadata": {},
     "output_type": "display_data"
    },
    {
     "data": {
      "text/html": [
       "<i>80.</i>  <a class=\"mw-redirect\" href=\"/wiki/Rom%C3%A2nia\" title=\"România\">România</a>"
      ],
      "text/plain": [
       "<IPython.core.display.HTML object>"
      ]
     },
     "metadata": {},
     "output_type": "display_data"
    },
    {
     "data": {
      "text/html": [
       "<i>81.</i>  <a class=\"mw-redirect\" href=\"/wiki/Rom%C3%A2nia_Mare\" title=\"România Mare\">România Mare</a>"
      ],
      "text/plain": [
       "<IPython.core.display.HTML object>"
      ]
     },
     "metadata": {},
     "output_type": "display_data"
    },
    {
     "data": {
      "text/html": [
       "<i>82.</i>  <a class=\"mw-redirect\" href=\"/wiki/Russia\" title=\"Russia\">Russia</a>"
      ],
      "text/plain": [
       "<IPython.core.display.HTML object>"
      ]
     },
     "metadata": {},
     "output_type": "display_data"
    },
    {
     "data": {
      "text/html": [
       "<i>83.</i>  <a class=\"mw-redirect\" href=\"/wiki/San_Francisco\" title=\"San Francisco\">San Francisco</a>"
      ],
      "text/plain": [
       "<IPython.core.display.HTML object>"
      ]
     },
     "metadata": {},
     "output_type": "display_data"
    },
    {
     "data": {
      "text/html": [
       "<i>84.</i>  <a href=\"/wiki/Sandbox\" title=\"Sandbox\">Sandbox</a>"
      ],
      "text/plain": [
       "<IPython.core.display.HTML object>"
      ]
     },
     "metadata": {},
     "output_type": "display_data"
    },
    {
     "data": {
      "text/html": [
       "<i>85.</i>  <a class=\"mw-redirect\" href=\"/wiki/Se\" title=\"Se\">Se</a>"
      ],
      "text/plain": [
       "<IPython.core.display.HTML object>"
      ]
     },
     "metadata": {},
     "output_type": "display_data"
    },
    {
     "data": {
      "text/html": [
       "<i>86.</i>  <a class=\"mw-redirect\" href=\"/wiki/Seul\" title=\"Seul\">Seul</a>"
      ],
      "text/plain": [
       "<IPython.core.display.HTML object>"
      ]
     },
     "metadata": {},
     "output_type": "display_data"
    },
    {
     "data": {
      "text/html": [
       "<i>87.</i>  <a class=\"mw-redirect\" href=\"/wiki/Step%C4%83\" title=\"Stepă\">Stepă</a>"
      ],
      "text/plain": [
       "<IPython.core.display.HTML object>"
      ]
     },
     "metadata": {},
     "output_type": "display_data"
    },
    {
     "data": {
      "text/html": [
       "<i>88.</i>  <a class=\"mw-redirect\" href=\"/wiki/Ucraina\" title=\"Ucraina\">Ucraina</a>"
      ],
      "text/plain": [
       "<IPython.core.display.HTML object>"
      ]
     },
     "metadata": {},
     "output_type": "display_data"
    },
    {
     "data": {
      "text/html": [
       "<i>89.</i>  <a href=\"/wiki/Ungaria\" title=\"Ungaria\">Ungaria</a>"
      ],
      "text/plain": [
       "<IPython.core.display.HTML object>"
      ]
     },
     "metadata": {},
     "output_type": "display_data"
    },
    {
     "data": {
      "text/html": [
       "<i>90.</i>  <a class=\"mw-redirect\" href=\"/wiki/Ungheni\" title=\"Ungheni\">Ungheni</a>"
      ],
      "text/plain": [
       "<IPython.core.display.HTML object>"
      ]
     },
     "metadata": {},
     "output_type": "display_data"
    },
    {
     "data": {
      "text/html": [
       "<i>91.</i>  <a class=\"mw-redirect\" href=\"/wiki/Uniunea_Europeana\" title=\"Uniunea Europeana\">Uniunea Europeana</a>"
      ],
      "text/plain": [
       "<IPython.core.display.HTML object>"
      ]
     },
     "metadata": {},
     "output_type": "display_data"
    },
    {
     "data": {
      "text/html": [
       "<i>92.</i>  <a class=\"mw-redirect\" href=\"/wiki/Uniunea_Europeanaa\" title=\"Uniunea Europeanaa\">Uniunea Europeanaa</a>"
      ],
      "text/plain": [
       "<IPython.core.display.HTML object>"
      ]
     },
     "metadata": {},
     "output_type": "display_data"
    },
    {
     "data": {
      "text/html": [
       "<i>93.</i>  <a class=\"mw-redirect\" href=\"/wiki/Uniunea_European%C4%83\" title=\"Uniunea Europeană\">Uniunea Europeană</a>"
      ],
      "text/plain": [
       "<IPython.core.display.HTML object>"
      ]
     },
     "metadata": {},
     "output_type": "display_data"
    },
    {
     "data": {
      "text/html": [
       "<i>94.</i>  <a class=\"mw-redirect\" href=\"/wiki/Var%C5%9Fovia\" title=\"Varşovia\">Varşovia</a>"
      ],
      "text/plain": [
       "<IPython.core.display.HTML object>"
      ]
     },
     "metadata": {},
     "output_type": "display_data"
    },
    {
     "data": {
      "text/html": [
       "<i>95.</i>  <a href=\"/wiki/Wiki\" title=\"Wiki\">Wiki</a>"
      ],
      "text/plain": [
       "<IPython.core.display.HTML object>"
      ]
     },
     "metadata": {},
     "output_type": "display_data"
    },
    {
     "data": {
      "text/html": [
       "<i>96.</i>  <a class=\"mw-redirect\" href=\"/wiki/X\" title=\"X\">X</a>"
      ],
      "text/plain": [
       "<IPython.core.display.HTML object>"
      ]
     },
     "metadata": {},
     "output_type": "display_data"
    },
    {
     "data": {
      "text/html": [
       "<i>97.</i>  <a class=\"mw-redirect\" href=\"/wiki/%D0%90%D0%A8%D0%9C\" title=\"АШМ\">АШМ</a>"
      ],
      "text/plain": [
       "<IPython.core.display.HTML object>"
      ]
     },
     "metadata": {},
     "output_type": "display_data"
    },
    {
     "data": {
      "text/html": [
       "<i>98.</i>  <a href=\"/wiki/%D0%90%D0%B1%D1%80%D1%83%D0%B4_(%D0%90%D0%BB%D0%B1%D0%B0)\" title=\"Абруд (Алба)\">Абруд (Алба)</a>"
      ],
      "text/plain": [
       "<IPython.core.display.HTML object>"
      ]
     },
     "metadata": {},
     "output_type": "display_data"
    },
    {
     "data": {
      "text/html": [
       "<i>99.</i>  <a class=\"mw-redirect\" href=\"/wiki/%D0%90%D0%B1%D1%80%D1%83%D0%B4_(%D0%B4%D0%B5%D0%B7%D0%B0%D0%BC%D0%B1%D0%B8%D0%B3%D1%83%D0%B9%D0%B0%D1%80%D0%B5)\" title=\"Абруд (дезамбигуйаре)\">Абруд (дезамбигуйаре)</a>"
      ],
      "text/plain": [
       "<IPython.core.display.HTML object>"
      ]
     },
     "metadata": {},
     "output_type": "display_data"
    },
    {
     "data": {
      "text/html": [
       "<i>100.</i>  <a href=\"/wiki/%D0%90%D0%B1%D1%80%D1%83%D0%B4_(%D0%B4%D0%B5%D0%B7%D0%B0%D0%BC%D0%B1%D0%B8%D0%B3%D1%83%D0%B9%D0%B7%D0%B0%D1%80%D0%B5)\" title=\"Абруд (дезамбигуйзаре)\">Абруд (дезамбигуйзаре)</a>"
      ],
      "text/plain": [
       "<IPython.core.display.HTML object>"
      ]
     },
     "metadata": {},
     "output_type": "display_data"
    },
    {
     "data": {
      "text/html": [
       "<i>101.</i>  <a class=\"mw-redirect\" href=\"/wiki/%D0%90%D0%B1%D1%80%D1%83%D0%B4_(%D0%B4%D0%B5%D0%B7%D0%B0%D0%BC%D0%B1%D0%B8%D0%B3%D1%83%D0%B9%D0%B7%D0%B0%D1%80%D0%B5)_on_wheels\" title=\"Абруд (дезамбигуйзаре) on wheels\">Абруд (дезамбигуйзаре) on wheels</a>"
      ],
      "text/plain": [
       "<IPython.core.display.HTML object>"
      ]
     },
     "metadata": {},
     "output_type": "display_data"
    },
    {
     "data": {
      "text/html": [
       "<i>102.</i>  <a href=\"/wiki/%D0%90%D0%B4%D1%8B%D0%B3%D0%B5%D1%8F\" title=\"Адыгея\">Адыгея</a>"
      ],
      "text/plain": [
       "<IPython.core.display.HTML object>"
      ]
     },
     "metadata": {},
     "output_type": "display_data"
    },
    {
     "data": {
      "text/html": [
       "<i>103.</i>  <a href=\"/wiki/%D0%90%D0%B5%D1%80%D0%BE%D0%BF%D0%BE%D1%80%D1%82%D1%83%D0%BB_%D0%A4%D1%80%D0%B0%D0%BD%D0%BA%D1%84%D1%83%D1%80%D1%82\" title=\"Аеропортул Франкфурт\">Аеропортул Франкфурт</a>"
      ],
      "text/plain": [
       "<IPython.core.display.HTML object>"
      ]
     },
     "metadata": {},
     "output_type": "display_data"
    },
    {
     "data": {
      "text/html": [
       "<i>104.</i>  <a href=\"/wiki/%D0%90%D0%B7%D0%B5%D1%80%D0%B1%D0%B0%D0%B8%D3%82%D0%B0%D0%BD\" title=\"Азербаиӂан\">Азербаиӂан</a>"
      ],
      "text/plain": [
       "<IPython.core.display.HTML object>"
      ]
     },
     "metadata": {},
     "output_type": "display_data"
    },
    {
     "data": {
      "text/html": [
       "<i>105.</i>  <a href=\"/wiki/%D0%90%D0%B9%D0%BE%D0%B2%D0%B0\" title=\"Айова\">Айова</a>"
      ],
      "text/plain": [
       "<IPython.core.display.HTML object>"
      ]
     },
     "metadata": {},
     "output_type": "display_data"
    },
    {
     "data": {
      "text/html": [
       "<i>106.</i>  <a href=\"/wiki/%D0%90%D0%B9%D1%81%D0%B1%D0%B5%D1%80%D0%B3\" title=\"Айсберг\">Айсберг</a>"
      ],
      "text/plain": [
       "<IPython.core.display.HTML object>"
      ]
     },
     "metadata": {},
     "output_type": "display_data"
    },
    {
     "data": {
      "text/html": [
       "<i>107.</i>  <a class=\"mw-redirect\" href=\"/wiki/%D0%90%D0%B9%D1%83%D0%B4\" title=\"Айуд\">Айуд</a>"
      ],
      "text/plain": [
       "<IPython.core.display.HTML object>"
      ]
     },
     "metadata": {},
     "output_type": "display_data"
    },
    {
     "data": {
      "text/html": [
       "<i>108.</i>  <a href=\"/wiki/%D0%90%D0%BA%D0%B0%D0%B4%D0%B5%D0%BC%D0%B8%D1%8F_%D0%B4%D0%B5_%D0%A8%D1%82%D0%B8%D0%B8%D0%BD%D1%86%D0%B5_%D0%B0_%D0%9C%D0%BE%D0%BB%D0%B4%D0%BE%D0%B2%D0%B5%D0%B9\" title=\"Академия де Штиинце а Молдовей\">Академия де Штиинце а Молдовей</a>"
      ],
      "text/plain": [
       "<IPython.core.display.HTML object>"
      ]
     },
     "metadata": {},
     "output_type": "display_data"
    },
    {
     "data": {
      "text/html": [
       "<i>109.</i>  <a href=\"/wiki/%D0%90%D0%BB%D0%B0%D0%B1%D0%B0%D0%BC%D0%B0\" title=\"Алабама\">Алабама</a>"
      ],
      "text/plain": [
       "<IPython.core.display.HTML object>"
      ]
     },
     "metadata": {},
     "output_type": "display_data"
    },
    {
     "data": {
      "text/html": [
       "<i>110.</i>  <a href=\"/wiki/%D0%90%D0%BB%D0%B2%D0%B5%D1%80%D0%BD%D1%8F\" title=\"Алверня\">Алверня</a>"
      ],
      "text/plain": [
       "<IPython.core.display.HTML object>"
      ]
     },
     "metadata": {},
     "output_type": "display_data"
    },
    {
     "data": {
      "text/html": [
       "<i>111.</i>  <a href=\"/wiki/%D0%90%D0%BB%D0%B5%D0%BA%D1%81%D0%B0%D0%BD%D0%B4%D1%80_%D0%9A%D0%B2%D0%B0%D1%81%D1%8C%D0%BD%D0%B5%D0%B2%D1%81%D0%BA%D0%B8%D0%B9\" title=\"Александр Квасьневский\">Александр Квасьневский</a>"
      ],
      "text/plain": [
       "<IPython.core.display.HTML object>"
      ]
     },
     "metadata": {},
     "output_type": "display_data"
    },
    {
     "data": {
      "text/html": [
       "<i>112.</i>  <a href=\"/wiki/%D0%90%D0%BB%D0%B5%D0%BA%D1%81%D0%B0%D0%BD%D0%B4%D1%80%D1%83%D0%B2_%D0%9A%D1%83%D1%8F%D0%B2%D1%81%D0%BA%D0%B8%D0%B9\" title=\"Александрув Куявский\">Александрув Куявский</a>"
      ],
      "text/plain": [
       "<IPython.core.display.HTML object>"
      ]
     },
     "metadata": {},
     "output_type": "display_data"
    },
    {
     "data": {
      "text/html": [
       "<i>113.</i>  <a href=\"/wiki/%D0%90%D0%BB%D0%B8%D0%B0%D0%BD%D1%86%D0%B0_%22%D0%9C%D0%BE%D0%BB%D0%B4%D0%BE%D0%B2%D0%B0_%D0%9D%D0%BE%D0%B0%D1%81%D1%82%D1%80%D1%8D%22\" title='Алианца \"Молдова Ноастрэ\"'>Алианца \"Молдова Ноастрэ\"</a>"
      ],
      "text/plain": [
       "<IPython.core.display.HTML object>"
      ]
     },
     "metadata": {},
     "output_type": "display_data"
    },
    {
     "data": {
      "text/html": [
       "<i>114.</i>  <a href=\"/wiki/%D0%90%D0%BB%D0%B8%D0%B0%D0%BD%D1%86%D0%B0_%C2%AB%D0%9C%D0%BE%D0%BB%D0%B4%D0%BE%D0%B2%D0%B0_%D0%9D%D0%BE%D0%B0%D1%81%D1%82%D1%80%D1%8D%C2%BB\" title=\"Алианца «Молдова Ноастрэ»\">Алианца «Молдова Ноастрэ»</a>"
      ],
      "text/plain": [
       "<IPython.core.display.HTML object>"
      ]
     },
     "metadata": {},
     "output_type": "display_data"
    },
    {
     "data": {
      "text/html": [
       "<i>115.</i>  <a href=\"/wiki/%D0%90%D0%BB%D0%BB%D0%B5%D0%BC%D0%B0%D0%BD\" title=\"Аллеман\">Аллеман</a>"
      ],
      "text/plain": [
       "<IPython.core.display.HTML object>"
      ]
     },
     "metadata": {},
     "output_type": "display_data"
    },
    {
     "data": {
      "text/html": [
       "<i>116.</i>  <a href=\"/wiki/%D0%90%D0%BB%D1%84%D0%B0%D0%B1%D0%B5%D1%82%D1%83%D0%BB_%D0%BA%D0%B8%D1%80%D0%B8%D0%BB%D0%B8%D0%BA_%D1%80%D0%BE%D0%BC%D1%8B%D0%BD\" title=\"Алфабетул кирилик ромын\">Алфабетул кирилик ромын</a>"
      ],
      "text/plain": [
       "<IPython.core.display.HTML object>"
      ]
     },
     "metadata": {},
     "output_type": "display_data"
    },
    {
     "data": {
      "text/html": [
       "<i>117.</i>  <a href=\"/wiki/%D0%90%D0%BB%D1%84%D0%B0%D0%B1%D0%B5%D1%82%D1%83%D0%BB_%D0%BC%D0%BE%D0%BB%D0%B4%D0%BE%D0%B2%D0%B5%D0%BD%D0%B5%D1%81%D0%BA\" title=\"Алфабетул молдовенеск\">Алфабетул молдовенеск</a>"
      ],
      "text/plain": [
       "<IPython.core.display.HTML object>"
      ]
     },
     "metadata": {},
     "output_type": "display_data"
    },
    {
     "data": {
      "text/html": [
       "<i>118.</i>  <a class=\"mw-redirect\" href=\"/wiki/%D0%90%D0%BB%D1%84%D0%B0%D0%B1%D0%B5%D1%82%D1%83%D0%BB_%D1%87%D0%B8%D1%80%D0%B8%D0%BB%D0%B8%D0%BA_%D1%80%D0%BE%D0%BC%D1%8B%D0%BD\" title=\"Алфабетул чирилик ромын\">Алфабетул чирилик ромын</a>"
      ],
      "text/plain": [
       "<IPython.core.display.HTML object>"
      ]
     },
     "metadata": {},
     "output_type": "display_data"
    },
    {
     "data": {
      "text/html": [
       "<i>119.</i>  <a class=\"mw-redirect\" href=\"/wiki/%D0%90%D0%BD%D0%B4%D0%BE%D1%80%D0%B0\" title=\"Андора\">Андора</a>"
      ],
      "text/plain": [
       "<IPython.core.display.HTML object>"
      ]
     },
     "metadata": {},
     "output_type": "display_data"
    },
    {
     "data": {
      "text/html": [
       "<i>120.</i>  <a href=\"/wiki/%D0%90%D0%BD%D0%B5%D0%9D%D0%B8%D0%B9-%D0%9D%D0%BE%D0%B9\" title=\"АнеНий-Ной\">АнеНий-Ной</a>"
      ],
      "text/plain": [
       "<IPython.core.display.HTML object>"
      ]
     },
     "metadata": {},
     "output_type": "display_data"
    },
    {
     "data": {
      "text/html": [
       "<i>121.</i>  <a href=\"/wiki/%D0%90%D0%BD%D0%B8%D0%B9_1970\" title=\"Аний 1970\">Аний 1970</a>"
      ],
      "text/plain": [
       "<IPython.core.display.HTML object>"
      ]
     },
     "metadata": {},
     "output_type": "display_data"
    },
    {
     "data": {
      "text/html": [
       "<i>122.</i>  <a class=\"mw-redirect\" href=\"/wiki/%D0%90%D0%BD%D0%BD%D0%B5%D0%BD%D0%B8%D0%B9_%D0%9D%D0%BE%D0%B9\" title=\"Аннений Ной\">Аннений Ной</a>"
      ],
      "text/plain": [
       "<IPython.core.display.HTML object>"
      ]
     },
     "metadata": {},
     "output_type": "display_data"
    },
    {
     "data": {
      "text/html": [
       "<i>123.</i>  <a href=\"/wiki/%D0%90%D0%BD%D0%BD%D0%BE%D0%BF%D0%BE%D0%BB\" title=\"Аннопол\">Аннопол</a>"
      ],
      "text/plain": [
       "<IPython.core.display.HTML object>"
      ]
     },
     "metadata": {},
     "output_type": "display_data"
    },
    {
     "data": {
      "text/html": [
       "<i>124.</i>  <a href=\"/wiki/%D0%90%D0%BF%D0%BB%D0%B8%D0%BA%D0%B0%D1%86%D0%B8%D0%B5_%D0%B4%D0%B5_%D0%BA%D0%B0%D0%BB%D0%BA%D1%83%D0%BB%D0%B0%D1%82%D0%BE%D1%80\" title=\"Апликацие де калкулатор\">Апликацие де калкулатор</a>"
      ],
      "text/plain": [
       "<IPython.core.display.HTML object>"
      ]
     },
     "metadata": {},
     "output_type": "display_data"
    },
    {
     "data": {
      "text/html": [
       "<i>125.</i>  <a href=\"/wiki/%D0%90%D1%80%D0%BC%D0%B5%D0%BD%D0%B8%D1%8F\" title=\"Армения\">Армения</a>"
      ],
      "text/plain": [
       "<IPython.core.display.HTML object>"
      ]
     },
     "metadata": {},
     "output_type": "display_data"
    },
    {
     "data": {
      "text/html": [
       "<i>126.</i>  <a href=\"/wiki/%D0%90%D1%80%D1%85%D0%B8%D1%82%D0%B5%D0%BA%D1%82%D1%83%D1%80%D1%8D\" title=\"Архитектурэ\">Архитектурэ</a>"
      ],
      "text/plain": [
       "<IPython.core.display.HTML object>"
      ]
     },
     "metadata": {},
     "output_type": "display_data"
    },
    {
     "data": {
      "text/html": [
       "<i>127.</i>  <a href=\"/wiki/%D0%90%D1%81%D0%B8%D1%8F\" title=\"Асия\">Асия</a>"
      ],
      "text/plain": [
       "<IPython.core.display.HTML object>"
      ]
     },
     "metadata": {},
     "output_type": "display_data"
    },
    {
     "data": {
      "text/html": [
       "<i>128.</i>  <a href=\"/wiki/%D0%90%D1%81%D1%82%D1%80%D0%BE%D0%BD%D0%BE%D0%BC%D0%B8%D0%B5_%D1%88%D0%B8_%D0%B0%D1%81%D1%82%D1%80%D0%BE%D1%84%D0%B8%D0%B7%D0%B8%D0%BA%D1%8D\" title=\"Астрономие ши астрофизикэ\">Астрономие ши астрофизикэ</a>"
      ],
      "text/plain": [
       "<IPython.core.display.HTML object>"
      ]
     },
     "metadata": {},
     "output_type": "display_data"
    },
    {
     "data": {
      "text/html": [
       "<i>129.</i>  <a class=\"mw-redirect\" href=\"/wiki/%D0%90%D1%82%D0%B5%D0%BD%D1%82%D0%B0%D1%82%D0%B5%D0%BB%D0%B5_%D0%B4%D0%B8%D0%BD_7_%D0%B8%D1%83%D0%BB%D0%B8%D0%B5_2005_%D0%B4%D0%B5_%D0%BB%D0%B0_%D0%9B%D0%BE%D0%BD%D0%B4%D1%80%D0%B0\" title=\"Атентателе дин 7 иулие 2005 де ла Лондра\">Атентателе дин 7 иулие 2005 де ла Лондра</a>"
      ],
      "text/plain": [
       "<IPython.core.display.HTML object>"
      ]
     },
     "metadata": {},
     "output_type": "display_data"
    },
    {
     "data": {
      "text/html": [
       "<i>130.</i>  <a href=\"/wiki/%D0%90%D1%82%D0%B5%D0%BD%D1%82%D0%B0%D1%82%D0%B5%D0%BB%D0%B5_%D0%B4%D0%B8%D0%BD_7_%D1%8E%D0%BB%D0%B8%D0%B5_2005_%D0%B4%D0%B5_%D0%BB%D0%B0_%D0%9B%D0%BE%D0%BD%D0%B4%D1%80%D0%B0\" title=\"Атентателе дин 7 юлие 2005 де ла Лондра\">Атентателе дин 7 юлие 2005 де ла Лондра</a>"
      ],
      "text/plain": [
       "<IPython.core.display.HTML object>"
      ]
     },
     "metadata": {},
     "output_type": "display_data"
    },
    {
     "data": {
      "text/html": [
       "<i>131.</i>  <a href=\"/wiki/%D0%90%D1%83%D1%80%D0%B5%D0%BB%D0%B8%D1%83_%D0%91%D1%83%D1%81%D1%83%D0%B9%D0%BE%D0%BA\" title=\"Аурелиу Бусуйок\">Аурелиу Бусуйок</a>"
      ],
      "text/plain": [
       "<IPython.core.display.HTML object>"
      ]
     },
     "metadata": {},
     "output_type": "display_data"
    },
    {
     "data": {
      "text/html": [
       "<i>132.</i>  <a href=\"/wiki/%D0%90%D1%83%D1%81%D1%82%D1%80%D0%B8%D1%8F\" title=\"Аустрия\">Аустрия</a>"
      ],
      "text/plain": [
       "<IPython.core.display.HTML object>"
      ]
     },
     "metadata": {},
     "output_type": "display_data"
    },
    {
     "data": {
      "text/html": [
       "<i>133.</i>  <a href=\"/wiki/%D0%90%D1%84%D0%B3%D0%B0%D0%BD%D0%B8%D1%81%D1%82%D0%B0%D0%BD\" title=\"Афганистан\">Афганистан</a>"
      ],
      "text/plain": [
       "<IPython.core.display.HTML object>"
      ]
     },
     "metadata": {},
     "output_type": "display_data"
    },
    {
     "data": {
      "text/html": [
       "<i>134.</i>  <a href=\"/wiki/%D0%90%D1%85%D0%BC%D0%B5%D0%B4%D0%B0%D0%B1%D0%B0%D0%B4\" title=\"Ахмедабад\">Ахмедабад</a>"
      ],
      "text/plain": [
       "<IPython.core.display.HTML object>"
      ]
     },
     "metadata": {},
     "output_type": "display_data"
    },
    {
     "data": {
      "text/html": [
       "<i>135.</i>  <a href=\"/wiki/%D0%90%D1%8E%D0%B4\" title=\"Аюд\">Аюд</a>"
      ],
      "text/plain": [
       "<IPython.core.display.HTML object>"
      ]
     },
     "metadata": {},
     "output_type": "display_data"
    },
    {
     "data": {
      "text/html": [
       "<i>136.</i>  <a class=\"mw-redirect\" href=\"/wiki/%D0%91%D0%B0%D1%81%D0%B0%D1%80%D0%B0%D0%B1%D0%B8%D1%8F\" title=\"Басарабия\">Басарабия</a>"
      ],
      "text/plain": [
       "<IPython.core.display.HTML object>"
      ]
     },
     "metadata": {},
     "output_type": "display_data"
    },
    {
     "data": {
      "text/html": [
       "<i>137.</i>  <a href=\"/wiki/%D0%91%D0%B5%D0%BB%D0%B0%D1%80%D1%83%D1%81\" title=\"Беларус\">Беларус</a>"
      ],
      "text/plain": [
       "<IPython.core.display.HTML object>"
      ]
     },
     "metadata": {},
     "output_type": "display_data"
    },
    {
     "data": {
      "text/html": [
       "<i>138.</i>  <a href=\"/wiki/%D0%91%D0%B5%D0%BB%D0%B8%D1%88%D1%87%D0%B5\" title=\"Белишче\">Белишче</a>"
      ],
      "text/plain": [
       "<IPython.core.display.HTML object>"
      ]
     },
     "metadata": {},
     "output_type": "display_data"
    },
    {
     "data": {
      "text/html": [
       "<i>139.</i>  <a href=\"/wiki/%D0%91%D0%B5%D0%BB%D0%BE%D1%81%D1%82%D0%BE%D0%BA\" title=\"Белосток\">Белосток</a>"
      ],
      "text/plain": [
       "<IPython.core.display.HTML object>"
      ]
     },
     "metadata": {},
     "output_type": "display_data"
    },
    {
     "data": {
      "text/html": [
       "<i>140.</i>  <a href=\"/wiki/%D0%91%D0%B5%D1%81%D0%BB%D0%B0%D0%BD\" title=\"Беслан\">Беслан</a>"
      ],
      "text/plain": [
       "<IPython.core.display.HTML object>"
      ]
     },
     "metadata": {},
     "output_type": "display_data"
    },
    {
     "data": {
      "text/html": [
       "<i>141.</i>  <a class=\"mw-redirect\" href=\"/wiki/%D0%91%D0%B8%D1%81e%D1%80%D0%B8%D0%BAa_A%D0%B4e%D0%B2%D1%8D%D1%80a%D1%82%D1%83l%D1%83%D0%B8_%D0%98%D1%81%D1%83%D1%81\" title=\"Бисeрикa Aдeвэрaтуlуи Исус\">Бисeрикa Aдeвэрaтуlуи Исус</a>"
      ],
      "text/plain": [
       "<IPython.core.display.HTML object>"
      ]
     },
     "metadata": {},
     "output_type": "display_data"
    },
    {
     "data": {
      "text/html": [
       "<i>142.</i>  <a href=\"/wiki/%D0%91%D0%B8%D1%81e%D1%80%D0%B8%D0%BAa_A%D0%B4e%D0%B2%D1%8D%D1%80a%D1%82%D1%83%D0%BB%D1%83%D0%B9_%D0%98%D1%81%D1%83%D1%81\" title=\"Бисeрикa Aдeвэрaтулуй Исус\">Бисeрикa Aдeвэрaтулуй Исус</a>"
      ],
      "text/plain": [
       "<IPython.core.display.HTML object>"
      ]
     },
     "metadata": {},
     "output_type": "display_data"
    },
    {
     "data": {
      "text/html": [
       "<i>143.</i>  <a href=\"/wiki/%D0%91%D0%BE%D0%B6%D0%B5,_%D0%A6%D0%B0%D1%80%D1%8F_%D1%85%D1%80%D0%B0%D0%BD%D0%B8\" title=\"Боже, Царя храни\">Боже, Царя храни</a>"
      ],
      "text/plain": [
       "<IPython.core.display.HTML object>"
      ]
     },
     "metadata": {},
     "output_type": "display_data"
    },
    {
     "data": {
      "text/html": [
       "<i>144.</i>  <a href=\"/wiki/%D0%91%D0%BE%D0%BB%D0%B3%D1%80%D0%B0%D0%B4\" title=\"Болград\">Болград</a>"
      ],
      "text/plain": [
       "<IPython.core.display.HTML object>"
      ]
     },
     "metadata": {},
     "output_type": "display_data"
    },
    {
     "data": {
      "text/html": [
       "<i>145.</i>  <a href=\"/wiki/%D0%91%D0%BE%D0%BB%D0%B3%D1%80%D0%B0%D0%B4_(%D0%9E%D0%B4%D0%B5%D1%81%D1%81%D0%B0)\" title=\"Болград (Одесса)\">Болград (Одесса)</a>"
      ],
      "text/plain": [
       "<IPython.core.display.HTML object>"
      ]
     },
     "metadata": {},
     "output_type": "display_data"
    },
    {
     "data": {
      "text/html": [
       "<i>146.</i>  <a href=\"/wiki/%D0%91%D0%BE%D0%BB%D1%86%D0%B0%D0%BD%D0%BE\" title=\"Болцано\">Болцано</a>"
      ],
      "text/plain": [
       "<IPython.core.display.HTML object>"
      ]
     },
     "metadata": {},
     "output_type": "display_data"
    },
    {
     "data": {
      "text/html": [
       "<i>147.</i>  <a href=\"/wiki/%D0%91%D0%BE%D1%81%D1%82%D0%BE%D0%BD\" title=\"Бостон\">Бостон</a>"
      ],
      "text/plain": [
       "<IPython.core.display.HTML object>"
      ]
     },
     "metadata": {},
     "output_type": "display_data"
    },
    {
     "data": {
      "text/html": [
       "<i>148.</i>  <a href=\"/wiki/%D0%91%D0%BE%D1%83%D1%80\" title=\"Боур\">Боур</a>"
      ],
      "text/plain": [
       "<IPython.core.display.HTML object>"
      ]
     },
     "metadata": {},
     "output_type": "display_data"
    },
    {
     "data": {
      "text/html": [
       "<i>149.</i>  <a href=\"/wiki/%D0%91%D1%80%D0%B0%D1%88%D0%BE%D0%B2\" title=\"Брашов\">Брашов</a>"
      ],
      "text/plain": [
       "<IPython.core.display.HTML object>"
      ]
     },
     "metadata": {},
     "output_type": "display_data"
    },
    {
     "data": {
      "text/html": [
       "<i>150.</i>  <a href=\"/wiki/%D0%91%D1%80%D0%B8%D1%87%D0%B5%D0%BD%D1%8C\" title=\"Бричень\">Бричень</a>"
      ],
      "text/plain": [
       "<IPython.core.display.HTML object>"
      ]
     },
     "metadata": {},
     "output_type": "display_data"
    },
    {
     "data": {
      "text/html": [
       "<i>151.</i>  <a href=\"/wiki/%D0%91%D1%83%D0%BA%D1%83%D1%80%D0%B5%D1%88%D1%82%D1%8C\" title=\"Букурешть\">Букурешть</a>"
      ],
      "text/plain": [
       "<IPython.core.display.HTML object>"
      ]
     },
     "metadata": {},
     "output_type": "display_data"
    },
    {
     "data": {
      "text/html": [
       "<i>152.</i>  <a class=\"mw-redirect\" href=\"/wiki/%D0%91%D1%83%D0%BA%D1%83%D1%80%D0%B5%D1%88%D1%82%D1%8C_on_wheels!\" title=\"Букурешть on wheels!\">Букурешть on wheels!</a>"
      ],
      "text/plain": [
       "<IPython.core.display.HTML object>"
      ]
     },
     "metadata": {},
     "output_type": "display_data"
    },
    {
     "data": {
      "text/html": [
       "<i>153.</i>  <a href=\"/wiki/%D0%91%D1%83%D0%BB%D0%B3%D0%B0%D1%80%D0%B8%D1%8F\" title=\"Булгария\">Булгария</a>"
      ],
      "text/plain": [
       "<IPython.core.display.HTML object>"
      ]
     },
     "metadata": {},
     "output_type": "display_data"
    },
    {
     "data": {
      "text/html": [
       "<i>154.</i>  <a href=\"/wiki/%D0%91%D1%83%D1%80%D0%B0%D0%BD\" title=\"Буран\">Буран</a>"
      ],
      "text/plain": [
       "<IPython.core.display.HTML object>"
      ]
     },
     "metadata": {},
     "output_type": "display_data"
    },
    {
     "data": {
      "text/html": [
       "<i>155.</i>  <a href=\"/wiki/%D0%91%D1%83%D1%80%D0%B0%D0%BD_(%D0%B2%D0%B8%D1%81%D0%BA%D0%BE%D0%BB)\" title=\"Буран (вискол)\">Буран (вискол)</a>"
      ],
      "text/plain": [
       "<IPython.core.display.HTML object>"
      ]
     },
     "metadata": {},
     "output_type": "display_data"
    },
    {
     "data": {
      "text/html": [
       "<i>156.</i>  <a class=\"mw-redirect\" href=\"/wiki/%D0%91%D1%83%D3%82%D0%B0%D0%BA\" title=\"Буӂак\">Буӂак</a>"
      ],
      "text/plain": [
       "<IPython.core.display.HTML object>"
      ]
     },
     "metadata": {},
     "output_type": "display_data"
    },
    {
     "data": {
      "text/html": [
       "<i>157.</i>  <a class=\"mw-redirect\" href=\"/wiki/%D0%91%D1%83%D3%82%D1%8F%D0%BA\" title=\"Буӂяк\">Буӂяк</a>"
      ],
      "text/plain": [
       "<IPython.core.display.HTML object>"
      ]
     },
     "metadata": {},
     "output_type": "display_data"
    },
    {
     "data": {
      "text/html": [
       "<i>158.</i>  <a href=\"/wiki/%D0%91%D1%8C%D0%B5%D0%BB%D0%BE%D0%B2%D0%B0%D1%80\" title=\"Бьеловар\">Бьеловар</a>"
      ],
      "text/plain": [
       "<IPython.core.display.HTML object>"
      ]
     },
     "metadata": {},
     "output_type": "display_data"
    },
    {
     "data": {
      "text/html": [
       "<i>159.</i>  <a href=\"/wiki/%D0%91%D1%8D%D0%BB%D1%86%D1%8C\" title=\"Бэлць\">Бэлць</a>"
      ],
      "text/plain": [
       "<IPython.core.display.HTML object>"
      ]
     },
     "metadata": {},
     "output_type": "display_data"
    },
    {
     "data": {
      "text/html": [
       "<i>160.</i>  <a class=\"mw-redirect\" href=\"/wiki/%D0%91%D1%8F%D0%BB%D0%B8%D1%81%D1%82%D0%BE%D0%BA\" title=\"Бялисток\">Бялисток</a>"
      ],
      "text/plain": [
       "<IPython.core.display.HTML object>"
      ]
     },
     "metadata": {},
     "output_type": "display_data"
    },
    {
     "data": {
      "text/html": [
       "<i>161.</i>  <a href=\"/wiki/%D0%92%D0%B0%D0%B4%D1%83%D0%BB_%D0%BB%D1%83%D0%B9_%D0%92%D0%BE%D0%B4%D1%8D\" title=\"Вадул луй Водэ\">Вадул луй Водэ</a>"
      ],
      "text/plain": [
       "<IPython.core.display.HTML object>"
      ]
     },
     "metadata": {},
     "output_type": "display_data"
    },
    {
     "data": {
      "text/html": [
       "<i>162.</i>  <a href=\"/wiki/%D0%92%D0%B0%D1%80%D1%88%D0%BE%D0%B2%D0%B8%D1%8F\" title=\"Варшовия\">Варшовия</a>"
      ],
      "text/plain": [
       "<IPython.core.display.HTML object>"
      ]
     },
     "metadata": {},
     "output_type": "display_data"
    },
    {
     "data": {
      "text/html": [
       "<i>163.</i>  <a href=\"/wiki/%D0%92%D0%B0%D1%81%D0%B8%D0%BB%D0%B5_%D0%A2%D0%B0%D1%80%D0%BB%D0%B5%D0%B2\" title=\"Василе Тарлев\">Василе Тарлев</a>"
      ],
      "text/plain": [
       "<IPython.core.display.HTML object>"
      ]
     },
     "metadata": {},
     "output_type": "display_data"
    },
    {
     "data": {
      "text/html": [
       "<i>164.</i>  <a href=\"/wiki/%D0%92%D0%B0%D1%81%D0%B8%D0%BB%D0%B5_%D0%A7%D0%BE%D0%BA%D0%B0%D0%BD%D1%83\" title=\"Василе Чокану\">Василе Чокану</a>"
      ],
      "text/plain": [
       "<IPython.core.display.HTML object>"
      ]
     },
     "metadata": {},
     "output_type": "display_data"
    },
    {
     "data": {
      "text/html": [
       "<i>165.</i>  <a href=\"/wiki/%D0%92%D0%B0%D1%88%D0%B8%D0%BD%D0%B3%D1%82%D0%BE%D0%BD\" title=\"Вашингтон\">Вашингтон</a>"
      ],
      "text/plain": [
       "<IPython.core.display.HTML object>"
      ]
     },
     "metadata": {},
     "output_type": "display_data"
    },
    {
     "data": {
      "text/html": [
       "<i>166.</i>  <a class=\"mw-redirect\" href=\"/wiki/%D0%92%D0%B8%D0%BA%D0%B8\" title=\"Вики\">Вики</a>"
      ],
      "text/plain": [
       "<IPython.core.display.HTML object>"
      ]
     },
     "metadata": {},
     "output_type": "display_data"
    },
    {
     "data": {
      "text/html": [
       "<i>167.</i>  <a href=\"/wiki/%D0%92%D0%B8%D0%BA%D0%B8%D0%BC%D0%B5%D0%B4%D0%B8%D1%8F\" title=\"Викимедия\">Викимедия</a>"
      ],
      "text/plain": [
       "<IPython.core.display.HTML object>"
      ]
     },
     "metadata": {},
     "output_type": "display_data"
    },
    {
     "data": {
      "text/html": [
       "<i>168.</i>  <a href=\"/wiki/%D0%92%D0%B8%D0%BA%D0%B8%D0%BF%D0%B5%D0%B4%D0%B8%D1%8F\" title=\"Википедия\">Википедия</a>"
      ],
      "text/plain": [
       "<IPython.core.display.HTML object>"
      ]
     },
     "metadata": {},
     "output_type": "display_data"
    },
    {
     "data": {
      "text/html": [
       "<i>169.</i>  <a class=\"mw-redirect\" href=\"/wiki/%D0%92%D0%B8%D0%BA%D0%B8%D0%BF%D0%B5%D0%B4%D0%B8%D1%8F:Bot\" title=\"Википедия:Bot\">Википедия:Bot</a>"
      ],
      "text/plain": [
       "<IPython.core.display.HTML object>"
      ]
     },
     "metadata": {},
     "output_type": "display_data"
    },
    {
     "data": {
      "text/html": [
       "<i>170.</i>  <a class=\"mw-redirect\" href=\"/wiki/%D0%92%D0%B8%D0%BA%D0%B8%D0%BF%D0%B5%D0%B4%D0%B8%D1%8F:%D0%90%D0%BC%D0%B1%D0%B0%D1%81%D0%B0%D0%B4%D1%8D\" title=\"Википедия:Амбасадэ\">Википедия:Амбасадэ</a>"
      ],
      "text/plain": [
       "<IPython.core.display.HTML object>"
      ]
     },
     "metadata": {},
     "output_type": "display_data"
    },
    {
     "data": {
      "text/html": [
       "<i>171.</i>  <a class=\"mw-redirect\" href=\"/wiki/%D0%92%D0%B8%D0%BA%D0%B8%D0%BF%D0%B5%D0%B4%D0%B8%D1%8F:%D0%91%D0%B0%D0%B1%D0%B5%D0%BB\" title=\"Википедия:Бабел\">Википедия:Бабел</a>"
      ],
      "text/plain": [
       "<IPython.core.display.HTML object>"
      ]
     },
     "metadata": {},
     "output_type": "display_data"
    },
    {
     "data": {
      "text/html": [
       "<i>172.</i>  <a class=\"mw-redirect\" href=\"/wiki/%D0%92%D0%B8%D0%BA%D0%B8%D0%BF%D0%B5%D0%B4%D0%B8%D1%8F:%D0%91%D0%BE%D1%82\" title=\"Википедия:Бот\">Википедия:Бот</a>"
      ],
      "text/plain": [
       "<IPython.core.display.HTML object>"
      ]
     },
     "metadata": {},
     "output_type": "display_data"
    },
    {
     "data": {
      "text/html": [
       "<i>173.</i>  <a class=\"mw-redirect\" href=\"/wiki/%D0%92%D0%B8%D0%BA%D0%B8%D0%BF%D0%B5%D0%B4%D0%B8%D1%8F:%D0%94%D0%B5%D0%B7%D0%B0%D0%BC%D0%B1%D0%B8%D0%B3%D1%83%D0%B9%D0%B7%D0%B0%D1%80%D0%B5\" title=\"Википедия:Дезамбигуйзаре\">Википедия:Дезамбигуйзаре</a>"
      ],
      "text/plain": [
       "<IPython.core.display.HTML object>"
      ]
     },
     "metadata": {},
     "output_type": "display_data"
    },
    {
     "data": {
      "text/html": [
       "<i>174.</i>  <a class=\"mw-redirect\" href=\"/wiki/%D0%92%D0%B8%D0%BA%D0%B8%D0%BF%D0%B5%D0%B4%D0%B8%D1%8F:%D0%9A%D1%83%D0%BC_%D1%81%D1%8D_%D0%B5%D0%B4%D0%B8%D1%82%D0%B5%D0%B7%D1%8C_%D0%BE_%D0%BF%D0%B0%D3%82%D0%B8%D0%BD%D1%8D\" title=\"Википедия:Кум сэ едитезь о паӂинэ\">Википедия:Кум сэ едитезь о паӂинэ</a>"
      ],
      "text/plain": [
       "<IPython.core.display.HTML object>"
      ]
     },
     "metadata": {},
     "output_type": "display_data"
    },
    {
     "data": {
      "text/html": [
       "<i>175.</i>  <a class=\"mw-redirect\" href=\"/wiki/%D0%92%D0%B8%D0%BA%D0%B8%D0%BF%D0%B5%D0%B4%D0%B8%D1%8F:%D0%9A%D1%83%D0%BC_%D1%81%D1%8D_%D0%BC%D0%BE%D0%B4%D0%B8%D1%84%D0%B8%D1%87%D1%8C_%D0%BE_%D0%BF%D0%B0%D3%82%D0%B8%D0%BD%D1%8D\" title=\"Википедия:Кум сэ модифичь о паӂинэ\">Википедия:Кум сэ модифичь о паӂинэ</a>"
      ],
      "text/plain": [
       "<IPython.core.display.HTML object>"
      ]
     },
     "metadata": {},
     "output_type": "display_data"
    },
    {
     "data": {
      "text/html": [
       "<i>176.</i>  <a class=\"mw-redirect\" href=\"/wiki/%D0%92%D0%B8%D0%BA%D0%B8%D0%BF%D0%B5%D0%B4%D0%B8%D1%8F:%D0%9C%D0%B0%D0%BD%D1%83%D0%B0%D0%BB_%D0%B4%D0%B5_%D1%81%D1%82%D0%B8%D0%BB\" title=\"Википедия:Мануал де стил\">Википедия:Мануал де стил</a>"
      ],
      "text/plain": [
       "<IPython.core.display.HTML object>"
      ]
     },
     "metadata": {},
     "output_type": "display_data"
    },
    {
     "data": {
      "text/html": [
       "<i>177.</i>  <a href=\"/wiki/%D0%92%D0%B8%D0%BA%D1%82%D0%BE%D1%80_%D0%AE%D1%88%D1%87%D0%B5%D0%BD%D0%BA%D0%BE\" title=\"Виктор Юшченко\">Виктор Юшченко</a>"
      ],
      "text/plain": [
       "<IPython.core.display.HTML object>"
      ]
     },
     "metadata": {},
     "output_type": "display_data"
    },
    {
     "data": {
      "text/html": [
       "<i>178.</i>  <a href=\"/wiki/%D0%92%D0%B8%D0%BA%D1%82%D0%BE%D1%80_%D0%AF%D0%BD%D1%83%D0%BA%D0%BE%D0%B2%D0%B8%D1%87\" title=\"Виктор Янукович\">Виктор Янукович</a>"
      ],
      "text/plain": [
       "<IPython.core.display.HTML object>"
      ]
     },
     "metadata": {},
     "output_type": "display_data"
    },
    {
     "data": {
      "text/html": [
       "<i>179.</i>  <a class=\"mw-redirect\" href=\"/wiki/%D0%92%D0%B8%D0%BA%D1%82%D0%BE%D1%80_%D0%AF%D0%BD%D1%83%D0%BA%D0%BE%D0%B2%D0%B8%D1%87%D0%B8\" title=\"Виктор Януковичи\">Виктор Януковичи</a>"
      ],
      "text/plain": [
       "<IPython.core.display.HTML object>"
      ]
     },
     "metadata": {},
     "output_type": "display_data"
    },
    {
     "data": {
      "text/html": [
       "<i>180.</i>  <a href=\"/wiki/%D0%92%D0%B8%D0%BB%D1%8C%D0%BD%D1%8E%D1%81\" title=\"Вильнюс\">Вильнюс</a>"
      ],
      "text/plain": [
       "<IPython.core.display.HTML object>"
      ]
     },
     "metadata": {},
     "output_type": "display_data"
    },
    {
     "data": {
      "text/html": [
       "<i>181.</i>  <a href=\"/wiki/%D0%92%D0%B8%D0%BD%D0%BD%D0%B8%D1%86%D0%B0_(%D1%80%D0%B5%D3%82%D0%B8%D1%83%D0%BD%D0%B5)\" title=\"Винница (реӂиуне)\">Винница (реӂиуне)</a>"
      ],
      "text/plain": [
       "<IPython.core.display.HTML object>"
      ]
     },
     "metadata": {},
     "output_type": "display_data"
    },
    {
     "data": {
      "text/html": [
       "<i>182.</i>  <a href=\"/wiki/%D0%92%D0%B8%D1%82%D0%B0%D0%BB%D0%B8%D0%B5_%D0%A7%D0%BE%D0%B1%D0%B0%D0%BD%D1%83\" title=\"Виталие Чобану\">Виталие Чобану</a>"
      ],
      "text/plain": [
       "<IPython.core.display.HTML object>"
      ]
     },
     "metadata": {},
     "output_type": "display_data"
    },
    {
     "data": {
      "text/html": [
       "<i>183.</i>  <a class=\"mw-redirect\" href=\"/wiki/%D0%92%D0%BB%D0%B0%D0%B4%D0%B8%D0%BC%D0%B8%D1%80_%D0%91%D0%BE%D1%80%D0%BE%D0%BD%D0%B8%D0%BD\" title=\"Владимир Боронин\">Владимир Боронин</a>"
      ],
      "text/plain": [
       "<IPython.core.display.HTML object>"
      ]
     },
     "metadata": {},
     "output_type": "display_data"
    },
    {
     "data": {
      "text/html": [
       "<i>184.</i>  <a href=\"/wiki/%D0%92%D0%BB%D0%B0%D0%B4%D0%B8%D0%BC%D0%B8%D1%80_%D0%92%D0%BE%D1%80%D0%BE%D0%BD%D0%B8%D0%BD\" title=\"Владимир Воронин\">Владимир Воронин</a>"
      ],
      "text/plain": [
       "<IPython.core.display.HTML object>"
      ]
     },
     "metadata": {},
     "output_type": "display_data"
    },
    {
     "data": {
      "text/html": [
       "<i>185.</i>  <a href=\"/wiki/%D0%92%D0%BB%D0%B0%D0%B4%D0%B8%D0%BC%D0%B8%D1%80_%D0%9F%D1%83%D1%82%D0%B8%D0%BD\" title=\"Владимир Путин\">Владимир Путин</a>"
      ],
      "text/plain": [
       "<IPython.core.display.HTML object>"
      ]
     },
     "metadata": {},
     "output_type": "display_data"
    },
    {
     "data": {
      "text/html": [
       "<i>186.</i>  <a href=\"/wiki/%D0%93%D0%A3%D0%90%D0%9C\" title=\"ГУАМ\">ГУАМ</a>"
      ],
      "text/plain": [
       "<IPython.core.display.HTML object>"
      ]
     },
     "metadata": {},
     "output_type": "display_data"
    },
    {
     "data": {
      "text/html": [
       "<i>187.</i>  <a href=\"/wiki/%D0%93%D0%BB%D0%B5%D0%B1%D1%83%D1%81_%D0%A1%D0%B0%D0%B8%D0%BD%D1%87%D1%83%D0%BA\" title=\"Глебус Саинчук\">Глебус Саинчук</a>"
      ],
      "text/plain": [
       "<IPython.core.display.HTML object>"
      ]
     },
     "metadata": {},
     "output_type": "display_data"
    },
    {
     "data": {
      "text/html": [
       "<i>188.</i>  <a href=\"/wiki/%D0%93%D0%BB%D0%BE%D0%B4%D0%B5%D0%BD%D1%8C\" title=\"Глодень\">Глодень</a>"
      ],
      "text/plain": [
       "<IPython.core.display.HTML object>"
      ]
     },
     "metadata": {},
     "output_type": "display_data"
    },
    {
     "data": {
      "text/html": [
       "<i>189.</i>  <a href=\"/wiki/%D0%93%D1%80%D0%B5%D1%87%D0%B8%D1%8F\" title=\"Гречия\">Гречия</a>"
      ],
      "text/plain": [
       "<IPython.core.display.HTML object>"
      ]
     },
     "metadata": {},
     "output_type": "display_data"
    },
    {
     "data": {
      "text/html": [
       "<i>190.</i>  <a href=\"/wiki/%D0%93%D1%80%D0%B8%D0%B3%D0%BE%D1%80%D0%B5_%D0%92%D0%B8%D0%B5%D1%80%D1%83\" title=\"Григоре Виеру\">Григоре Виеру</a>"
      ],
      "text/plain": [
       "<IPython.core.display.HTML object>"
      ]
     },
     "metadata": {},
     "output_type": "display_data"
    },
    {
     "data": {
      "text/html": [
       "<i>191.</i>  <a href=\"/wiki/%D0%93%D1%80%D0%B8%D0%B3%D0%BE%D1%80%D0%B8%D0%BE%D0%BF%D0%BE%D0%BB\" title=\"Григориопол\">Григориопол</a>"
      ],
      "text/plain": [
       "<IPython.core.display.HTML object>"
      ]
     },
     "metadata": {},
     "output_type": "display_data"
    },
    {
     "data": {
      "text/html": [
       "<i>192.</i>  <a href=\"/wiki/%D0%93%D1%80%D0%BE%D0%B7%D0%BD%D1%8B%D0%B9\" title=\"Грозный\">Грозный</a>"
      ],
      "text/plain": [
       "<IPython.core.display.HTML object>"
      ]
     },
     "metadata": {},
     "output_type": "display_data"
    },
    {
     "data": {
      "text/html": [
       "<i>193.</i>  <a href=\"/wiki/%D0%93%D1%83%D0%B2%D0%B5%D1%80%D0%BD\" title=\"Гуверн\">Гуверн</a>"
      ],
      "text/plain": [
       "<IPython.core.display.HTML object>"
      ]
     },
     "metadata": {},
     "output_type": "display_data"
    },
    {
     "data": {
      "text/html": [
       "<i>194.</i>  <a href=\"/wiki/%D0%93%D1%8D%D0%B3%D1%8D%D1%83%D0%B7%D0%B8\" title=\"Гэгэузи\">Гэгэузи</a>"
      ],
      "text/plain": [
       "<IPython.core.display.HTML object>"
      ]
     },
     "metadata": {},
     "output_type": "display_data"
    },
    {
     "data": {
      "text/html": [
       "<i>195.</i>  <a href=\"/wiki/%D0%93%D1%8D%D0%B3%D1%8D%D1%83%D0%B7%D0%B8%D0%B9\" title=\"Гэгэузий\">Гэгэузий</a>"
      ],
      "text/plain": [
       "<IPython.core.display.HTML object>"
      ]
     },
     "metadata": {},
     "output_type": "display_data"
    },
    {
     "data": {
      "text/html": [
       "<i>196.</i>  <a href=\"/wiki/%D0%93%D1%8D%D0%B3%D1%8D%D1%83%D0%B7%D0%B8%D1%8F\" title=\"Гэгэузия\">Гэгэузия</a>"
      ],
      "text/plain": [
       "<IPython.core.display.HTML object>"
      ]
     },
     "metadata": {},
     "output_type": "display_data"
    },
    {
     "data": {
      "text/html": [
       "<i>197.</i>  <a class=\"mw-redirect\" href=\"/wiki/%D0%94%D0%B0%D0%BD%D1%81\" title=\"Данс\">Данс</a>"
      ],
      "text/plain": [
       "<IPython.core.display.HTML object>"
      ]
     },
     "metadata": {},
     "output_type": "display_data"
    },
    {
     "data": {
      "text/html": [
       "<i>198.</i>  <a class=\"mw-redirect\" href=\"/wiki/%D0%94%D0%B0%D0%BD%D1%81%D1%83%D1%80%D1%8C\" title=\"Дансурь\">Дансурь</a>"
      ],
      "text/plain": [
       "<IPython.core.display.HTML object>"
      ]
     },
     "metadata": {},
     "output_type": "display_data"
    },
    {
     "data": {
      "text/html": [
       "<i>199.</i>  <a href=\"/wiki/%D0%94%D0%B0%D1%87%D0%B8%D1%8F\" title=\"Дачия\">Дачия</a>"
      ],
      "text/plain": [
       "<IPython.core.display.HTML object>"
      ]
     },
     "metadata": {},
     "output_type": "display_data"
    },
    {
     "data": {
      "text/html": [
       "<i>200.</i>  <a href=\"/wiki/%D0%94%D0%B5%D0%BD%D1%81%D0%B8%D1%82%D0%B0%D1%82%D1%8F_%D0%BF%D0%BE%D0%BF%D1%83%D0%BB%D0%B0%D1%86%D0%B8%D0%B5%D0%B9\" title=\"Денситатя популацией\">Денситатя популацией</a>"
      ],
      "text/plain": [
       "<IPython.core.display.HTML object>"
      ]
     },
     "metadata": {},
     "output_type": "display_data"
    },
    {
     "data": {
      "text/html": [
       "<i>201.</i>  <a href=\"/wiki/%D0%94%D0%BD%D0%B5%D0%BF%D1%80%D0%BE%D0%BF%D0%B5%D1%82%D1%80%D0%BE%D0%B2%D1%81%D0%BA_(%D1%80%D0%B5%D3%82%D0%B8%D1%83%D0%BD%D0%B5)\" title=\"Днепропетровск (реӂиуне)\">Днепропетровск (реӂиуне)</a>"
      ],
      "text/plain": [
       "<IPython.core.display.HTML object>"
      ]
     },
     "metadata": {},
     "output_type": "display_data"
    },
    {
     "data": {
      "text/html": [
       "<i>202.</i>  <a class=\"mw-redirect\" href=\"/wiki/%D0%94%D0%BD%D0%B5%D0%BF%D1%80%D0%BE%D0%BF%D0%B5%D1%82%D1%80%D0%BE%D0%B2%D1%81%D0%BA_(%D1%80%D0%B5%D3%82%D1%8E%D0%BD%D0%B5)\" title=\"Днепропетровск (реӂюне)\">Днепропетровск (реӂюне)</a>"
      ],
      "text/plain": [
       "<IPython.core.display.HTML object>"
      ]
     },
     "metadata": {},
     "output_type": "display_data"
    },
    {
     "data": {
      "text/html": [
       "<i>203.</i>  <a class=\"mw-redirect\" href=\"/wiki/%D0%94%D0%BE%D0%BC%D0%B5%D0%BD%D0%B8%D1%83_%D0%BD%D0%B0%D1%86%D0%B8%D0%BE%D0%BD%D0%B0%D0%BB_%D0%B4%D0%B5_%D0%BD%D0%B8%D0%B2%D0%B5%D0%BB_%D1%81%D1%83%D0%BF%D0%B5%D1%80%D0%B8%D0%BE%D1%80\" title=\"Домениу национал де нивел супериор\">Домениу национал де нивел супериор</a>"
      ],
      "text/plain": [
       "<IPython.core.display.HTML object>"
      ]
     },
     "metadata": {},
     "output_type": "display_data"
    },
    {
     "data": {
      "text/html": [
       "<i>204.</i>  <a href=\"/wiki/%D0%94%D0%BE%D0%BD%D0%B5%D1%86%D0%BA_(%D1%80%D0%B5%D3%82%D0%B8%D1%83%D0%BD%D0%B5)\" title=\"Донецк (реӂиуне)\">Донецк (реӂиуне)</a>"
      ],
      "text/plain": [
       "<IPython.core.display.HTML object>"
      ]
     },
     "metadata": {},
     "output_type": "display_data"
    },
    {
     "data": {
      "text/html": [
       "<i>205.</i>  <a href=\"/wiki/%D0%94%D1%80%D0%B0%D0%B3%D0%BE%D1%81%D1%82%D1%8F_%D0%94%D0%B8%D0%BD_%D0%A2%D0%B5%D0%B9\" title=\"Драгостя Дин Тей\">Драгостя Дин Тей</a>"
      ],
      "text/plain": [
       "<IPython.core.display.HTML object>"
      ]
     },
     "metadata": {},
     "output_type": "display_data"
    },
    {
     "data": {
      "text/html": [
       "<i>206.</i>  <a href=\"/wiki/%D0%94%D1%80%D0%B0%D1%85%D0%BC%D1%8D\" title=\"Драхмэ\">Драхмэ</a>"
      ],
      "text/plain": [
       "<IPython.core.display.HTML object>"
      ]
     },
     "metadata": {},
     "output_type": "display_data"
    },
    {
     "data": {
      "text/html": [
       "<i>207.</i>  <a href=\"/wiki/%D0%94%D1%80%D0%BE%D0%BA%D0%B8%D1%8F\" title=\"Дрокия\">Дрокия</a>"
      ],
      "text/plain": [
       "<IPython.core.display.HTML object>"
      ]
     },
     "metadata": {},
     "output_type": "display_data"
    },
    {
     "data": {
      "text/html": [
       "<i>208.</i>  <a href=\"/wiki/%D0%94%D1%83%D0%B1%D1%8D%D1%81%D0%B0%D1%80%D1%8C\" title=\"Дубэсарь\">Дубэсарь</a>"
      ],
      "text/plain": [
       "<IPython.core.display.HTML object>"
      ]
     },
     "metadata": {},
     "output_type": "display_data"
    },
    {
     "data": {
      "text/html": [
       "<i>209.</i>  <a href=\"/wiki/%D0%94%D1%83%D0%BD%D1%8D%D1%80%D0%B5\" title=\"Дунэре\">Дунэре</a>"
      ],
      "text/plain": [
       "<IPython.core.display.HTML object>"
      ]
     },
     "metadata": {},
     "output_type": "display_data"
    },
    {
     "data": {
      "text/html": [
       "<i>210.</i>  <a href=\"/wiki/%D0%95%D0%B2%D1%80%D0%B5%D0%B9\" title=\"Еврей\">Еврей</a>"
      ],
      "text/plain": [
       "<IPython.core.display.HTML object>"
      ]
     },
     "metadata": {},
     "output_type": "display_data"
    },
    {
     "data": {
      "text/html": [
       "<i>211.</i>  <a href=\"/wiki/%D0%95%D0%B4%D0%B8%D0%BD%D0%B5%D1%86\" title=\"Единец\">Единец</a>"
      ],
      "text/plain": [
       "<IPython.core.display.HTML object>"
      ]
     },
     "metadata": {},
     "output_type": "display_data"
    },
    {
     "data": {
      "text/html": [
       "<i>212.</i>  <a href=\"/wiki/%D0%95%D0%B9%D0%B2%D0%BE%D0%BD%D0%B4%D0%B5%D0%B9%D0%BB\" title=\"Ейвондейл\">Ейвондейл</a>"
      ],
      "text/plain": [
       "<IPython.core.display.HTML object>"
      ]
     },
     "metadata": {},
     "output_type": "display_data"
    },
    {
     "data": {
      "text/html": [
       "<i>213.</i>  <a href=\"/wiki/%D0%95%D0%BD%D1%87%D0%B8%D0%BA%D0%BB%D0%BE%D0%BF%D0%B5%D0%B4%D0%B8%D0%B5\" title=\"Енчиклопедие\">Енчиклопедие</a>"
      ],
      "text/plain": [
       "<IPython.core.display.HTML object>"
      ]
     },
     "metadata": {},
     "output_type": "display_data"
    },
    {
     "data": {
      "text/html": [
       "<i>214.</i>  <a class=\"mw-redirect\" href=\"/wiki/%D0%95%D1%81%D1%82%D0%BE%D0%BD%D0%B8%D1%8F\" title=\"Естония\">Естония</a>"
      ],
      "text/plain": [
       "<IPython.core.display.HTML object>"
      ]
     },
     "metadata": {},
     "output_type": "display_data"
    },
    {
     "data": {
      "text/html": [
       "<i>215.</i>  <a href=\"/wiki/%D0%95%D1%83%D1%80%D0%B0%D1%81%D0%B8%D1%8F\" title=\"Еурасия\">Еурасия</a>"
      ],
      "text/plain": [
       "<IPython.core.display.HTML object>"
      ]
     },
     "metadata": {},
     "output_type": "display_data"
    },
    {
     "data": {
      "text/html": [
       "<i>216.</i>  <a href=\"/wiki/%D0%95%D1%83%D1%80%D0%BE%D0%BF%D0%B0\" title=\"Еуропа\">Еуропа</a>"
      ],
      "text/plain": [
       "<IPython.core.display.HTML object>"
      ]
     },
     "metadata": {},
     "output_type": "display_data"
    },
    {
     "data": {
      "text/html": [
       "<i>217.</i>  <a href=\"/wiki/%D0%96%D0%B0%D0%BF%D0%BE%D0%BD%D0%B8%D1%8F\" title=\"Жапония\">Жапония</a>"
      ],
      "text/plain": [
       "<IPython.core.display.HTML object>"
      ]
     },
     "metadata": {},
     "output_type": "display_data"
    },
    {
     "data": {
      "text/html": [
       "<i>218.</i>  <a href=\"/wiki/%D0%96%D1%83%D0%B4%D0%B5%D1%86%D0%B5%D0%BB%D0%B5_%D0%9B%D0%B5%D1%82%D0%BE%D0%BD%D0%B5%D0%B9\" title=\"Жудецеле Летоней\">Жудецеле Летоней</a>"
      ],
      "text/plain": [
       "<IPython.core.display.HTML object>"
      ]
     },
     "metadata": {},
     "output_type": "display_data"
    },
    {
     "data": {
      "text/html": [
       "<i>219.</i>  <a href=\"/wiki/%D0%96%D1%83%D0%B4%D0%B5%D1%86%D0%B5%D0%BB%D0%B5_%D0%9B%D0%B8%D1%82%D1%83%D0%B0%D0%BD%D0%B8%D0%B5%D0%B9\" title=\"Жудецеле Литуанией\">Жудецеле Литуанией</a>"
      ],
      "text/plain": [
       "<IPython.core.display.HTML object>"
      ]
     },
     "metadata": {},
     "output_type": "display_data"
    },
    {
     "data": {
      "text/html": [
       "<i>220.</i>  <a href=\"/wiki/%D0%96%D1%83%D0%B4%D0%B5%D1%86%D0%B5%D0%BB%D0%B5_%D0%A0%D0%B5%D0%BF%D1%83%D0%B1%D0%BB%D0%B8%D1%87%D0%B8%D0%B9_%D0%9C%D0%BE%D0%BB%D0%B4%D0%BE%D0%B2%D0%B0\" title=\"Жудецеле Републичий Молдова\">Жудецеле Републичий Молдова</a>"
      ],
      "text/plain": [
       "<IPython.core.display.HTML object>"
      ]
     },
     "metadata": {},
     "output_type": "display_data"
    },
    {
     "data": {
      "text/html": [
       "<i>221.</i>  <a href=\"/wiki/%D0%96%D1%83%D0%B4%D0%B5%D1%86%D1%83%D0%BB_%D0%90%D0%B9%D0%B7%D0%BA%D1%80%D0%B0%D1%83%D0%BA%D0%BB%D0%B5%D1%81\" title=\"Жудецул Айзкрауклес\">Жудецул Айзкрауклес</a>"
      ],
      "text/plain": [
       "<IPython.core.display.HTML object>"
      ]
     },
     "metadata": {},
     "output_type": "display_data"
    },
    {
     "data": {
      "text/html": [
       "<i>222.</i>  <a href=\"/wiki/%D0%96%D1%83%D0%B4%D0%B5%D1%86%D1%83%D0%BB_%D0%90%D0%BB%D1%83%D0%BA%D1%81%D0%BD%D0%B5%D1%81\" title=\"Жудецул Алукснес\">Жудецул Алукснес</a>"
      ],
      "text/plain": [
       "<IPython.core.display.HTML object>"
      ]
     },
     "metadata": {},
     "output_type": "display_data"
    },
    {
     "data": {
      "text/html": [
       "<i>223.</i>  <a href=\"/wiki/%D0%96%D1%83%D0%B4%D0%B5%D1%86%D1%83%D0%BB_%D0%91%D0%B0%D1%83%D1%81%D0%BA%D0%B0%D1%81\" title=\"Жудецул Баускас\">Жудецул Баускас</a>"
      ],
      "text/plain": [
       "<IPython.core.display.HTML object>"
      ]
     },
     "metadata": {},
     "output_type": "display_data"
    },
    {
     "data": {
      "text/html": [
       "<i>224.</i>  <a href=\"/wiki/%D0%96%D1%83%D0%B4%D0%B5%D1%86%D1%83%D0%BB_%D0%91%D0%B8%D1%85%D0%BE%D1%80\" title=\"Жудецул Бихор\">Жудецул Бихор</a>"
      ],
      "text/plain": [
       "<IPython.core.display.HTML object>"
      ]
     },
     "metadata": {},
     "output_type": "display_data"
    },
    {
     "data": {
      "text/html": [
       "<i>225.</i>  <a href=\"/wiki/%D0%96%D1%83%D0%B4%D0%B5%D1%86%D1%83%D0%BB_%D0%91%D1%8D%D0%BB%D1%86%D1%8C\" title=\"Жудецул Бэлць\">Жудецул Бэлць</a>"
      ],
      "text/plain": [
       "<IPython.core.display.HTML object>"
      ]
     },
     "metadata": {},
     "output_type": "display_data"
    },
    {
     "data": {
      "text/html": [
       "<i>226.</i>  <a href=\"/wiki/%D0%96%D1%83%D0%B4%D0%B5%D1%86%D1%83%D0%BB_%D0%92%D0%B0%D0%BB%D0%BC%D0%B8%D0%B5%D1%80%D0%B0%D1%81\" title=\"Жудецул Валмиерас\">Жудецул Валмиерас</a>"
      ],
      "text/plain": [
       "<IPython.core.display.HTML object>"
      ]
     },
     "metadata": {},
     "output_type": "display_data"
    },
    {
     "data": {
      "text/html": [
       "<i>227.</i>  <a href=\"/wiki/%D0%96%D1%83%D0%B4%D0%B5%D1%86%D1%83%D0%BB_%D0%92%D0%B5%D0%BD%D1%82%D1%81%D0%BF%D0%B8%D0%BB%D1%81\" title=\"Жудецул Вентспилс\">Жудецул Вентспилс</a>"
      ],
      "text/plain": [
       "<IPython.core.display.HTML object>"
      ]
     },
     "metadata": {},
     "output_type": "display_data"
    },
    {
     "data": {
      "text/html": [
       "<i>228.</i>  <a href=\"/wiki/%D0%96%D1%83%D0%B4%D0%B5%D1%86%D1%83%D0%BB_%D0%93%D1%83%D0%BB%D0%B1%D0%B5%D0%BD%D0%B5%D1%81\" title=\"Жудецул Гулбенес\">Жудецул Гулбенес</a>"
      ],
      "text/plain": [
       "<IPython.core.display.HTML object>"
      ]
     },
     "metadata": {},
     "output_type": "display_data"
    },
    {
     "data": {
      "text/html": [
       "<i>229.</i>  <a href=\"/wiki/%D0%96%D1%83%D0%B4%D0%B5%D1%86%D1%83%D0%BB_%D0%94%D0%B0%D1%83%D0%B3%D0%B0%D0%B2%D0%BF%D0%B8%D0%BB%D1%81\" title=\"Жудецул Даугавпилс\">Жудецул Даугавпилс</a>"
      ],
      "text/plain": [
       "<IPython.core.display.HTML object>"
      ]
     },
     "metadata": {},
     "output_type": "display_data"
    },
    {
     "data": {
      "text/html": [
       "<i>230.</i>  <a class=\"mw-redirect\" href=\"/wiki/%D0%96%D1%83%D0%B4%D0%B5%D1%86%D1%83%D0%BB_%D0%94%D0%B0%D1%83%D0%B3%D0%B0%D0%B2%D0%BF%D0%B8%D0%BB%D1%81_on_wheel\" title=\"Жудецул Даугавпилс on wheel\">Жудецул Даугавпилс on wheel</a>"
      ],
      "text/plain": [
       "<IPython.core.display.HTML object>"
      ]
     },
     "metadata": {},
     "output_type": "display_data"
    },
    {
     "data": {
      "text/html": [
       "<i>231.</i>  <a href=\"/wiki/%D0%96%D1%83%D0%B4%D0%B5%D1%86%D1%83%D0%BB_%D0%94%D0%BE%D0%B1%D0%B5%D0%BB%D0%B5%D1%81\" title=\"Жудецул Добелес\">Жудецул Добелес</a>"
      ],
      "text/plain": [
       "<IPython.core.display.HTML object>"
      ]
     },
     "metadata": {},
     "output_type": "display_data"
    },
    {
     "data": {
      "text/html": [
       "<i>232.</i>  <a href=\"/wiki/%D0%96%D1%83%D0%B4%D0%B5%D1%86%D1%83%D0%BB_%D0%95%D0%B4%D0%B8%D0%BD%D0%B5%D1%86\" title=\"Жудецул Единец\">Жудецул Единец</a>"
      ],
      "text/plain": [
       "<IPython.core.display.HTML object>"
      ]
     },
     "metadata": {},
     "output_type": "display_data"
    },
    {
     "data": {
      "text/html": [
       "<i>233.</i>  <a href=\"/wiki/%D0%96%D1%83%D0%B4%D0%B5%D1%86%D1%83%D0%BB_%D0%95%D0%BA%D0%B0%D0%B1%D0%BF%D0%B8%D0%BB%D1%81\" title=\"Жудецул Екабпилс\">Жудецул Екабпилс</a>"
      ],
      "text/plain": [
       "<IPython.core.display.HTML object>"
      ]
     },
     "metadata": {},
     "output_type": "display_data"
    },
    {
     "data": {
      "text/html": [
       "<i>234.</i>  <a href=\"/wiki/%D0%96%D1%83%D0%B4%D0%B5%D1%86%D1%83%D0%BB_%D0%9A%D0%B0%D1%85%D1%83%D0%BB\" title=\"Жудецул Кахул\">Жудецул Кахул</a>"
      ],
      "text/plain": [
       "<IPython.core.display.HTML object>"
      ]
     },
     "metadata": {},
     "output_type": "display_data"
    },
    {
     "data": {
      "text/html": [
       "<i>235.</i>  <a href=\"/wiki/%D0%96%D1%83%D0%B4%D0%B5%D1%86%D1%83%D0%BB_%D0%9A%D0%B8%D1%88%D0%B8%D0%BD%D1%8D%D1%83\" title=\"Жудецул Кишинэу\">Жудецул Кишинэу</a>"
      ],
      "text/plain": [
       "<IPython.core.display.HTML object>"
      ]
     },
     "metadata": {},
     "output_type": "display_data"
    },
    {
     "data": {
      "text/html": [
       "<i>236.</i>  <a href=\"/wiki/%D0%96%D1%83%D0%B4%D0%B5%D1%86%D1%83%D0%BB_%D0%9A%D1%80%D0%B0%D1%81%D0%BB%D0%B0%D0%B2%D0%B0%D1%81\" title=\"Жудецул Краславас\">Жудецул Краславас</a>"
      ],
      "text/plain": [
       "<IPython.core.display.HTML object>"
      ]
     },
     "metadata": {},
     "output_type": "display_data"
    },
    {
     "data": {
      "text/html": [
       "<i>237.</i>  <a href=\"/wiki/%D0%96%D1%83%D0%B4%D0%B5%D1%86%D1%83%D0%BB_%D0%9A%D1%83%D0%BB%D0%B4%D0%B8%D0%B3%D0%B0%D1%81\" title=\"Жудецул Кулдигас\">Жудецул Кулдигас</a>"
      ],
      "text/plain": [
       "<IPython.core.display.HTML object>"
      ]
     },
     "metadata": {},
     "output_type": "display_data"
    },
    {
     "data": {
      "text/html": [
       "<i>238.</i>  <a href=\"/wiki/%D0%96%D1%83%D0%B4%D0%B5%D1%86%D1%83%D0%BB_%D0%9B%D0%B8%D0%BC%D0%B1%D0%B0%D0%B7%D1%83\" title=\"Жудецул Лимбазу\">Жудецул Лимбазу</a>"
      ],
      "text/plain": [
       "<IPython.core.display.HTML object>"
      ]
     },
     "metadata": {},
     "output_type": "display_data"
    },
    {
     "data": {
      "text/html": [
       "<i>239.</i>  <a href=\"/wiki/%D0%96%D1%83%D0%B4%D0%B5%D1%86%D1%83%D0%BB_%D0%9B%D1%8D%D0%BF%D1%83%D1%88%D0%BD%D0%B0\" title=\"Жудецул Лэпушна\">Жудецул Лэпушна</a>"
      ],
      "text/plain": [
       "<IPython.core.display.HTML object>"
      ]
     },
     "metadata": {},
     "output_type": "display_data"
    },
    {
     "data": {
      "text/html": [
       "<i>240.</i>  <a href=\"/wiki/%D0%96%D1%83%D0%B4%D0%B5%D1%86%D1%83%D0%BB_%D0%9C%D0%B0%D0%B4%D0%BE%D0%BD%D0%B0%D1%81\" title=\"Жудецул Мадонас\">Жудецул Мадонас</a>"
      ],
      "text/plain": [
       "<IPython.core.display.HTML object>"
      ]
     },
     "metadata": {},
     "output_type": "display_data"
    },
    {
     "data": {
      "text/html": [
       "<i>241.</i>  <a href=\"/wiki/%D0%96%D1%83%D0%B4%D0%B5%D1%86%D1%83%D0%BB_%D0%9C%D0%B0%D1%80%D0%B8%D1%8F%D0%BC%D0%BF%D0%BE%D0%BB%D0%B5\" title=\"Жудецул Мариямполе\">Жудецул Мариямполе</a>"
      ],
      "text/plain": [
       "<IPython.core.display.HTML object>"
      ]
     },
     "metadata": {},
     "output_type": "display_data"
    },
    {
     "data": {
      "text/html": [
       "<i>242.</i>  <a href=\"/wiki/%D0%96%D1%83%D0%B4%D0%B5%D1%86%D1%83%D0%BB_%D0%9E%D0%B3%D1%80%D0%B5%D1%81\" title=\"Жудецул Огрес\">Жудецул Огрес</a>"
      ],
      "text/plain": [
       "<IPython.core.display.HTML object>"
      ]
     },
     "metadata": {},
     "output_type": "display_data"
    },
    {
     "data": {
      "text/html": [
       "<i>243.</i>  <a href=\"/wiki/%D0%96%D1%83%D0%B4%D0%B5%D1%86%D1%83%D0%BB_%D0%9E%D1%80%D1%85%D0%B5%D0%B9\" title=\"Жудецул Орхей\">Жудецул Орхей</a>"
      ],
      "text/plain": [
       "<IPython.core.display.HTML object>"
      ]
     },
     "metadata": {},
     "output_type": "display_data"
    },
    {
     "data": {
      "text/html": [
       "<i>244.</i>  <a class=\"mw-redirect\" href=\"/wiki/%D0%96%D1%83%D0%B4%D0%B5%D1%86%D1%83%D0%BB_%D0%9F%D0%B0%D0%B2%D0%B5%D0%BD%D0%B5%D0%B6%D0%B8%D1%81\" title=\"Жудецул Павенежис\">Жудецул Павенежис</a>"
      ],
      "text/plain": [
       "<IPython.core.display.HTML object>"
      ]
     },
     "metadata": {},
     "output_type": "display_data"
    },
    {
     "data": {
      "text/html": [
       "<i>245.</i>  <a href=\"/wiki/%D0%96%D1%83%D0%B4%D0%B5%D1%86%D1%83%D0%BB_%D0%9F%D0%B0%D0%BD%D0%B5%D0%B2%D0%B5%D0%B6%D0%B8%D1%81\" title=\"Жудецул Паневежис\">Жудецул Паневежис</a>"
      ],
      "text/plain": [
       "<IPython.core.display.HTML object>"
      ]
     },
     "metadata": {},
     "output_type": "display_data"
    },
    {
     "data": {
      "text/html": [
       "<i>246.</i>  <a href=\"/wiki/%D0%96%D1%83%D0%B4%D0%B5%D1%86%D1%83%D0%BB_%D0%9F%D1%80%D0%B5%D0%B9%D0%BB%D1%83\" title=\"Жудецул Прейлу\">Жудецул Прейлу</a>"
      ],
      "text/plain": [
       "<IPython.core.display.HTML object>"
      ]
     },
     "metadata": {},
     "output_type": "display_data"
    },
    {
     "data": {
      "text/html": [
       "<i>247.</i>  <a href=\"/wiki/%D0%96%D1%83%D0%B4%D0%B5%D1%86%D1%83%D0%BB_%D0%A0%D0%B5%D0%B7%D0%B5%D0%BA%D0%BD%D0%B5\" title=\"Жудецул Резекне\">Жудецул Резекне</a>"
      ],
      "text/plain": [
       "<IPython.core.display.HTML object>"
      ]
     },
     "metadata": {},
     "output_type": "display_data"
    },
    {
     "data": {
      "text/html": [
       "<i>248.</i>  <a href=\"/wiki/%D0%96%D1%83%D0%B4%D0%B5%D1%86%D1%83%D0%BB_%D0%A0%D0%B8%D0%B3%D0%B0\" title=\"Жудецул Рига\">Жудецул Рига</a>"
      ],
      "text/plain": [
       "<IPython.core.display.HTML object>"
      ]
     },
     "metadata": {},
     "output_type": "display_data"
    },
    {
     "data": {
      "text/html": [
       "<i>249.</i>  <a href=\"/wiki/%D0%96%D1%83%D0%B4%D0%B5%D1%86%D1%83%D0%BB_%D0%A1%D0%B0%D0%BB%D0%B4%D1%83%D1%81\" title=\"Жудецул Салдус\">Жудецул Салдус</a>"
      ],
      "text/plain": [
       "<IPython.core.display.HTML object>"
      ]
     },
     "metadata": {},
     "output_type": "display_data"
    },
    {
     "data": {
      "text/html": [
       "<i>250.</i>  <a href=\"/wiki/%D0%96%D1%83%D0%B4%D0%B5%D1%86%D1%83%D0%BB_%D0%A1%D0%BE%D1%80%D0%BE%D0%BA%D0%B0\" title=\"Жудецул Сорока\">Жудецул Сорока</a>"
      ],
      "text/plain": [
       "<IPython.core.display.HTML object>"
      ]
     },
     "metadata": {},
     "output_type": "display_data"
    },
    {
     "data": {
      "text/html": [
       "<i>251.</i>  <a href=\"/wiki/%D0%96%D1%83%D0%B4%D0%B5%D1%86%D1%83%D0%BB_%D0%A2%D0%B0%D0%BB%D1%81%D1%83\" title=\"Жудецул Талсу\">Жудецул Талсу</a>"
      ],
      "text/plain": [
       "<IPython.core.display.HTML object>"
      ]
     },
     "metadata": {},
     "output_type": "display_data"
    },
    {
     "data": {
      "text/html": [
       "<i>252.</i>  <a href=\"/wiki/%D0%96%D1%83%D0%B4%D0%B5%D1%86%D1%83%D0%BB_%D0%A2%D0%B8%D0%B3%D0%B8%D0%BD%D0%B0\" title=\"Жудецул Тигина\">Жудецул Тигина</a>"
      ],
      "text/plain": [
       "<IPython.core.display.HTML object>"
      ]
     },
     "metadata": {},
     "output_type": "display_data"
    },
    {
     "data": {
      "text/html": [
       "<i>253.</i>  <a href=\"/wiki/%D0%96%D1%83%D0%B4%D0%B5%D1%86%D1%83%D0%BB_%D0%A2%D1%83%D0%BA%D1%83%D0%BC%D0%B0\" title=\"Жудецул Тукума\">Жудецул Тукума</a>"
      ],
      "text/plain": [
       "<IPython.core.display.HTML object>"
      ]
     },
     "metadata": {},
     "output_type": "display_data"
    },
    {
     "data": {
      "text/html": [
       "<i>254.</i>  <a href=\"/wiki/%D0%96%D1%83%D0%B4%D0%B5%D1%86%D1%83%D0%BB_%D0%A3%D0%BD%D0%B3%D0%B5%D0%BD%D1%8C\" title=\"Жудецул Унгень\">Жудецул Унгень</a>"
      ],
      "text/plain": [
       "<IPython.core.display.HTML object>"
      ]
     },
     "metadata": {},
     "output_type": "display_data"
    },
    {
     "data": {
      "text/html": [
       "<i>255.</i>  <a href=\"/wiki/%D0%96%D1%83%D0%B4%D0%B5%D1%86%D1%83%D0%BB_%D0%A6%D0%B5%D1%81%D1%83\" title=\"Жудецул Цесу\">Жудецул Цесу</a>"
      ],
      "text/plain": [
       "<IPython.core.display.HTML object>"
      ]
     },
     "metadata": {},
     "output_type": "display_data"
    },
    {
     "data": {
      "text/html": [
       "<i>256.</i>  <a href=\"/wiki/%D0%96%D1%83%D0%B4%D0%B5%D1%86%D1%83%D0%BB_%D0%A8%D1%8F%D1%83%D0%BB%D1%8F%D0%B9\" title=\"Жудецул Шяуляй\">Жудецул Шяуляй</a>"
      ],
      "text/plain": [
       "<IPython.core.display.HTML object>"
      ]
     },
     "metadata": {},
     "output_type": "display_data"
    },
    {
     "data": {
      "text/html": [
       "<i>257.</i>  <a href=\"/wiki/%D0%96%D1%83%D0%B4%D0%B5%D1%86%D1%83%D0%BB_%D0%AE%D1%80%D0%BC%D0%B0%D0%BB%D0%B0\" title=\"Жудецул Юрмала\">Жудецул Юрмала</a>"
      ],
      "text/plain": [
       "<IPython.core.display.HTML object>"
      ]
     },
     "metadata": {},
     "output_type": "display_data"
    },
    {
     "data": {
      "text/html": [
       "<i>258.</i>  <a class=\"mw-redirect\" href=\"/wiki/%D0%96%D1%83%D1%80%D0%B4%D0%B5%D1%86%D1%83%D0%BB_%D0%91%D1%8D%D0%BB%D1%86%D1%8C\" title=\"Журдецул Бэлць\">Журдецул Бэлць</a>"
      ],
      "text/plain": [
       "<IPython.core.display.HTML object>"
      ]
     },
     "metadata": {},
     "output_type": "display_data"
    },
    {
     "data": {
      "text/html": [
       "<i>259.</i>  <a href=\"/wiki/%D0%97%D0%B0%D0%BF%D0%BE%D1%80%D0%BE%D0%B6%D1%8C%D0%B5_(%D1%80%D0%B5%D3%82%D0%B8%D1%83%D0%BD%D0%B5)\" title=\"Запорожье (реӂиуне)\">Запорожье (реӂиуне)</a>"
      ],
      "text/plain": [
       "<IPython.core.display.HTML object>"
      ]
     },
     "metadata": {},
     "output_type": "display_data"
    },
    {
     "data": {
      "text/html": [
       "<i>260.</i>  <a class=\"mw-redirect\" href=\"/wiki/%D0%97%D0%B0%D0%BF%D0%BE%D1%80%D0%BE%D0%B6%D1%8C%D0%B5_(%D1%80%D0%B5%D3%82%D1%8E%D0%BD%D0%B5)\" title=\"Запорожье (реӂюне)\">Запорожье (реӂюне)</a>"
      ],
      "text/plain": [
       "<IPython.core.display.HTML object>"
      ]
     },
     "metadata": {},
     "output_type": "display_data"
    },
    {
     "data": {
      "text/html": [
       "<i>261.</i>  <a href=\"/wiki/%D0%97%D0%B4%D0%BE%D0%B1_%D1%88%D0%B8_%D0%97%D0%B4%D1%83%D0%B1\" title=\"Здоб ши Здуб\">Здоб ши Здуб</a>"
      ],
      "text/plain": [
       "<IPython.core.display.HTML object>"
      ]
     },
     "metadata": {},
     "output_type": "display_data"
    },
    {
     "data": {
      "text/html": [
       "<i>262.</i>  <a href=\"/wiki/%D0%98%D0%B2%D0%B0%D0%BD%D0%BE-%D0%A4%D1%80%D0%B0%D0%BD%D0%BA%D0%BE%D0%B2%D1%81%D0%BA_(%D1%80%D0%B5%D3%82%D0%B8%D1%83%D0%BD%D0%B5)\" title=\"Ивано-Франковск (реӂиуне)\">Ивано-Франковск (реӂиуне)</a>"
      ],
      "text/plain": [
       "<IPython.core.display.HTML object>"
      ]
     },
     "metadata": {},
     "output_type": "display_data"
    },
    {
     "data": {
      "text/html": [
       "<i>263.</i>  <a class=\"mw-redirect\" href=\"/wiki/%D0%98%D0%B2%D0%B0%D0%BD%D0%BE-%D0%A4%D1%80%D0%B0%D0%BD%D0%BA%D0%BE%D0%B2%D1%81%D0%BA_(%D1%80%D0%B5%D3%82%D1%8E%D0%BD%D0%B5)\" title=\"Ивано-Франковск (реӂюне)\">Ивано-Франковск (реӂюне)</a>"
      ],
      "text/plain": [
       "<IPython.core.display.HTML object>"
      ]
     },
     "metadata": {},
     "output_type": "display_data"
    },
    {
     "data": {
      "text/html": [
       "<i>264.</i>  <a href=\"/wiki/%D0%98%D0%B3%D0%BE%D1%80_%D0%A1%D0%BC%D0%B8%D1%80%D0%BD%D0%BE%D0%B2\" title=\"Игор Смирнов\">Игор Смирнов</a>"
      ],
      "text/plain": [
       "<IPython.core.display.HTML object>"
      ]
     },
     "metadata": {},
     "output_type": "display_data"
    },
    {
     "data": {
      "text/html": [
       "<i>265.</i>  <a href=\"/wiki/%D0%98%D0%B7%D0%BC%D0%B0%D0%B8%D0%BB\" title=\"Измаил\">Измаил</a>"
      ],
      "text/plain": [
       "<IPython.core.display.HTML object>"
      ]
     },
     "metadata": {},
     "output_type": "display_data"
    },
    {
     "data": {
      "text/html": [
       "<i>266.</i>  <a class=\"mw-redirect\" href=\"/wiki/%D0%98%D0%BC%D0%BD_%D0%BD%D0%B0%D1%86%D0%B8%D0%BE%D0%BD%D0%B0%D0%BB\" title=\"Имн национал\">Имн национал</a>"
      ],
      "text/plain": [
       "<IPython.core.display.HTML object>"
      ]
     },
     "metadata": {},
     "output_type": "display_data"
    },
    {
     "data": {
      "text/html": [
       "<i>267.</i>  <a href=\"/wiki/%D0%98%D0%BC%D0%BF%D0%B5%D1%80%D0%B8%D1%83%D0%BB_%D0%A0%D0%BE%D0%BC%D0%B0%D0%BD\" title=\"Империул Роман\">Империул Роман</a>"
      ],
      "text/plain": [
       "<IPython.core.display.HTML object>"
      ]
     },
     "metadata": {},
     "output_type": "display_data"
    },
    {
     "data": {
      "text/html": [
       "<i>268.</i>  <a href=\"/wiki/%D0%98%D0%BD%D0%B4%D0%B8%D1%8F\" title=\"Индия\">Индия</a>"
      ],
      "text/plain": [
       "<IPython.core.display.HTML object>"
      ]
     },
     "metadata": {},
     "output_type": "display_data"
    },
    {
     "data": {
      "text/html": [
       "<i>269.</i>  <a href=\"/wiki/%D0%98%D0%BD%D1%82%D0%B5%D1%80%D0%BD%D0%B5%D1%82\" title=\"Интернет\">Интернет</a>"
      ],
      "text/plain": [
       "<IPython.core.display.HTML object>"
      ]
     },
     "metadata": {},
     "output_type": "display_data"
    },
    {
     "data": {
      "text/html": [
       "<i>270.</i>  <a href=\"/wiki/%D0%98%D0%BE%D0%B0%D0%BD_%D0%9F%D0%B0%D1%83%D0%BB_%D0%B0%D0%BB_II-%D0%BB%D1%8F\" title=\"Иоан Паул ал II-ля\">Иоан Паул ал II-ля</a>"
      ],
      "text/plain": [
       "<IPython.core.display.HTML object>"
      ]
     },
     "metadata": {},
     "output_type": "display_data"
    },
    {
     "data": {
      "text/html": [
       "<i>271.</i>  <a class=\"mw-redirect\" href=\"/wiki/%D0%98%D0%BE%D0%B0%D0%BD_%D0%9F%D0%B0%D1%83%D0%BB_%D0%B0%D0%BB_%E2%85%A1-%D0%BB%D1%8F\" title=\"Иоан Паул ал Ⅱ-ля\">Иоан Паул ал Ⅱ-ля</a>"
      ],
      "text/plain": [
       "<IPython.core.display.HTML object>"
      ]
     },
     "metadata": {},
     "output_type": "display_data"
    },
    {
     "data": {
      "text/html": [
       "<i>272.</i>  <a href=\"/wiki/%D0%98%D0%BE%D0%BD_%D0%94%D1%80%D1%83%D1%86%D1%8D\" title=\"Ион Друцэ\">Ион Друцэ</a>"
      ],
      "text/plain": [
       "<IPython.core.display.HTML object>"
      ]
     },
     "metadata": {},
     "output_type": "display_data"
    },
    {
     "data": {
      "text/html": [
       "<i>273.</i>  <a href=\"/wiki/%D0%98%D1%80%D0%B0%D0%BA\" title=\"Ирак\">Ирак</a>"
      ],
      "text/plain": [
       "<IPython.core.display.HTML object>"
      ]
     },
     "metadata": {},
     "output_type": "display_data"
    },
    {
     "data": {
      "text/html": [
       "<i>274.</i>  <a class=\"mw-redirect\" href=\"/wiki/%D0%98%D1%80%D0%BB%D0%B0%D0%BD%D0%B4%D0%B0\" title=\"Ирланда\">Ирланда</a>"
      ],
      "text/plain": [
       "<IPython.core.display.HTML object>"
      ]
     },
     "metadata": {},
     "output_type": "display_data"
    },
    {
     "data": {
      "text/html": [
       "<i>275.</i>  <a href=\"/wiki/%D0%98%D1%81%D0%BB%D0%B0%D0%BC\" title=\"Ислам\">Ислам</a>"
      ],
      "text/plain": [
       "<IPython.core.display.HTML object>"
      ]
     },
     "metadata": {},
     "output_type": "display_data"
    },
    {
     "data": {
      "text/html": [
       "<i>276.</i>  <a class=\"mw-redirect\" href=\"/wiki/%D0%98%D1%81%D0%BB%D0%B0%D0%BC%D0%B8%D0%B7%D0%BC\" title=\"Исламизм\">Исламизм</a>"
      ],
      "text/plain": [
       "<IPython.core.display.HTML object>"
      ]
     },
     "metadata": {},
     "output_type": "display_data"
    },
    {
     "data": {
      "text/html": [
       "<i>277.</i>  <a href=\"/wiki/%D0%98%D1%81%D1%82%D0%BE%D1%80%D0%B8%D1%8F_%D0%9C%D0%BE%D0%BB%D0%B4%D0%BE%D0%B2%D0%B5%D0%B9\" title=\"История Молдовей\">История Молдовей</a>"
      ],
      "text/plain": [
       "<IPython.core.display.HTML object>"
      ]
     },
     "metadata": {},
     "output_type": "display_data"
    },
    {
     "data": {
      "text/html": [
       "<i>278.</i>  <a href=\"/wiki/%D0%98%D1%82%D0%B0%D0%BB%D0%B8%D1%8F\" title=\"Италия\">Италия</a>"
      ],
      "text/plain": [
       "<IPython.core.display.HTML object>"
      ]
     },
     "metadata": {},
     "output_type": "display_data"
    },
    {
     "data": {
      "text/html": [
       "<i>279.</i>  <a href=\"/wiki/%D0%99%D1%8B%D1%85%D0%B2%D0%B8\" title=\"Йыхви\">Йыхви</a>"
      ],
      "text/plain": [
       "<IPython.core.display.HTML object>"
      ]
     },
     "metadata": {},
     "output_type": "display_data"
    },
    {
     "data": {
      "text/html": [
       "<i>280.</i>  <a class=\"mw-redirect\" href=\"/wiki/%D0%9Ao%D0%BC%D0%BF%D1%83%D1%82ep\" title=\"Кoмпутep\">Кoмпутep</a>"
      ],
      "text/plain": [
       "<IPython.core.display.HTML object>"
      ]
     },
     "metadata": {},
     "output_type": "display_data"
    },
    {
     "data": {
      "text/html": [
       "<i>281.</i>  <a class=\"mw-redirect\" href=\"/wiki/%D0%9Ao%D0%BC%D0%BF%D1%8E%D1%82ep\" title=\"Кoмпютep\">Кoмпютep</a>"
      ],
      "text/plain": [
       "<IPython.core.display.HTML object>"
      ]
     },
     "metadata": {},
     "output_type": "display_data"
    },
    {
     "data": {
      "text/html": [
       "<i>282.</i>  <a href=\"/wiki/%D0%9A%D0%B0%D0%B1%D1%83%D0%BB\" title=\"Кабул\">Кабул</a>"
      ],
      "text/plain": [
       "<IPython.core.display.HTML object>"
      ]
     },
     "metadata": {},
     "output_type": "display_data"
    },
    {
     "data": {
      "text/html": [
       "<i>283.</i>  <a href=\"/wiki/%D0%9A%D0%B0%D0%B7%D0%B0%D0%BD\" title=\"Казан\">Казан</a>"
      ],
      "text/plain": [
       "<IPython.core.display.HTML object>"
      ]
     },
     "metadata": {},
     "output_type": "display_data"
    },
    {
     "data": {
      "text/html": [
       "<i>284.</i>  <a href=\"/wiki/%D0%9A%D0%B0%D0%B7%D0%B0%D1%85%D1%81%D1%82%D0%B0%D0%BD\" title=\"Казахстан\">Казахстан</a>"
      ],
      "text/plain": [
       "<IPython.core.display.HTML object>"
      ]
     },
     "metadata": {},
     "output_type": "display_data"
    },
    {
     "data": {
      "text/html": [
       "<i>285.</i>  <a href=\"/wiki/%D0%9A%D0%B0%D0%BB%D0%B8%D0%BD%D0%B8%D0%BD%D0%B3%D1%80%D0%B0%D0%B4\" title=\"Калининград\">Калининград</a>"
      ],
      "text/plain": [
       "<IPython.core.display.HTML object>"
      ]
     },
     "metadata": {},
     "output_type": "display_data"
    },
    {
     "data": {
      "text/html": [
       "<i>286.</i>  <a href=\"/wiki/%D0%9A%D0%B0%D0%BB%D0%B8%D1%84%D0%BE%D1%80%D0%BD%D0%B8%D1%8F\" title=\"Калифорния\">Калифорния</a>"
      ],
      "text/plain": [
       "<IPython.core.display.HTML object>"
      ]
     },
     "metadata": {},
     "output_type": "display_data"
    },
    {
     "data": {
      "text/html": [
       "<i>287.</i>  <a href=\"/wiki/%D0%9A%D0%B0%D0%BB%D0%BC%D1%8B%D0%BA%D0%B8%D1%8F\" title=\"Калмыкия\">Калмыкия</a>"
      ],
      "text/plain": [
       "<IPython.core.display.HTML object>"
      ]
     },
     "metadata": {},
     "output_type": "display_data"
    },
    {
     "data": {
      "text/html": [
       "<i>288.</i>  <a href=\"/wiki/%D0%9A%D0%B0%D0%BC%D0%B5%D0%BD%D0%BA%D0%B0\" title=\"Каменка\">Каменка</a>"
      ],
      "text/plain": [
       "<IPython.core.display.HTML object>"
      ]
     },
     "metadata": {},
     "output_type": "display_data"
    },
    {
     "data": {
      "text/html": [
       "<i>289.</i>  <a class=\"mw-redirect\" href=\"/wiki/%D0%9A%D0%B0%D0%BF%D0%B8%D1%82%D0%B0%D0%BB%D0%B0\" title=\"Капитала\">Капитала</a>"
      ],
      "text/plain": [
       "<IPython.core.display.HTML object>"
      ]
     },
     "metadata": {},
     "output_type": "display_data"
    },
    {
     "data": {
      "text/html": [
       "<i>290.</i>  <a href=\"/wiki/%D0%9A%D0%B0%D0%BF%D0%B8%D1%82%D0%B0%D0%BB%D1%8D\" title=\"Капиталэ\">Капиталэ</a>"
      ],
      "text/plain": [
       "<IPython.core.display.HTML object>"
      ]
     },
     "metadata": {},
     "output_type": "display_data"
    },
    {
     "data": {
      "text/html": [
       "<i>291.</i>  <a href=\"/wiki/%D0%9A%D0%B0%D1%85%D1%83%D0%BB\" title=\"Кахул\">Кахул</a>"
      ],
      "text/plain": [
       "<IPython.core.display.HTML object>"
      ]
     },
     "metadata": {},
     "output_type": "display_data"
    },
    {
     "data": {
      "text/html": [
       "<i>292.</i>  <a href=\"/wiki/%D0%9A%D0%B5%D0%B9%D0%BB%D0%B0\" title=\"Кейла\">Кейла</a>"
      ],
      "text/plain": [
       "<IPython.core.display.HTML object>"
      ]
     },
     "metadata": {},
     "output_type": "display_data"
    },
    {
     "data": {
      "text/html": [
       "<i>293.</i>  <a href=\"/wiki/%D0%9A%D0%B8%D0%B2%D0%B8%D1%8B%D0%BB%D0%B8\" title=\"Кивиыли\">Кивиыли</a>"
      ],
      "text/plain": [
       "<IPython.core.display.HTML object>"
      ]
     },
     "metadata": {},
     "output_type": "display_data"
    },
    {
     "data": {
      "text/html": [
       "<i>294.</i>  <a href=\"/wiki/%D0%9A%D0%B8%D0%B5%D0%B2\" title=\"Киев\">Киев</a>"
      ],
      "text/plain": [
       "<IPython.core.display.HTML object>"
      ]
     },
     "metadata": {},
     "output_type": "display_data"
    },
    {
     "data": {
      "text/html": [
       "<i>295.</i>  <a href=\"/wiki/%D0%9A%D0%B8%D0%BB%D0%B8%D1%8F\" title=\"Килия\">Килия</a>"
      ],
      "text/plain": [
       "<IPython.core.display.HTML object>"
      ]
     },
     "metadata": {},
     "output_type": "display_data"
    },
    {
     "data": {
      "text/html": [
       "<i>296.</i>  <a href=\"/wiki/%D0%9A%D0%B8%D0%BB%D0%BE%D0%BC%D0%B5%D1%82%D1%80%D1%83_%D0%BF%D1%8D%D1%82%D1%80%D0%B0%D1%82\" title=\"Километру пэтрат\">Километру пэтрат</a>"
      ],
      "text/plain": [
       "<IPython.core.display.HTML object>"
      ]
     },
     "metadata": {},
     "output_type": "display_data"
    },
    {
     "data": {
      "text/html": [
       "<i>297.</i>  <a href=\"/wiki/%D0%9A%D0%B8%D0%BC%D0%B8%D0%B5\" title=\"Кимие\">Кимие</a>"
      ],
      "text/plain": [
       "<IPython.core.display.HTML object>"
      ]
     },
     "metadata": {},
     "output_type": "display_data"
    },
    {
     "data": {
      "text/html": [
       "<i>298.</i>  <a href=\"/wiki/%D0%9A%D0%B8%D1%88%D0%B8%D0%BD%D1%8D%D1%83\" title=\"Кишинэу\">Кишинэу</a>"
      ],
      "text/plain": [
       "<IPython.core.display.HTML object>"
      ]
     },
     "metadata": {},
     "output_type": "display_data"
    },
    {
     "data": {
      "text/html": [
       "<i>299.</i>  <a href=\"/wiki/%D0%9A%D0%BB%D0%B0%D0%B9%D0%BF%D0%B5%D0%B4%D0%B0\" title=\"Клайпеда\">Клайпеда</a>"
      ],
      "text/plain": [
       "<IPython.core.display.HTML object>"
      ]
     },
     "metadata": {},
     "output_type": "display_data"
    },
    {
     "data": {
      "text/html": [
       "<i>300.</i>  <a class=\"mw-redirect\" href=\"/wiki/%D0%9A%D0%BE%D0%B0%D1%81%D1%82%D0%B0_%D0%B4%D0%B5_%D1%84%D0%B8%D0%BB%D0%B4%D0%B5%D1%88\" title=\"Коаста де филдеш\">Коаста де филдеш</a>"
      ],
      "text/plain": [
       "<IPython.core.display.HTML object>"
      ]
     },
     "metadata": {},
     "output_type": "display_data"
    },
    {
     "data": {
      "text/html": [
       "<i>301.</i>  <a href=\"/wiki/%D0%9A%D0%BE%D0%B4%D0%BB%D1%8F\" title=\"Кодля\">Кодля</a>"
      ],
      "text/plain": [
       "<IPython.core.display.HTML object>"
      ]
     },
     "metadata": {},
     "output_type": "display_data"
    },
    {
     "data": {
      "text/html": [
       "<i>302.</i>  <a class=\"mw-redirect\" href=\"/wiki/%D0%9A%D0%BE%D0%B4%D0%BB%D1%8F_on_wheels\" title=\"Кодля on wheels\">Кодля on wheels</a>"
      ],
      "text/plain": [
       "<IPython.core.display.HTML object>"
      ]
     },
     "metadata": {},
     "output_type": "display_data"
    },
    {
     "data": {
      "text/html": [
       "<i>303.</i>  <a href=\"/wiki/%D0%9A%D0%BE%D0%BC%D0%BF%D1%83%D1%82%D0%B5%D1%80\" title=\"Компутер\">Компутер</a>"
      ],
      "text/plain": [
       "<IPython.core.display.HTML object>"
      ]
     },
     "metadata": {},
     "output_type": "display_data"
    },
    {
     "data": {
      "text/html": [
       "<i>304.</i>  <a href=\"/wiki/%D0%9A%D0%BE%D0%BC%D1%80%D0%B0%D1%82\" title=\"Комрат\">Комрат</a>"
      ],
      "text/plain": [
       "<IPython.core.display.HTML object>"
      ]
     },
     "metadata": {},
     "output_type": "display_data"
    },
    {
     "data": {
      "text/html": [
       "<i>305.</i>  <a href=\"/wiki/%D0%9A%D0%BE%D0%BC%D1%83%D0%BD%D0%B8%D0%BA%D0%B0%D1%86%D0%B8%D0%B5\" title=\"Комуникацие\">Комуникацие</a>"
      ],
      "text/plain": [
       "<IPython.core.display.HTML object>"
      ]
     },
     "metadata": {},
     "output_type": "display_data"
    },
    {
     "data": {
      "text/html": [
       "<i>306.</i>  <a href=\"/wiki/%D0%9A%D0%BE%D0%BC%D1%83%D0%BD%D0%B8%D1%82%D0%B0%D1%82%D1%8F_%D0%A1%D1%82%D0%B0%D1%82%D0%B5%D0%BB%D0%BE%D1%80_%D0%98%D0%BD%D0%B4%D0%B5%D0%BF%D0%B5%D0%BD%D0%B4%D0%B5%D0%BD%D1%82%D0%B5\" title=\"Комунитатя Стателор Индепенденте\">Комунитатя Стателор Индепенденте</a>"
      ],
      "text/plain": [
       "<IPython.core.display.HTML object>"
      ]
     },
     "metadata": {},
     "output_type": "display_data"
    },
    {
     "data": {
      "text/html": [
       "<i>307.</i>  <a href=\"/wiki/%D0%9A%D0%BE%D0%BD%D1%82%D0%B8%D0%BD%D0%B5%D0%BD%D1%82\" title=\"Континент\">Континент</a>"
      ],
      "text/plain": [
       "<IPython.core.display.HTML object>"
      ]
     },
     "metadata": {},
     "output_type": "display_data"
    },
    {
     "data": {
      "text/html": [
       "<i>308.</i>  <a href=\"/wiki/%D0%9A%D0%BE%D0%BD%D1%82%D1%80%D0%B0%D1%84%D0%BE%D1%80%D1%82\" title=\"Контрафорт\">Контрафорт</a>"
      ],
      "text/plain": [
       "<IPython.core.display.HTML object>"
      ]
     },
     "metadata": {},
     "output_type": "display_data"
    },
    {
     "data": {
      "text/html": [
       "<i>309.</i>  <a href=\"/wiki/%D0%9A%D0%BE%D1%80%D0%B5%D1%8F_%D0%B4%D0%B5_%D0%A1%D1%83%D0%B4\" title=\"Корея де Суд\">Корея де Суд</a>"
      ],
      "text/plain": [
       "<IPython.core.display.HTML object>"
      ]
     },
     "metadata": {},
     "output_type": "display_data"
    },
    {
     "data": {
      "text/html": [
       "<i>310.</i>  <a href=\"/wiki/%D0%9A%D0%BE%D1%80%D1%82%D0%B8%D0%BD%D0%B0_%D0%B4%D0%B5_%D1%84%D0%B8%D0%B5%D1%80\" title=\"Кортина де фиер\">Кортина де фиер</a>"
      ],
      "text/plain": [
       "<IPython.core.display.HTML object>"
      ]
     },
     "metadata": {},
     "output_type": "display_data"
    },
    {
     "data": {
      "text/html": [
       "<i>311.</i>  <a class=\"mw-redirect\" href=\"/wiki/%D0%9A%D0%BE%D1%82-%D0%B4%27%D0%98%D0%B2%D1%83%D0%B0%D1%80\" title=\"Кот-д'Ивуар\">Кот-д'Ивуар</a>"
      ],
      "text/plain": [
       "<IPython.core.display.HTML object>"
      ]
     },
     "metadata": {},
     "output_type": "display_data"
    },
    {
     "data": {
      "text/html": [
       "<i>312.</i>  <a href=\"/wiki/%D0%9A%D0%BE%D1%85%D1%82%D0%BB%D0%B0-%D0%AF%D1%80%D0%B2%D0%B5\" title=\"Кохтла-Ярве\">Кохтла-Ярве</a>"
      ],
      "text/plain": [
       "<IPython.core.display.HTML object>"
      ]
     },
     "metadata": {},
     "output_type": "display_data"
    },
    {
     "data": {
      "text/html": [
       "<i>313.</i>  <a href=\"/wiki/%D0%9A%D1%80%D0%B0%D0%BA%D0%BE%D0%B2%D0%B8%D1%8F\" title=\"Краковия\">Краковия</a>"
      ],
      "text/plain": [
       "<IPython.core.display.HTML object>"
      ]
     },
     "metadata": {},
     "output_type": "display_data"
    },
    {
     "data": {
      "text/html": [
       "<i>314.</i>  <a href=\"/wiki/%D0%9A%D1%80%D0%B5%D1%88%D1%82%D0%B8%D0%BD%D0%B8%D0%B7%D0%BC\" title=\"Крештинизм\">Крештинизм</a>"
      ],
      "text/plain": [
       "<IPython.core.display.HTML object>"
      ]
     },
     "metadata": {},
     "output_type": "display_data"
    },
    {
     "data": {
      "text/html": [
       "<i>315.</i>  <a class=\"mw-redirect\" href=\"/wiki/%D0%9A%D1%80%D0%B5%D1%88%D1%82%D0%B8%D0%BD%D0%B8%D0%B7%D0%BC_on_wheels!\" title=\"Крештинизм on wheels!\">Крештинизм on wheels!</a>"
      ],
      "text/plain": [
       "<IPython.core.display.HTML object>"
      ]
     },
     "metadata": {},
     "output_type": "display_data"
    },
    {
     "data": {
      "text/html": [
       "<i>316.</i>  <a href=\"/wiki/%D0%9A%D1%80%D0%B8%D0%BC%D0%B5%D1%8F\" title=\"Кримея\">Кримея</a>"
      ],
      "text/plain": [
       "<IPython.core.display.HTML object>"
      ]
     },
     "metadata": {},
     "output_type": "display_data"
    },
    {
     "data": {
      "text/html": [
       "<i>317.</i>  <a class=\"mw-redirect\" href=\"/wiki/%D0%9A%D1%80%D0%B8%D1%83%D0%BB%D0%B5%D0%BD%D1%8C\" title=\"Криулень\">Криулень</a>"
      ],
      "text/plain": [
       "<IPython.core.display.HTML object>"
      ]
     },
     "metadata": {},
     "output_type": "display_data"
    },
    {
     "data": {
      "text/html": [
       "<i>318.</i>  <a href=\"/wiki/%D0%9A%D1%80%D0%BE%D0%B0%D1%86%D0%B8%D1%8F\" title=\"Кроация\">Кроация</a>"
      ],
      "text/plain": [
       "<IPython.core.display.HTML object>"
      ]
     },
     "metadata": {},
     "output_type": "display_data"
    },
    {
     "data": {
      "text/html": [
       "<i>319.</i>  <a href=\"/wiki/%D0%9A%D1%80%D1%8E%D0%BB%D0%B5%D0%BD%D1%8C\" title=\"Крюлень\">Крюлень</a>"
      ],
      "text/plain": [
       "<IPython.core.display.HTML object>"
      ]
     },
     "metadata": {},
     "output_type": "display_data"
    },
    {
     "data": {
      "text/html": [
       "<i>320.</i>  <a href=\"/wiki/%D0%9A%D1%83%D0%BB%D1%82%D1%83%D1%80%D1%8D\" title=\"Културэ\">Културэ</a>"
      ],
      "text/plain": [
       "<IPython.core.display.HTML object>"
      ]
     },
     "metadata": {},
     "output_type": "display_data"
    },
    {
     "data": {
      "text/html": [
       "<i>321.</i>  <a href=\"/wiki/%D0%9A%D1%83%D1%80%D0%B5%D0%BA%D0%B8\" title=\"Куреки\">Куреки</a>"
      ],
      "text/plain": [
       "<IPython.core.display.HTML object>"
      ]
     },
     "metadata": {},
     "output_type": "display_data"
    },
    {
     "data": {
      "text/html": [
       "<i>322.</i>  <a href=\"/wiki/%D0%9A%D1%83%D1%80%D1%83%D0%B2\" title=\"Курув\">Курув</a>"
      ],
      "text/plain": [
       "<IPython.core.display.HTML object>"
      ]
     },
     "metadata": {},
     "output_type": "display_data"
    },
    {
     "data": {
      "text/html": [
       "<i>323.</i>  <a class=\"mw-redirect\" href=\"/wiki/%D0%9A%D1%8B%D0%B9%D0%BD%D0%B5\" title=\"Кыйне\">Кыйне</a>"
      ],
      "text/plain": [
       "<IPython.core.display.HTML object>"
      ]
     },
     "metadata": {},
     "output_type": "display_data"
    },
    {
     "data": {
      "text/html": [
       "<i>324.</i>  <a href=\"/wiki/%D0%9A%D1%8B%D0%BD%D0%B5\" title=\"Кыне\">Кыне</a>"
      ],
      "text/plain": [
       "<IPython.core.display.HTML object>"
      ]
     },
     "metadata": {},
     "output_type": "display_data"
    },
    {
     "data": {
      "text/html": [
       "<i>325.</i>  <a href=\"/wiki/%D0%9A%D1%8B%D1%80%D0%B3%D1%8B%D0%B7%D1%81%D1%82%D0%B0%D0%BD\" title=\"Кыргызстан\">Кыргызстан</a>"
      ],
      "text/plain": [
       "<IPython.core.display.HTML object>"
      ]
     },
     "metadata": {},
     "output_type": "display_data"
    },
    {
     "data": {
      "text/html": [
       "<i>326.</i>  <a href=\"/wiki/%D0%9A%D1%8D%D1%83%D1%88%D0%B0%D0%BD%D1%8C\" title=\"Кэушань\">Кэушань</a>"
      ],
      "text/plain": [
       "<IPython.core.display.HTML object>"
      ]
     },
     "metadata": {},
     "output_type": "display_data"
    },
    {
     "data": {
      "text/html": [
       "<i>327.</i>  <a href=\"/wiki/%D0%9B%D0%B5%D1%82%D0%BE%D0%BD%D0%B8%D1%8F\" title=\"Летония\">Летония</a>"
      ],
      "text/plain": [
       "<IPython.core.display.HTML object>"
      ]
     },
     "metadata": {},
     "output_type": "display_data"
    },
    {
     "data": {
      "text/html": [
       "<i>328.</i>  <a href=\"/wiki/%D0%9B%D0%B5%D1%83_%D0%BC%D0%BE%D0%BB%D0%B4%D0%BE%D0%B2%D0%B5%D0%BD%D0%B5%D1%81%D0%BA\" title=\"Леу молдовенеск\">Леу молдовенеск</a>"
      ],
      "text/plain": [
       "<IPython.core.display.HTML object>"
      ]
     },
     "metadata": {},
     "output_type": "display_data"
    },
    {
     "data": {
      "text/html": [
       "<i>329.</i>  <a href=\"/wiki/%D0%9B%D0%B5%D1%83_%D1%80%D0%BE%D0%BC%D1%8B%D0%BD%D0%B5%D1%81%D0%BA\" title=\"Леу ромынеск\">Леу ромынеск</a>"
      ],
      "text/plain": [
       "<IPython.core.display.HTML object>"
      ]
     },
     "metadata": {},
     "output_type": "display_data"
    },
    {
     "data": {
      "text/html": [
       "<i>330.</i>  <a href=\"/wiki/%D0%9B%D0%B8%D0%BC%D0%B1a_ec%D1%82o%D0%BD%D1%8D\" title=\"Лимбa ecтoнэ\">Лимбa ecтoнэ</a>"
      ],
      "text/plain": [
       "<IPython.core.display.HTML object>"
      ]
     },
     "metadata": {},
     "output_type": "display_data"
    },
    {
     "data": {
      "text/html": [
       "<i>331.</i>  <a href=\"/wiki/%D0%9B%D0%B8%D0%BC%D0%B1%D0%B0_%D0%9D%D0%BE%D0%B0%D1%81%D1%82%D1%80%D1%8D\" title=\"Лимба Ноастрэ\">Лимба Ноастрэ</a>"
      ],
      "text/plain": [
       "<IPython.core.display.HTML object>"
      ]
     },
     "metadata": {},
     "output_type": "display_data"
    },
    {
     "data": {
      "text/html": [
       "<i>332.</i>  <a class=\"mw-redirect\" href=\"/wiki/%D0%9B%D0%B8%D0%BC%D0%B1%D0%B0_%D0%A0%D0%BE%D0%BC%D1%8B%D0%BD%D1%8D\" title=\"Лимба Ромынэ\">Лимба Ромынэ</a>"
      ],
      "text/plain": [
       "<IPython.core.display.HTML object>"
      ]
     },
     "metadata": {},
     "output_type": "display_data"
    },
    {
     "data": {
      "text/html": [
       "<i>333.</i>  <a class=\"mw-redirect\" href=\"/wiki/%D0%9B%D0%B8%D0%BC%D0%B1%D0%B0_%D0%A0%D1%83%D1%81%D1%8D\" title=\"Лимба Русэ\">Лимба Русэ</a>"
      ],
      "text/plain": [
       "<IPython.core.display.HTML object>"
      ]
     },
     "metadata": {},
     "output_type": "display_data"
    },
    {
     "data": {
      "text/html": [
       "<i>334.</i>  <a class=\"mw-redirect\" href=\"/wiki/%D0%9B%D0%B8%D0%BC%D0%B1%D0%B0_%D0%B5%D1%81%D1%82%D0%BE%D0%BD%D1%8D\" title=\"Лимба естонэ\">Лимба естонэ</a>"
      ],
      "text/plain": [
       "<IPython.core.display.HTML object>"
      ]
     },
     "metadata": {},
     "output_type": "display_data"
    },
    {
     "data": {
      "text/html": [
       "<i>335.</i>  <a href=\"/wiki/%D0%9B%D0%B8%D0%BC%D0%B1%D0%B0_%D0%BC%D0%B0%D1%82%D0%B5%D1%80%D0%BD%D1%8D\" title=\"Лимба матернэ\">Лимба матернэ</a>"
      ],
      "text/plain": [
       "<IPython.core.display.HTML object>"
      ]
     },
     "metadata": {},
     "output_type": "display_data"
    },
    {
     "data": {
      "text/html": [
       "<i>336.</i>  <a class=\"mw-redirect\" href=\"/wiki/%D0%9B%D0%B8%D0%BC%D0%B1%D0%B0_%D0%BC%D0%BE%D0%BB%D0%B4%D0%BE%D0%B2%D0%B5%D0%BD%D0%B5%D0%B0%D1%81%D0%BA%D1%8D\" title=\"Лимба молдовенеаскэ\">Лимба молдовенеаскэ</a>"
      ],
      "text/plain": [
       "<IPython.core.display.HTML object>"
      ]
     },
     "metadata": {},
     "output_type": "display_data"
    },
    {
     "data": {
      "text/html": [
       "<i>337.</i>  <a href=\"/wiki/%D0%9B%D0%B8%D0%BC%D0%B1%D0%B0_%D0%BC%D0%BE%D0%BB%D0%B4%D0%BE%D0%B2%D0%B5%D0%BD%D1%8F%D1%81%D0%BA%D1%8D\" title=\"Лимба молдовеняскэ\">Лимба молдовеняскэ</a>"
      ],
      "text/plain": [
       "<IPython.core.display.HTML object>"
      ]
     },
     "metadata": {},
     "output_type": "display_data"
    },
    {
     "data": {
      "text/html": [
       "<i>338.</i>  <a href=\"/wiki/%D0%9B%D0%B8%D0%BC%D0%B1%D0%B0_%D0%BE%D0%BB%D0%B0%D0%BD%D0%B4%D0%B5%D0%B7%D1%8D\" title=\"Лимба оландезэ\">Лимба оландезэ</a>"
      ],
      "text/plain": [
       "<IPython.core.display.HTML object>"
      ]
     },
     "metadata": {},
     "output_type": "display_data"
    },
    {
     "data": {
      "text/html": [
       "<i>339.</i>  <a class=\"mw-redirect\" href=\"/wiki/%D0%9B%D0%B8%D0%BC%D0%B1%D0%B0_%D0%BE%D1%84%D0%B8%D1%87%D0%B8%D0%B0%D0%BB%D1%8D\" title=\"Лимба офичиалэ\">Лимба офичиалэ</a>"
      ],
      "text/plain": [
       "<IPython.core.display.HTML object>"
      ]
     },
     "metadata": {},
     "output_type": "display_data"
    },
    {
     "data": {
      "text/html": [
       "<i>340.</i>  <a href=\"/wiki/%D0%9B%D0%B8%D0%BC%D0%B1%D0%B0_%D1%80%D0%BE%D0%BC%D1%8B%D0%BD%D1%8D\" title=\"Лимба ромынэ\">Лимба ромынэ</a>"
      ],
      "text/plain": [
       "<IPython.core.display.HTML object>"
      ]
     },
     "metadata": {},
     "output_type": "display_data"
    },
    {
     "data": {
      "text/html": [
       "<i>341.</i>  <a href=\"/wiki/%D0%9B%D0%B8%D0%BC%D0%B1%D0%B0_%D1%80%D1%83%D1%81%D1%8D\" title=\"Лимба русэ\">Лимба русэ</a>"
      ],
      "text/plain": [
       "<IPython.core.display.HTML object>"
      ]
     },
     "metadata": {},
     "output_type": "display_data"
    },
    {
     "data": {
      "text/html": [
       "<i>342.</i>  <a href=\"/wiki/%D0%9B%D0%B8%D0%BC%D0%B1%D0%B0_%D1%83%D0%BA%D1%80%D0%B0%D0%B8%D0%BD%D1%8F%D0%BD%D1%8D\" title=\"Лимба украинянэ\">Лимба украинянэ</a>"
      ],
      "text/plain": [
       "<IPython.core.display.HTML object>"
      ]
     },
     "metadata": {},
     "output_type": "display_data"
    },
    {
     "data": {
      "text/html": [
       "<i>343.</i>  <a href=\"/wiki/%D0%9B%D0%B8%D0%BC%D0%B1%D0%B0_%D3%82%D0%B5%D1%80%D0%BC%D0%B0%D0%BD%D1%8D\" title=\"Лимба ӂерманэ\">Лимба ӂерманэ</a>"
      ],
      "text/plain": [
       "<IPython.core.display.HTML object>"
      ]
     },
     "metadata": {},
     "output_type": "display_data"
    },
    {
     "data": {
      "text/html": [
       "<i>344.</i>  <a href=\"/wiki/%D0%9B%D0%B8%D0%BC%D0%B1%D0%B8%D0%BB%D0%B5_%D1%84%D0%B8%D0%BD%D0%BE-%D1%83%D0%B3%D1%80%D0%B8%D1%87%D0%B5\" title=\"Лимбиле фино-угриче\">Лимбиле фино-угриче</a>"
      ],
      "text/plain": [
       "<IPython.core.display.HTML object>"
      ]
     },
     "metadata": {},
     "output_type": "display_data"
    },
    {
     "data": {
      "text/html": [
       "<i>345.</i>  <a href=\"/wiki/%D0%9B%D0%B8%D0%BC%D0%B1%D1%8C\" title=\"Лимбь\">Лимбь</a>"
      ],
      "text/plain": [
       "<IPython.core.display.HTML object>"
      ]
     },
     "metadata": {},
     "output_type": "display_data"
    },
    {
     "data": {
      "text/html": [
       "<i>346.</i>  <a class=\"mw-redirect\" href=\"/wiki/%D0%9B%D0%B8%D0%BC%D0%B1%D1%8C_%D1%84%D0%B8%D0%BDo-%D1%83%D0%B3p%D0%B8%D1%87e\" title=\"Лимбь финo-угpичe\">Лимбь финo-угpичe</a>"
      ],
      "text/plain": [
       "<IPython.core.display.HTML object>"
      ]
     },
     "metadata": {},
     "output_type": "display_data"
    },
    {
     "data": {
      "text/html": [
       "<i>347.</i>  <a href=\"/wiki/%D0%9B%D0%B8%D0%BC%D0%B1%D1%8D\" title=\"Лимбэ\">Лимбэ</a>"
      ],
      "text/plain": [
       "<IPython.core.display.HTML object>"
      ]
     },
     "metadata": {},
     "output_type": "display_data"
    },
    {
     "data": {
      "text/html": [
       "<i>348.</i>  <a href=\"/w/index.php?title=Special:Toate_paginile&amp;from=%D0%9B%D0%B8%D0%BC%D0%B1%D1%8D+%D0%BE%D1%84%D0%B8%D1%87%D0%B8%D0%B0%D0%BB%D1%8D\" title=\"Special:Toate paginile\">Pagina următoare (Лимбэ офичиалэ)</a>"
      ],
      "text/plain": [
       "<IPython.core.display.HTML object>"
      ]
     },
     "metadata": {},
     "output_type": "display_data"
    },
    {
     "data": {
      "text/html": [
       "<i>349.</i>  <a dir=\"ltr\" href=\"https://mo.wikipedia.org/wiki/Special:Toate_paginile\">https://mo.wikipedia.org/wiki/Special:Toate_paginile</a>"
      ],
      "text/plain": [
       "<IPython.core.display.HTML object>"
      ]
     },
     "metadata": {},
     "output_type": "display_data"
    },
    {
     "data": {
      "text/html": [
       "<i>350.</i>  <a accesskey=\"o\" href=\"/w/index.php?title=Special:Autentificare&amp;returnto=Special%3AToate+paginile&amp;returntoquery=hideredirects%3D1\" title=\"Есте ынкуражат сэ се аутентификэ, дешь ачест лукру ну есте облигаториу. [o]\">Autentificare</a>"
      ],
      "text/plain": [
       "<IPython.core.display.HTML object>"
      ]
     },
     "metadata": {},
     "output_type": "display_data"
    },
    {
     "data": {
      "text/html": [
       "<i>351.</i>  <a href=\"/w/index.php?title=Special:Toate_paginile&amp;hideredirects=1\" title=\"Ачаста есте о паӂинэ спечиалэ, ну о поць модифика директ.\">Сервичий</a>"
      ],
      "text/plain": [
       "<IPython.core.display.HTML object>"
      ]
     },
     "metadata": {},
     "output_type": "display_data"
    },
    {
     "data": {
      "text/html": [
       "<i>352.</i>  <a class=\"mw-wiki-logo\" href=\"/wiki/%D0%9F%D0%B0%D3%82%D0%B8%D0%BD%D0%B0_%D0%BF%D1%80%D0%B8%D0%BD%D1%87%D0%B8%D0%BF%D0%B0%D0%BB%D1%8D\" title=\"Pagina principală\"></a>"
      ],
      "text/plain": [
       "<IPython.core.display.HTML object>"
      ]
     },
     "metadata": {},
     "output_type": "display_data"
    },
    {
     "data": {
      "text/html": [
       "<i>353.</i>  <a accesskey=\"z\" href=\"/wiki/%D0%9F%D0%B0%D3%82%D0%B8%D0%BD%D0%B0_%D0%BF%D1%80%D0%B8%D0%BD%D1%87%D0%B8%D0%BF%D0%B0%D0%BB%D1%8D\" title=\"Визитязэ паӂина принчипалэ [z]\">Прима паӂина</a>"
      ],
      "text/plain": [
       "<IPython.core.display.HTML object>"
      ]
     },
     "metadata": {},
     "output_type": "display_data"
    },
    {
     "data": {
      "text/html": [
       "<i>354.</i>  <a href=\"/wiki/Wikipedia:Portal_Comunitate\" title=\"Деспре проект, че поате фаче, унде гэсеште солуций\">Порталул комунитэций</a>"
      ],
      "text/plain": [
       "<IPython.core.display.HTML object>"
      ]
     },
     "metadata": {},
     "output_type": "display_data"
    },
    {
     "data": {
      "text/html": [
       "<i>355.</i>  <a href=\"/wiki/Wikipedia:Cafenea\" title=\"Гэсеште информаций деспре ынтымпларе курентэ\">Евенименте актуале</a>"
      ],
      "text/plain": [
       "<IPython.core.display.HTML object>"
      ]
     },
     "metadata": {},
     "output_type": "display_data"
    },
    {
     "data": {
      "text/html": [
       "<i>356.</i>  <a accesskey=\"r\" href=\"/wiki/Special:%D0%9C%D0%BE%D0%B4%D0%B8%D1%84%D0%B8%D0%BA%D1%8D%D1%80%D1%8C%D1%80%D0%B5%D1%87%D0%B5%D0%BD%D1%82%D0%B5\" title=\"Листа ултимелор скимбэрь реализате ын ачест вики. [r]\">Скимбэрь актуале</a>"
      ],
      "text/plain": [
       "<IPython.core.display.HTML object>"
      ]
     },
     "metadata": {},
     "output_type": "display_data"
    },
    {
     "data": {
      "text/html": [
       "<i>357.</i>  <a accesskey=\"x\" href=\"/wiki/Special:Aleatoriu\" title=\"Мерӂе спре о паӂинэ алятоаре [x]\">Ун артикол ла ынтымпларе</a>"
      ],
      "text/plain": [
       "<IPython.core.display.HTML object>"
      ]
     },
     "metadata": {},
     "output_type": "display_data"
    },
    {
     "data": {
      "text/html": [
       "<i>358.</i>  <a href=\"https://www.mediawiki.org/wiki/Special:MyLanguage/Help:Contents\" title=\"Локул ын каре гэсешть ажутор\">Сприжин</a>"
      ],
      "text/plain": [
       "<IPython.core.display.HTML object>"
      ]
     },
     "metadata": {},
     "output_type": "display_data"
    },
    {
     "data": {
      "text/html": [
       "<i>359.</i>  <a href=\"https://donate.wikimedia.org/?utm_source=donate&amp;utm_medium=sidebar&amp;utm_campaign=spontaneous&amp;uselang=ro\" title=\"Сприжиниць-не\">Донаций</a>"
      ],
      "text/plain": [
       "<IPython.core.display.HTML object>"
      ]
     },
     "metadata": {},
     "output_type": "display_data"
    },
    {
     "data": {
      "text/html": [
       "<i>360.</i>  <a accesskey=\"q\" href=\"/wiki/Special:Pagini_speciale\" title=\"Листа тутурор паӂинилор де сервичиу [q]\">Паӂинь спечиале</a>"
      ],
      "text/plain": [
       "<IPython.core.display.HTML object>"
      ]
     },
     "metadata": {},
     "output_type": "display_data"
    },
    {
     "data": {
      "text/html": [
       "<i>361.</i>  <a accesskey=\"p\" href=\"/w/index.php?title=Special:Toate_paginile&amp;hideredirects=1&amp;printable=yes\" rel=\"alternate\" title=\"Версиуня де типэрит а ачестей паӂинь [p]\">Версиуне де типэрит</a>"
      ],
      "text/plain": [
       "<IPython.core.display.HTML object>"
      ]
     },
     "metadata": {},
     "output_type": "display_data"
    },
    {
     "data": {
      "text/html": [
       "<i>362.</i>  <a class=\"extiw\" href=\"https://wikimediafoundation.org/wiki/Privacy_policy\" title=\"wmf:Privacy policy\">Политика де интимитате</a>"
      ],
      "text/plain": [
       "<IPython.core.display.HTML object>"
      ]
     },
     "metadata": {},
     "output_type": "display_data"
    },
    {
     "data": {
      "text/html": [
       "<i>363.</i>  <a href=\"/wiki/Wikipedia:%D0%94%D0%B5%D1%81%D0%BF%D1%80%D0%B5\" title=\"Wikipedia:Деспре\">Деспре Wikipedia</a>"
      ],
      "text/plain": [
       "<IPython.core.display.HTML object>"
      ]
     },
     "metadata": {},
     "output_type": "display_data"
    },
    {
     "data": {
      "text/html": [
       "<i>364.</i>  <a href=\"/wiki/Wikipedia:%D0%94%D0%B5%D0%BA%D0%BB%D0%B0%D1%80%D0%B0%D1%86%D0%B8%D0%B5_%D3%82%D0%B5%D0%BD%D0%B5%D1%80%D0%B0%D0%BB%D1%8D\" title=\"Wikipedia:Декларацие ӂенералэ\">Деклараций</a>"
      ],
      "text/plain": [
       "<IPython.core.display.HTML object>"
      ]
     },
     "metadata": {},
     "output_type": "display_data"
    },
    {
     "data": {
      "text/html": [
       "<i>365.</i>  <a href=\"https://www.mediawiki.org/wiki/Special:MyLanguage/How_to_contribute\">Дезволтаторь</a>"
      ],
      "text/plain": [
       "<IPython.core.display.HTML object>"
      ]
     },
     "metadata": {},
     "output_type": "display_data"
    },
    {
     "data": {
      "text/html": [
       "<i>366.</i>  <a href=\"https://wikimediafoundation.org/wiki/Cookie_statement\">Cookie statement</a>"
      ],
      "text/plain": [
       "<IPython.core.display.HTML object>"
      ]
     },
     "metadata": {},
     "output_type": "display_data"
    },
    {
     "data": {
      "text/html": [
       "<i>367.</i>  <a class=\"noprint stopMobileRedirectToggle\" href=\"//mo.m.wikipedia.org/w/index.php?title=Special:Toate_paginile&amp;hideredirects=1&amp;mobileaction=toggle_view_mobile\">Версюне мобилэ</a>"
      ],
      "text/plain": [
       "<IPython.core.display.HTML object>"
      ]
     },
     "metadata": {},
     "output_type": "display_data"
    },
    {
     "data": {
      "text/html": [
       "<i>368.</i>  <a href=\"https://wikimediafoundation.org/\"><img alt=\"Wikimedia Foundation\" height=\"31\" src=\"/static/images/wikimedia-button.png\" srcset=\"/static/images/wikimedia-button-1.5x.png 1.5x, /static/images/wikimedia-button-2x.png 2x\" width=\"88\"/></a>"
      ],
      "text/plain": [
       "<IPython.core.display.HTML object>"
      ]
     },
     "metadata": {},
     "output_type": "display_data"
    },
    {
     "data": {
      "text/html": [
       "<i>369.</i>  <a href=\"//www.mediawiki.org/\"><img alt=\"Powered by MediaWiki\" height=\"31\" src=\"/static/images/poweredby_mediawiki_88x31.png\" srcset=\"/static/images/poweredby_mediawiki_132x47.png 1.5x, /static/images/poweredby_mediawiki_176x62.png 2x\" width=\"88\"/></a>"
      ],
      "text/plain": [
       "<IPython.core.display.HTML object>"
      ]
     },
     "metadata": {},
     "output_type": "display_data"
    }
   ],
   "source": [
    "url = 'http://mo.wikipedia.org'\n",
    "req = requests.get(url)\n",
    "soup = BeautifulSoup(req.text, 'lxml')\n",
    "url2 = ''\n",
    "url3 = ''\n",
    "for link1 in soup.findAll('a', href = True, text=394):\n",
    "    if link1:\n",
    "        link1['href'] = 'http://mo.wikipedia.org' + link1['href'] \n",
    "        url2 = str(link1['href'])\n",
    "req2 = requests.get(url2)\n",
    "soup2 = BeautifulSoup(req2.text, 'lxml')\n",
    "for link2 in soup2.findAll('a', href = True, text='Articole'):\n",
    "    if link2:\n",
    "        link2['href'] = 'http://mo.wikipedia.org' + link2['href'] \n",
    "        url3 = str(link2['href'])\n",
    "req3 = requests.get(url3)\n",
    "soup3 = BeautifulSoup(req3.text, 'lxml')\n",
    "for i, links in enumerate(soup3.findAll('a', href = True)):\n",
    "        if links:\n",
    "            links = '<i>{}.</i>  {}'.format(i, links)\n",
    "            display(HTML(str(links)))\n",
    "    \n",
    "    \n",
    "    \n",
    "    \n"
   ]
  },
  {
   "cell_type": "markdown",
   "metadata": {},
   "source": [
    "## ДЗ "
   ]
  },
  {
   "cell_type": "markdown",
   "metadata": {},
   "source": [
    "Написать краулер, который собирает тексты с новостного ресурса."
   ]
  },
  {
   "cell_type": "code",
   "execution_count": 58,
   "metadata": {},
   "outputs": [
    {
     "ename": "KeyboardInterrupt",
     "evalue": "",
     "output_type": "error",
     "traceback": [
      "\u001b[1;31m---------------------------------------------------------------------------\u001b[0m",
      "\u001b[1;31mTypeError\u001b[0m                                 Traceback (most recent call last)",
      "\u001b[1;32mC:\\anaconda\\Anaconda3\\lib\\site-packages\\urllib3\\connectionpool.py\u001b[0m in \u001b[0;36m_make_request\u001b[1;34m(self, conn, method, url, timeout, chunked, **httplib_request_kw)\u001b[0m\n\u001b[0;32m    379\u001b[0m             \u001b[1;32mtry\u001b[0m\u001b[1;33m:\u001b[0m  \u001b[1;31m# Python 2.7, use buffering of HTTP responses\u001b[0m\u001b[1;33m\u001b[0m\u001b[0m\n\u001b[1;32m--> 380\u001b[1;33m                 \u001b[0mhttplib_response\u001b[0m \u001b[1;33m=\u001b[0m \u001b[0mconn\u001b[0m\u001b[1;33m.\u001b[0m\u001b[0mgetresponse\u001b[0m\u001b[1;33m(\u001b[0m\u001b[0mbuffering\u001b[0m\u001b[1;33m=\u001b[0m\u001b[1;32mTrue\u001b[0m\u001b[1;33m)\u001b[0m\u001b[1;33m\u001b[0m\u001b[0m\n\u001b[0m\u001b[0;32m    381\u001b[0m             \u001b[1;32mexcept\u001b[0m \u001b[0mTypeError\u001b[0m\u001b[1;33m:\u001b[0m  \u001b[1;31m# Python 2.6 and older, Python 3\u001b[0m\u001b[1;33m\u001b[0m\u001b[0m\n",
      "\u001b[1;31mTypeError\u001b[0m: getresponse() got an unexpected keyword argument 'buffering'",
      "\nDuring handling of the above exception, another exception occurred:\n",
      "\u001b[1;31mKeyboardInterrupt\u001b[0m                         Traceback (most recent call last)",
      "\u001b[1;32m<ipython-input-58-593042947b50>\u001b[0m in \u001b[0;36m<module>\u001b[1;34m()\u001b[0m\n\u001b[0;32m      7\u001b[0m         \u001b[1;32mif\u001b[0m \u001b[0mh\u001b[0m \u001b[1;32mis\u001b[0m \u001b[1;32mnot\u001b[0m \u001b[1;32mNone\u001b[0m\u001b[1;33m:\u001b[0m\u001b[1;33m\u001b[0m\u001b[0m\n\u001b[0;32m      8\u001b[0m             \u001b[0mlink\u001b[0m \u001b[1;33m=\u001b[0m \u001b[0mh\u001b[0m\u001b[1;33m.\u001b[0m\u001b[0mfind\u001b[0m\u001b[1;33m(\u001b[0m\u001b[1;34m'a'\u001b[0m\u001b[1;33m)\u001b[0m\u001b[1;33m[\u001b[0m\u001b[1;34m'href'\u001b[0m\u001b[1;33m]\u001b[0m\u001b[1;33m\u001b[0m\u001b[0m\n\u001b[1;32m----> 9\u001b[1;33m             \u001b[0mreq2\u001b[0m \u001b[1;33m=\u001b[0m \u001b[0mrequests\u001b[0m\u001b[1;33m.\u001b[0m\u001b[0mget\u001b[0m\u001b[1;33m(\u001b[0m\u001b[0mstr\u001b[0m\u001b[1;33m(\u001b[0m\u001b[0mlink\u001b[0m\u001b[1;33m)\u001b[0m\u001b[1;33m)\u001b[0m\u001b[1;33m\u001b[0m\u001b[0m\n\u001b[0m\u001b[0;32m     10\u001b[0m             \u001b[0msoup2\u001b[0m \u001b[1;33m=\u001b[0m \u001b[0mBeautifulSoup\u001b[0m\u001b[1;33m(\u001b[0m\u001b[0mreq2\u001b[0m\u001b[1;33m.\u001b[0m\u001b[0mtext\u001b[0m\u001b[1;33m,\u001b[0m \u001b[1;34m'lxml'\u001b[0m\u001b[1;33m)\u001b[0m\u001b[1;33m\u001b[0m\u001b[0m\n\u001b[0;32m     11\u001b[0m             \u001b[0mf\u001b[0m \u001b[1;33m=\u001b[0m \u001b[0mopen\u001b[0m\u001b[1;33m(\u001b[0m\u001b[0mstr\u001b[0m\u001b[1;33m(\u001b[0m\u001b[0mj\u001b[0m\u001b[1;33m)\u001b[0m \u001b[1;33m+\u001b[0m \u001b[1;34m'.txt'\u001b[0m\u001b[1;33m,\u001b[0m \u001b[1;34m'w'\u001b[0m\u001b[1;33m,\u001b[0m \u001b[0mencoding\u001b[0m\u001b[1;33m=\u001b[0m\u001b[1;34m'utf-8'\u001b[0m\u001b[1;33m)\u001b[0m\u001b[1;33m\u001b[0m\u001b[0m\n",
      "\u001b[1;32mC:\\anaconda\\Anaconda3\\lib\\site-packages\\requests\\api.py\u001b[0m in \u001b[0;36mget\u001b[1;34m(url, params, **kwargs)\u001b[0m\n\u001b[0;32m     70\u001b[0m \u001b[1;33m\u001b[0m\u001b[0m\n\u001b[0;32m     71\u001b[0m     \u001b[0mkwargs\u001b[0m\u001b[1;33m.\u001b[0m\u001b[0msetdefault\u001b[0m\u001b[1;33m(\u001b[0m\u001b[1;34m'allow_redirects'\u001b[0m\u001b[1;33m,\u001b[0m \u001b[1;32mTrue\u001b[0m\u001b[1;33m)\u001b[0m\u001b[1;33m\u001b[0m\u001b[0m\n\u001b[1;32m---> 72\u001b[1;33m     \u001b[1;32mreturn\u001b[0m \u001b[0mrequest\u001b[0m\u001b[1;33m(\u001b[0m\u001b[1;34m'get'\u001b[0m\u001b[1;33m,\u001b[0m \u001b[0murl\u001b[0m\u001b[1;33m,\u001b[0m \u001b[0mparams\u001b[0m\u001b[1;33m=\u001b[0m\u001b[0mparams\u001b[0m\u001b[1;33m,\u001b[0m \u001b[1;33m**\u001b[0m\u001b[0mkwargs\u001b[0m\u001b[1;33m)\u001b[0m\u001b[1;33m\u001b[0m\u001b[0m\n\u001b[0m\u001b[0;32m     73\u001b[0m \u001b[1;33m\u001b[0m\u001b[0m\n\u001b[0;32m     74\u001b[0m \u001b[1;33m\u001b[0m\u001b[0m\n",
      "\u001b[1;32mC:\\anaconda\\Anaconda3\\lib\\site-packages\\requests\\api.py\u001b[0m in \u001b[0;36mrequest\u001b[1;34m(method, url, **kwargs)\u001b[0m\n\u001b[0;32m     56\u001b[0m     \u001b[1;31m# cases, and look like a memory leak in others.\u001b[0m\u001b[1;33m\u001b[0m\u001b[1;33m\u001b[0m\u001b[0m\n\u001b[0;32m     57\u001b[0m     \u001b[1;32mwith\u001b[0m \u001b[0msessions\u001b[0m\u001b[1;33m.\u001b[0m\u001b[0mSession\u001b[0m\u001b[1;33m(\u001b[0m\u001b[1;33m)\u001b[0m \u001b[1;32mas\u001b[0m \u001b[0msession\u001b[0m\u001b[1;33m:\u001b[0m\u001b[1;33m\u001b[0m\u001b[0m\n\u001b[1;32m---> 58\u001b[1;33m         \u001b[1;32mreturn\u001b[0m \u001b[0msession\u001b[0m\u001b[1;33m.\u001b[0m\u001b[0mrequest\u001b[0m\u001b[1;33m(\u001b[0m\u001b[0mmethod\u001b[0m\u001b[1;33m=\u001b[0m\u001b[0mmethod\u001b[0m\u001b[1;33m,\u001b[0m \u001b[0murl\u001b[0m\u001b[1;33m=\u001b[0m\u001b[0murl\u001b[0m\u001b[1;33m,\u001b[0m \u001b[1;33m**\u001b[0m\u001b[0mkwargs\u001b[0m\u001b[1;33m)\u001b[0m\u001b[1;33m\u001b[0m\u001b[0m\n\u001b[0m\u001b[0;32m     59\u001b[0m \u001b[1;33m\u001b[0m\u001b[0m\n\u001b[0;32m     60\u001b[0m \u001b[1;33m\u001b[0m\u001b[0m\n",
      "\u001b[1;32mC:\\anaconda\\Anaconda3\\lib\\site-packages\\requests\\sessions.py\u001b[0m in \u001b[0;36mrequest\u001b[1;34m(self, method, url, params, data, headers, cookies, files, auth, timeout, allow_redirects, proxies, hooks, stream, verify, cert, json)\u001b[0m\n\u001b[0;32m    506\u001b[0m         }\n\u001b[0;32m    507\u001b[0m         \u001b[0msend_kwargs\u001b[0m\u001b[1;33m.\u001b[0m\u001b[0mupdate\u001b[0m\u001b[1;33m(\u001b[0m\u001b[0msettings\u001b[0m\u001b[1;33m)\u001b[0m\u001b[1;33m\u001b[0m\u001b[0m\n\u001b[1;32m--> 508\u001b[1;33m         \u001b[0mresp\u001b[0m \u001b[1;33m=\u001b[0m \u001b[0mself\u001b[0m\u001b[1;33m.\u001b[0m\u001b[0msend\u001b[0m\u001b[1;33m(\u001b[0m\u001b[0mprep\u001b[0m\u001b[1;33m,\u001b[0m \u001b[1;33m**\u001b[0m\u001b[0msend_kwargs\u001b[0m\u001b[1;33m)\u001b[0m\u001b[1;33m\u001b[0m\u001b[0m\n\u001b[0m\u001b[0;32m    509\u001b[0m \u001b[1;33m\u001b[0m\u001b[0m\n\u001b[0;32m    510\u001b[0m         \u001b[1;32mreturn\u001b[0m \u001b[0mresp\u001b[0m\u001b[1;33m\u001b[0m\u001b[0m\n",
      "\u001b[1;32mC:\\anaconda\\Anaconda3\\lib\\site-packages\\requests\\sessions.py\u001b[0m in \u001b[0;36msend\u001b[1;34m(self, request, **kwargs)\u001b[0m\n\u001b[0;32m    616\u001b[0m \u001b[1;33m\u001b[0m\u001b[0m\n\u001b[0;32m    617\u001b[0m         \u001b[1;31m# Send the request\u001b[0m\u001b[1;33m\u001b[0m\u001b[1;33m\u001b[0m\u001b[0m\n\u001b[1;32m--> 618\u001b[1;33m         \u001b[0mr\u001b[0m \u001b[1;33m=\u001b[0m \u001b[0madapter\u001b[0m\u001b[1;33m.\u001b[0m\u001b[0msend\u001b[0m\u001b[1;33m(\u001b[0m\u001b[0mrequest\u001b[0m\u001b[1;33m,\u001b[0m \u001b[1;33m**\u001b[0m\u001b[0mkwargs\u001b[0m\u001b[1;33m)\u001b[0m\u001b[1;33m\u001b[0m\u001b[0m\n\u001b[0m\u001b[0;32m    619\u001b[0m \u001b[1;33m\u001b[0m\u001b[0m\n\u001b[0;32m    620\u001b[0m         \u001b[1;31m# Total elapsed time of the request (approximately)\u001b[0m\u001b[1;33m\u001b[0m\u001b[1;33m\u001b[0m\u001b[0m\n",
      "\u001b[1;32mC:\\anaconda\\Anaconda3\\lib\\site-packages\\requests\\adapters.py\u001b[0m in \u001b[0;36msend\u001b[1;34m(self, request, stream, timeout, verify, cert, proxies)\u001b[0m\n\u001b[0;32m    438\u001b[0m                     \u001b[0mdecode_content\u001b[0m\u001b[1;33m=\u001b[0m\u001b[1;32mFalse\u001b[0m\u001b[1;33m,\u001b[0m\u001b[1;33m\u001b[0m\u001b[0m\n\u001b[0;32m    439\u001b[0m                     \u001b[0mretries\u001b[0m\u001b[1;33m=\u001b[0m\u001b[0mself\u001b[0m\u001b[1;33m.\u001b[0m\u001b[0mmax_retries\u001b[0m\u001b[1;33m,\u001b[0m\u001b[1;33m\u001b[0m\u001b[0m\n\u001b[1;32m--> 440\u001b[1;33m                     \u001b[0mtimeout\u001b[0m\u001b[1;33m=\u001b[0m\u001b[0mtimeout\u001b[0m\u001b[1;33m\u001b[0m\u001b[0m\n\u001b[0m\u001b[0;32m    441\u001b[0m                 )\n\u001b[0;32m    442\u001b[0m \u001b[1;33m\u001b[0m\u001b[0m\n",
      "\u001b[1;32mC:\\anaconda\\Anaconda3\\lib\\site-packages\\urllib3\\connectionpool.py\u001b[0m in \u001b[0;36murlopen\u001b[1;34m(self, method, url, body, headers, retries, redirect, assert_same_host, timeout, pool_timeout, release_conn, chunked, body_pos, **response_kw)\u001b[0m\n\u001b[0;32m    599\u001b[0m                                                   \u001b[0mtimeout\u001b[0m\u001b[1;33m=\u001b[0m\u001b[0mtimeout_obj\u001b[0m\u001b[1;33m,\u001b[0m\u001b[1;33m\u001b[0m\u001b[0m\n\u001b[0;32m    600\u001b[0m                                                   \u001b[0mbody\u001b[0m\u001b[1;33m=\u001b[0m\u001b[0mbody\u001b[0m\u001b[1;33m,\u001b[0m \u001b[0mheaders\u001b[0m\u001b[1;33m=\u001b[0m\u001b[0mheaders\u001b[0m\u001b[1;33m,\u001b[0m\u001b[1;33m\u001b[0m\u001b[0m\n\u001b[1;32m--> 601\u001b[1;33m                                                   chunked=chunked)\n\u001b[0m\u001b[0;32m    602\u001b[0m \u001b[1;33m\u001b[0m\u001b[0m\n\u001b[0;32m    603\u001b[0m             \u001b[1;31m# If we're going to release the connection in ``finally:``, then\u001b[0m\u001b[1;33m\u001b[0m\u001b[1;33m\u001b[0m\u001b[0m\n",
      "\u001b[1;32mC:\\anaconda\\Anaconda3\\lib\\site-packages\\urllib3\\connectionpool.py\u001b[0m in \u001b[0;36m_make_request\u001b[1;34m(self, conn, method, url, timeout, chunked, **httplib_request_kw)\u001b[0m\n\u001b[0;32m    381\u001b[0m             \u001b[1;32mexcept\u001b[0m \u001b[0mTypeError\u001b[0m\u001b[1;33m:\u001b[0m  \u001b[1;31m# Python 2.6 and older, Python 3\u001b[0m\u001b[1;33m\u001b[0m\u001b[0m\n\u001b[0;32m    382\u001b[0m                 \u001b[1;32mtry\u001b[0m\u001b[1;33m:\u001b[0m\u001b[1;33m\u001b[0m\u001b[0m\n\u001b[1;32m--> 383\u001b[1;33m                     \u001b[0mhttplib_response\u001b[0m \u001b[1;33m=\u001b[0m \u001b[0mconn\u001b[0m\u001b[1;33m.\u001b[0m\u001b[0mgetresponse\u001b[0m\u001b[1;33m(\u001b[0m\u001b[1;33m)\u001b[0m\u001b[1;33m\u001b[0m\u001b[0m\n\u001b[0m\u001b[0;32m    384\u001b[0m                 \u001b[1;32mexcept\u001b[0m \u001b[0mException\u001b[0m \u001b[1;32mas\u001b[0m \u001b[0me\u001b[0m\u001b[1;33m:\u001b[0m\u001b[1;33m\u001b[0m\u001b[0m\n\u001b[0;32m    385\u001b[0m                     \u001b[1;31m# Remove the TypeError from the exception chain in Python 3;\u001b[0m\u001b[1;33m\u001b[0m\u001b[1;33m\u001b[0m\u001b[0m\n",
      "\u001b[1;32mC:\\anaconda\\Anaconda3\\lib\\http\\client.py\u001b[0m in \u001b[0;36mgetresponse\u001b[1;34m(self)\u001b[0m\n\u001b[0;32m   1329\u001b[0m         \u001b[1;32mtry\u001b[0m\u001b[1;33m:\u001b[0m\u001b[1;33m\u001b[0m\u001b[0m\n\u001b[0;32m   1330\u001b[0m             \u001b[1;32mtry\u001b[0m\u001b[1;33m:\u001b[0m\u001b[1;33m\u001b[0m\u001b[0m\n\u001b[1;32m-> 1331\u001b[1;33m                 \u001b[0mresponse\u001b[0m\u001b[1;33m.\u001b[0m\u001b[0mbegin\u001b[0m\u001b[1;33m(\u001b[0m\u001b[1;33m)\u001b[0m\u001b[1;33m\u001b[0m\u001b[0m\n\u001b[0m\u001b[0;32m   1332\u001b[0m             \u001b[1;32mexcept\u001b[0m \u001b[0mConnectionError\u001b[0m\u001b[1;33m:\u001b[0m\u001b[1;33m\u001b[0m\u001b[0m\n\u001b[0;32m   1333\u001b[0m                 \u001b[0mself\u001b[0m\u001b[1;33m.\u001b[0m\u001b[0mclose\u001b[0m\u001b[1;33m(\u001b[0m\u001b[1;33m)\u001b[0m\u001b[1;33m\u001b[0m\u001b[0m\n",
      "\u001b[1;32mC:\\anaconda\\Anaconda3\\lib\\http\\client.py\u001b[0m in \u001b[0;36mbegin\u001b[1;34m(self)\u001b[0m\n\u001b[0;32m    295\u001b[0m         \u001b[1;31m# read until we get a non-100 response\u001b[0m\u001b[1;33m\u001b[0m\u001b[1;33m\u001b[0m\u001b[0m\n\u001b[0;32m    296\u001b[0m         \u001b[1;32mwhile\u001b[0m \u001b[1;32mTrue\u001b[0m\u001b[1;33m:\u001b[0m\u001b[1;33m\u001b[0m\u001b[0m\n\u001b[1;32m--> 297\u001b[1;33m             \u001b[0mversion\u001b[0m\u001b[1;33m,\u001b[0m \u001b[0mstatus\u001b[0m\u001b[1;33m,\u001b[0m \u001b[0mreason\u001b[0m \u001b[1;33m=\u001b[0m \u001b[0mself\u001b[0m\u001b[1;33m.\u001b[0m\u001b[0m_read_status\u001b[0m\u001b[1;33m(\u001b[0m\u001b[1;33m)\u001b[0m\u001b[1;33m\u001b[0m\u001b[0m\n\u001b[0m\u001b[0;32m    298\u001b[0m             \u001b[1;32mif\u001b[0m \u001b[0mstatus\u001b[0m \u001b[1;33m!=\u001b[0m \u001b[0mCONTINUE\u001b[0m\u001b[1;33m:\u001b[0m\u001b[1;33m\u001b[0m\u001b[0m\n\u001b[0;32m    299\u001b[0m                 \u001b[1;32mbreak\u001b[0m\u001b[1;33m\u001b[0m\u001b[0m\n",
      "\u001b[1;32mC:\\anaconda\\Anaconda3\\lib\\http\\client.py\u001b[0m in \u001b[0;36m_read_status\u001b[1;34m(self)\u001b[0m\n\u001b[0;32m    256\u001b[0m \u001b[1;33m\u001b[0m\u001b[0m\n\u001b[0;32m    257\u001b[0m     \u001b[1;32mdef\u001b[0m \u001b[0m_read_status\u001b[0m\u001b[1;33m(\u001b[0m\u001b[0mself\u001b[0m\u001b[1;33m)\u001b[0m\u001b[1;33m:\u001b[0m\u001b[1;33m\u001b[0m\u001b[0m\n\u001b[1;32m--> 258\u001b[1;33m         \u001b[0mline\u001b[0m \u001b[1;33m=\u001b[0m \u001b[0mstr\u001b[0m\u001b[1;33m(\u001b[0m\u001b[0mself\u001b[0m\u001b[1;33m.\u001b[0m\u001b[0mfp\u001b[0m\u001b[1;33m.\u001b[0m\u001b[0mreadline\u001b[0m\u001b[1;33m(\u001b[0m\u001b[0m_MAXLINE\u001b[0m \u001b[1;33m+\u001b[0m \u001b[1;36m1\u001b[0m\u001b[1;33m)\u001b[0m\u001b[1;33m,\u001b[0m \u001b[1;34m\"iso-8859-1\"\u001b[0m\u001b[1;33m)\u001b[0m\u001b[1;33m\u001b[0m\u001b[0m\n\u001b[0m\u001b[0;32m    259\u001b[0m         \u001b[1;32mif\u001b[0m \u001b[0mlen\u001b[0m\u001b[1;33m(\u001b[0m\u001b[0mline\u001b[0m\u001b[1;33m)\u001b[0m \u001b[1;33m>\u001b[0m \u001b[0m_MAXLINE\u001b[0m\u001b[1;33m:\u001b[0m\u001b[1;33m\u001b[0m\u001b[0m\n\u001b[0;32m    260\u001b[0m             \u001b[1;32mraise\u001b[0m \u001b[0mLineTooLong\u001b[0m\u001b[1;33m(\u001b[0m\u001b[1;34m\"status line\"\u001b[0m\u001b[1;33m)\u001b[0m\u001b[1;33m\u001b[0m\u001b[0m\n",
      "\u001b[1;32mC:\\anaconda\\Anaconda3\\lib\\socket.py\u001b[0m in \u001b[0;36mreadinto\u001b[1;34m(self, b)\u001b[0m\n\u001b[0;32m    584\u001b[0m         \u001b[1;32mwhile\u001b[0m \u001b[1;32mTrue\u001b[0m\u001b[1;33m:\u001b[0m\u001b[1;33m\u001b[0m\u001b[0m\n\u001b[0;32m    585\u001b[0m             \u001b[1;32mtry\u001b[0m\u001b[1;33m:\u001b[0m\u001b[1;33m\u001b[0m\u001b[0m\n\u001b[1;32m--> 586\u001b[1;33m                 \u001b[1;32mreturn\u001b[0m \u001b[0mself\u001b[0m\u001b[1;33m.\u001b[0m\u001b[0m_sock\u001b[0m\u001b[1;33m.\u001b[0m\u001b[0mrecv_into\u001b[0m\u001b[1;33m(\u001b[0m\u001b[0mb\u001b[0m\u001b[1;33m)\u001b[0m\u001b[1;33m\u001b[0m\u001b[0m\n\u001b[0m\u001b[0;32m    587\u001b[0m             \u001b[1;32mexcept\u001b[0m \u001b[0mtimeout\u001b[0m\u001b[1;33m:\u001b[0m\u001b[1;33m\u001b[0m\u001b[0m\n\u001b[0;32m    588\u001b[0m                 \u001b[0mself\u001b[0m\u001b[1;33m.\u001b[0m\u001b[0m_timeout_occurred\u001b[0m \u001b[1;33m=\u001b[0m \u001b[1;32mTrue\u001b[0m\u001b[1;33m\u001b[0m\u001b[0m\n",
      "\u001b[1;31mKeyboardInterrupt\u001b[0m: "
     ]
    }
   ],
   "source": [
    "url = 'http://vechufa.ru/news/page/'\n",
    "j = 1\n",
    "for i in range(1,101):\n",
    "    req = requests.get(url+str(i)+'/')\n",
    "    soup = BeautifulSoup(req.text, 'lxml')\n",
    "    for h in soup.findAll('div', attrs = {'class':'full-right'}):\n",
    "        if h is not None:\n",
    "            link = h.find('a')['href']\n",
    "            req2 = requests.get(str(link))\n",
    "            soup2 = BeautifulSoup(req2.text, 'lxml')\n",
    "            f = open(str(j) + '.txt', 'w', encoding='utf-8')\n",
    "            for t in soup2.findAll('div', attrs = {'class':'text-content'}):\n",
    "                author = t.find('div', attrs={'style':'text-align:right;'})\n",
    "                if author:\n",
    "                    f.write('@au' + ' ' + author.text + '\\n')\n",
    "                else:\n",
    "                    f.write('@au' + ' ' + 'Noname' + '\\n')\n",
    "                hea = t.find('h1')\n",
    "                if hea:\n",
    "                    f.write('@ti' + ' ' + hea.text + '\\n')\n",
    "                date = t.find('div', attrs={'class':'full'})\n",
    "                if date:\n",
    "                    f.write('@da' + ' ' + date.p.contents[1] + '\\n')\n",
    "                f.write('@url'+ ' ' + req2.url + '\\n')\n",
    "                te = t.find('div', attrs={'style':'display:inline;'})\n",
    "                if te:\n",
    "                    f.write(te.text)\n",
    "            f.close()\n",
    "            j+=1\n",
    "            \n",
    "            \n",
    "            \n",
    "    \n",
    "\n",
    "                \n",
    "                \n",
    "                    \n",
    "                    \n",
    "            \n",
    "\n"
   ]
  },
  {
   "cell_type": "code",
   "execution_count": null,
   "metadata": {
    "collapsed": true
   },
   "outputs": [],
   "source": []
  },
  {
   "cell_type": "code",
   "execution_count": null,
   "metadata": {
    "collapsed": true
   },
   "outputs": [],
   "source": []
  }
 ],
 "metadata": {
  "kernelspec": {
   "display_name": "Python 3",
   "language": "python",
   "name": "python3"
  },
  "language_info": {
   "codemirror_mode": {
    "name": "ipython",
    "version": 3
   },
   "file_extension": ".py",
   "mimetype": "text/x-python",
   "name": "python",
   "nbconvert_exporter": "python",
   "pygments_lexer": "ipython3",
   "version": "3.6.2"
  }
 },
 "nbformat": 4,
 "nbformat_minor": 2
}
